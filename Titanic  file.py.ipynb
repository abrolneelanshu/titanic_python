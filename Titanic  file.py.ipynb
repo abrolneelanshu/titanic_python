{
 "cells": [
  {
   "cell_type": "code",
   "execution_count": 1,
   "metadata": {},
   "outputs": [],
   "source": [
    "import numpy as np \n",
    "import pandas as pd\n",
    "import seaborn as sns \n",
    "import matplotlib.pyplot as plt\n",
    "%matplotlib inline\n"
   ]
  },
  {
   "cell_type": "code",
   "execution_count": 181,
   "metadata": {},
   "outputs": [],
   "source": [
    "df=pd.read_csv(\"train.csv\")\n",
    "#df_test=pd.read_csv(\"test.csv\")\n",
    "#df_gender=pd.read_csv(\"gender_submission.csv\")"
   ]
  },
  {
   "cell_type": "code",
   "execution_count": 3,
   "metadata": {},
   "outputs": [
    {
     "data": {
      "text/html": [
       "<div>\n",
       "<style scoped>\n",
       "    .dataframe tbody tr th:only-of-type {\n",
       "        vertical-align: middle;\n",
       "    }\n",
       "\n",
       "    .dataframe tbody tr th {\n",
       "        vertical-align: top;\n",
       "    }\n",
       "\n",
       "    .dataframe thead th {\n",
       "        text-align: right;\n",
       "    }\n",
       "</style>\n",
       "<table border=\"1\" class=\"dataframe\">\n",
       "  <thead>\n",
       "    <tr style=\"text-align: right;\">\n",
       "      <th></th>\n",
       "      <th>PassengerId</th>\n",
       "      <th>Survived</th>\n",
       "      <th>Pclass</th>\n",
       "      <th>Name</th>\n",
       "      <th>Sex</th>\n",
       "      <th>Age</th>\n",
       "      <th>SibSp</th>\n",
       "      <th>Parch</th>\n",
       "      <th>Ticket</th>\n",
       "      <th>Fare</th>\n",
       "      <th>Cabin</th>\n",
       "      <th>Embarked</th>\n",
       "    </tr>\n",
       "  </thead>\n",
       "  <tbody>\n",
       "    <tr>\n",
       "      <th>0</th>\n",
       "      <td>1</td>\n",
       "      <td>0</td>\n",
       "      <td>3</td>\n",
       "      <td>Braund, Mr. Owen Harris</td>\n",
       "      <td>male</td>\n",
       "      <td>22.0</td>\n",
       "      <td>1</td>\n",
       "      <td>0</td>\n",
       "      <td>A/5 21171</td>\n",
       "      <td>7.2500</td>\n",
       "      <td>NaN</td>\n",
       "      <td>S</td>\n",
       "    </tr>\n",
       "    <tr>\n",
       "      <th>1</th>\n",
       "      <td>2</td>\n",
       "      <td>1</td>\n",
       "      <td>1</td>\n",
       "      <td>Cumings, Mrs. John Bradley (Florence Briggs Th...</td>\n",
       "      <td>female</td>\n",
       "      <td>38.0</td>\n",
       "      <td>1</td>\n",
       "      <td>0</td>\n",
       "      <td>PC 17599</td>\n",
       "      <td>71.2833</td>\n",
       "      <td>C85</td>\n",
       "      <td>C</td>\n",
       "    </tr>\n",
       "    <tr>\n",
       "      <th>2</th>\n",
       "      <td>3</td>\n",
       "      <td>1</td>\n",
       "      <td>3</td>\n",
       "      <td>Heikkinen, Miss. Laina</td>\n",
       "      <td>female</td>\n",
       "      <td>26.0</td>\n",
       "      <td>0</td>\n",
       "      <td>0</td>\n",
       "      <td>STON/O2. 3101282</td>\n",
       "      <td>7.9250</td>\n",
       "      <td>NaN</td>\n",
       "      <td>S</td>\n",
       "    </tr>\n",
       "    <tr>\n",
       "      <th>3</th>\n",
       "      <td>4</td>\n",
       "      <td>1</td>\n",
       "      <td>1</td>\n",
       "      <td>Futrelle, Mrs. Jacques Heath (Lily May Peel)</td>\n",
       "      <td>female</td>\n",
       "      <td>35.0</td>\n",
       "      <td>1</td>\n",
       "      <td>0</td>\n",
       "      <td>113803</td>\n",
       "      <td>53.1000</td>\n",
       "      <td>C123</td>\n",
       "      <td>S</td>\n",
       "    </tr>\n",
       "    <tr>\n",
       "      <th>4</th>\n",
       "      <td>5</td>\n",
       "      <td>0</td>\n",
       "      <td>3</td>\n",
       "      <td>Allen, Mr. William Henry</td>\n",
       "      <td>male</td>\n",
       "      <td>35.0</td>\n",
       "      <td>0</td>\n",
       "      <td>0</td>\n",
       "      <td>373450</td>\n",
       "      <td>8.0500</td>\n",
       "      <td>NaN</td>\n",
       "      <td>S</td>\n",
       "    </tr>\n",
       "  </tbody>\n",
       "</table>\n",
       "</div>"
      ],
      "text/plain": [
       "   PassengerId  Survived  Pclass  \\\n",
       "0            1         0       3   \n",
       "1            2         1       1   \n",
       "2            3         1       3   \n",
       "3            4         1       1   \n",
       "4            5         0       3   \n",
       "\n",
       "                                                Name     Sex   Age  SibSp  \\\n",
       "0                            Braund, Mr. Owen Harris    male  22.0      1   \n",
       "1  Cumings, Mrs. John Bradley (Florence Briggs Th...  female  38.0      1   \n",
       "2                             Heikkinen, Miss. Laina  female  26.0      0   \n",
       "3       Futrelle, Mrs. Jacques Heath (Lily May Peel)  female  35.0      1   \n",
       "4                           Allen, Mr. William Henry    male  35.0      0   \n",
       "\n",
       "   Parch            Ticket     Fare Cabin Embarked  \n",
       "0      0         A/5 21171   7.2500   NaN        S  \n",
       "1      0          PC 17599  71.2833   C85        C  \n",
       "2      0  STON/O2. 3101282   7.9250   NaN        S  \n",
       "3      0            113803  53.1000  C123        S  \n",
       "4      0            373450   8.0500   NaN        S  "
      ]
     },
     "execution_count": 3,
     "metadata": {},
     "output_type": "execute_result"
    }
   ],
   "source": [
    "df.head()"
   ]
  },
  {
   "cell_type": "code",
   "execution_count": 4,
   "metadata": {},
   "outputs": [
    {
     "data": {
      "text/html": [
       "<div>\n",
       "<style scoped>\n",
       "    .dataframe tbody tr th:only-of-type {\n",
       "        vertical-align: middle;\n",
       "    }\n",
       "\n",
       "    .dataframe tbody tr th {\n",
       "        vertical-align: top;\n",
       "    }\n",
       "\n",
       "    .dataframe thead th {\n",
       "        text-align: right;\n",
       "    }\n",
       "</style>\n",
       "<table border=\"1\" class=\"dataframe\">\n",
       "  <thead>\n",
       "    <tr style=\"text-align: right;\">\n",
       "      <th></th>\n",
       "      <th>PassengerId</th>\n",
       "      <th>Survived</th>\n",
       "      <th>Pclass</th>\n",
       "      <th>Name</th>\n",
       "      <th>Sex</th>\n",
       "      <th>Age</th>\n",
       "      <th>SibSp</th>\n",
       "      <th>Parch</th>\n",
       "      <th>Ticket</th>\n",
       "      <th>Fare</th>\n",
       "      <th>Cabin</th>\n",
       "      <th>Embarked</th>\n",
       "    </tr>\n",
       "  </thead>\n",
       "  <tbody>\n",
       "    <tr>\n",
       "      <th>0</th>\n",
       "      <td>1</td>\n",
       "      <td>0</td>\n",
       "      <td>3</td>\n",
       "      <td>Braund, Mr. Owen Harris</td>\n",
       "      <td>male</td>\n",
       "      <td>22.0</td>\n",
       "      <td>1</td>\n",
       "      <td>0</td>\n",
       "      <td>A/5 21171</td>\n",
       "      <td>7.2500</td>\n",
       "      <td>NaN</td>\n",
       "      <td>S</td>\n",
       "    </tr>\n",
       "    <tr>\n",
       "      <th>1</th>\n",
       "      <td>2</td>\n",
       "      <td>1</td>\n",
       "      <td>1</td>\n",
       "      <td>Cumings, Mrs. John Bradley (Florence Briggs Th...</td>\n",
       "      <td>female</td>\n",
       "      <td>38.0</td>\n",
       "      <td>1</td>\n",
       "      <td>0</td>\n",
       "      <td>PC 17599</td>\n",
       "      <td>71.2833</td>\n",
       "      <td>C85</td>\n",
       "      <td>C</td>\n",
       "    </tr>\n",
       "    <tr>\n",
       "      <th>2</th>\n",
       "      <td>3</td>\n",
       "      <td>1</td>\n",
       "      <td>3</td>\n",
       "      <td>Heikkinen, Miss. Laina</td>\n",
       "      <td>female</td>\n",
       "      <td>26.0</td>\n",
       "      <td>0</td>\n",
       "      <td>0</td>\n",
       "      <td>STON/O2. 3101282</td>\n",
       "      <td>7.9250</td>\n",
       "      <td>NaN</td>\n",
       "      <td>S</td>\n",
       "    </tr>\n",
       "    <tr>\n",
       "      <th>3</th>\n",
       "      <td>4</td>\n",
       "      <td>1</td>\n",
       "      <td>1</td>\n",
       "      <td>Futrelle, Mrs. Jacques Heath (Lily May Peel)</td>\n",
       "      <td>female</td>\n",
       "      <td>35.0</td>\n",
       "      <td>1</td>\n",
       "      <td>0</td>\n",
       "      <td>113803</td>\n",
       "      <td>53.1000</td>\n",
       "      <td>C123</td>\n",
       "      <td>S</td>\n",
       "    </tr>\n",
       "    <tr>\n",
       "      <th>4</th>\n",
       "      <td>5</td>\n",
       "      <td>0</td>\n",
       "      <td>3</td>\n",
       "      <td>Allen, Mr. William Henry</td>\n",
       "      <td>male</td>\n",
       "      <td>35.0</td>\n",
       "      <td>0</td>\n",
       "      <td>0</td>\n",
       "      <td>373450</td>\n",
       "      <td>8.0500</td>\n",
       "      <td>NaN</td>\n",
       "      <td>S</td>\n",
       "    </tr>\n",
       "    <tr>\n",
       "      <th>5</th>\n",
       "      <td>6</td>\n",
       "      <td>0</td>\n",
       "      <td>3</td>\n",
       "      <td>Moran, Mr. James</td>\n",
       "      <td>male</td>\n",
       "      <td>NaN</td>\n",
       "      <td>0</td>\n",
       "      <td>0</td>\n",
       "      <td>330877</td>\n",
       "      <td>8.4583</td>\n",
       "      <td>NaN</td>\n",
       "      <td>Q</td>\n",
       "    </tr>\n",
       "    <tr>\n",
       "      <th>6</th>\n",
       "      <td>7</td>\n",
       "      <td>0</td>\n",
       "      <td>1</td>\n",
       "      <td>McCarthy, Mr. Timothy J</td>\n",
       "      <td>male</td>\n",
       "      <td>54.0</td>\n",
       "      <td>0</td>\n",
       "      <td>0</td>\n",
       "      <td>17463</td>\n",
       "      <td>51.8625</td>\n",
       "      <td>E46</td>\n",
       "      <td>S</td>\n",
       "    </tr>\n",
       "    <tr>\n",
       "      <th>7</th>\n",
       "      <td>8</td>\n",
       "      <td>0</td>\n",
       "      <td>3</td>\n",
       "      <td>Palsson, Master. Gosta Leonard</td>\n",
       "      <td>male</td>\n",
       "      <td>2.0</td>\n",
       "      <td>3</td>\n",
       "      <td>1</td>\n",
       "      <td>349909</td>\n",
       "      <td>21.0750</td>\n",
       "      <td>NaN</td>\n",
       "      <td>S</td>\n",
       "    </tr>\n",
       "    <tr>\n",
       "      <th>8</th>\n",
       "      <td>9</td>\n",
       "      <td>1</td>\n",
       "      <td>3</td>\n",
       "      <td>Johnson, Mrs. Oscar W (Elisabeth Vilhelmina Berg)</td>\n",
       "      <td>female</td>\n",
       "      <td>27.0</td>\n",
       "      <td>0</td>\n",
       "      <td>2</td>\n",
       "      <td>347742</td>\n",
       "      <td>11.1333</td>\n",
       "      <td>NaN</td>\n",
       "      <td>S</td>\n",
       "    </tr>\n",
       "    <tr>\n",
       "      <th>9</th>\n",
       "      <td>10</td>\n",
       "      <td>1</td>\n",
       "      <td>2</td>\n",
       "      <td>Nasser, Mrs. Nicholas (Adele Achem)</td>\n",
       "      <td>female</td>\n",
       "      <td>14.0</td>\n",
       "      <td>1</td>\n",
       "      <td>0</td>\n",
       "      <td>237736</td>\n",
       "      <td>30.0708</td>\n",
       "      <td>NaN</td>\n",
       "      <td>C</td>\n",
       "    </tr>\n",
       "  </tbody>\n",
       "</table>\n",
       "</div>"
      ],
      "text/plain": [
       "   PassengerId  Survived  Pclass  \\\n",
       "0            1         0       3   \n",
       "1            2         1       1   \n",
       "2            3         1       3   \n",
       "3            4         1       1   \n",
       "4            5         0       3   \n",
       "5            6         0       3   \n",
       "6            7         0       1   \n",
       "7            8         0       3   \n",
       "8            9         1       3   \n",
       "9           10         1       2   \n",
       "\n",
       "                                                Name     Sex   Age  SibSp  \\\n",
       "0                            Braund, Mr. Owen Harris    male  22.0      1   \n",
       "1  Cumings, Mrs. John Bradley (Florence Briggs Th...  female  38.0      1   \n",
       "2                             Heikkinen, Miss. Laina  female  26.0      0   \n",
       "3       Futrelle, Mrs. Jacques Heath (Lily May Peel)  female  35.0      1   \n",
       "4                           Allen, Mr. William Henry    male  35.0      0   \n",
       "5                                   Moran, Mr. James    male   NaN      0   \n",
       "6                            McCarthy, Mr. Timothy J    male  54.0      0   \n",
       "7                     Palsson, Master. Gosta Leonard    male   2.0      3   \n",
       "8  Johnson, Mrs. Oscar W (Elisabeth Vilhelmina Berg)  female  27.0      0   \n",
       "9                Nasser, Mrs. Nicholas (Adele Achem)  female  14.0      1   \n",
       "\n",
       "   Parch            Ticket     Fare Cabin Embarked  \n",
       "0      0         A/5 21171   7.2500   NaN        S  \n",
       "1      0          PC 17599  71.2833   C85        C  \n",
       "2      0  STON/O2. 3101282   7.9250   NaN        S  \n",
       "3      0            113803  53.1000  C123        S  \n",
       "4      0            373450   8.0500   NaN        S  \n",
       "5      0            330877   8.4583   NaN        Q  \n",
       "6      0             17463  51.8625   E46        S  \n",
       "7      1            349909  21.0750   NaN        S  \n",
       "8      2            347742  11.1333   NaN        S  \n",
       "9      0            237736  30.0708   NaN        C  "
      ]
     },
     "execution_count": 4,
     "metadata": {},
     "output_type": "execute_result"
    }
   ],
   "source": [
    "df.head(10)"
   ]
  },
  {
   "cell_type": "code",
   "execution_count": 5,
   "metadata": {},
   "outputs": [
    {
     "data": {
      "text/html": [
       "<div>\n",
       "<style scoped>\n",
       "    .dataframe tbody tr th:only-of-type {\n",
       "        vertical-align: middle;\n",
       "    }\n",
       "\n",
       "    .dataframe tbody tr th {\n",
       "        vertical-align: top;\n",
       "    }\n",
       "\n",
       "    .dataframe thead th {\n",
       "        text-align: right;\n",
       "    }\n",
       "</style>\n",
       "<table border=\"1\" class=\"dataframe\">\n",
       "  <thead>\n",
       "    <tr style=\"text-align: right;\">\n",
       "      <th></th>\n",
       "      <th>PassengerId</th>\n",
       "      <th>Survived</th>\n",
       "      <th>Pclass</th>\n",
       "      <th>Name</th>\n",
       "      <th>Sex</th>\n",
       "      <th>Age</th>\n",
       "      <th>SibSp</th>\n",
       "      <th>Parch</th>\n",
       "      <th>Ticket</th>\n",
       "      <th>Fare</th>\n",
       "      <th>Cabin</th>\n",
       "      <th>Embarked</th>\n",
       "    </tr>\n",
       "  </thead>\n",
       "  <tbody>\n",
       "    <tr>\n",
       "      <th>886</th>\n",
       "      <td>887</td>\n",
       "      <td>0</td>\n",
       "      <td>2</td>\n",
       "      <td>Montvila, Rev. Juozas</td>\n",
       "      <td>male</td>\n",
       "      <td>27.0</td>\n",
       "      <td>0</td>\n",
       "      <td>0</td>\n",
       "      <td>211536</td>\n",
       "      <td>13.00</td>\n",
       "      <td>NaN</td>\n",
       "      <td>S</td>\n",
       "    </tr>\n",
       "    <tr>\n",
       "      <th>887</th>\n",
       "      <td>888</td>\n",
       "      <td>1</td>\n",
       "      <td>1</td>\n",
       "      <td>Graham, Miss. Margaret Edith</td>\n",
       "      <td>female</td>\n",
       "      <td>19.0</td>\n",
       "      <td>0</td>\n",
       "      <td>0</td>\n",
       "      <td>112053</td>\n",
       "      <td>30.00</td>\n",
       "      <td>B42</td>\n",
       "      <td>S</td>\n",
       "    </tr>\n",
       "    <tr>\n",
       "      <th>888</th>\n",
       "      <td>889</td>\n",
       "      <td>0</td>\n",
       "      <td>3</td>\n",
       "      <td>Johnston, Miss. Catherine Helen \"Carrie\"</td>\n",
       "      <td>female</td>\n",
       "      <td>NaN</td>\n",
       "      <td>1</td>\n",
       "      <td>2</td>\n",
       "      <td>W./C. 6607</td>\n",
       "      <td>23.45</td>\n",
       "      <td>NaN</td>\n",
       "      <td>S</td>\n",
       "    </tr>\n",
       "    <tr>\n",
       "      <th>889</th>\n",
       "      <td>890</td>\n",
       "      <td>1</td>\n",
       "      <td>1</td>\n",
       "      <td>Behr, Mr. Karl Howell</td>\n",
       "      <td>male</td>\n",
       "      <td>26.0</td>\n",
       "      <td>0</td>\n",
       "      <td>0</td>\n",
       "      <td>111369</td>\n",
       "      <td>30.00</td>\n",
       "      <td>C148</td>\n",
       "      <td>C</td>\n",
       "    </tr>\n",
       "    <tr>\n",
       "      <th>890</th>\n",
       "      <td>891</td>\n",
       "      <td>0</td>\n",
       "      <td>3</td>\n",
       "      <td>Dooley, Mr. Patrick</td>\n",
       "      <td>male</td>\n",
       "      <td>32.0</td>\n",
       "      <td>0</td>\n",
       "      <td>0</td>\n",
       "      <td>370376</td>\n",
       "      <td>7.75</td>\n",
       "      <td>NaN</td>\n",
       "      <td>Q</td>\n",
       "    </tr>\n",
       "  </tbody>\n",
       "</table>\n",
       "</div>"
      ],
      "text/plain": [
       "     PassengerId  Survived  Pclass                                      Name  \\\n",
       "886          887         0       2                     Montvila, Rev. Juozas   \n",
       "887          888         1       1              Graham, Miss. Margaret Edith   \n",
       "888          889         0       3  Johnston, Miss. Catherine Helen \"Carrie\"   \n",
       "889          890         1       1                     Behr, Mr. Karl Howell   \n",
       "890          891         0       3                       Dooley, Mr. Patrick   \n",
       "\n",
       "        Sex   Age  SibSp  Parch      Ticket   Fare Cabin Embarked  \n",
       "886    male  27.0      0      0      211536  13.00   NaN        S  \n",
       "887  female  19.0      0      0      112053  30.00   B42        S  \n",
       "888  female   NaN      1      2  W./C. 6607  23.45   NaN        S  \n",
       "889    male  26.0      0      0      111369  30.00  C148        C  \n",
       "890    male  32.0      0      0      370376   7.75   NaN        Q  "
      ]
     },
     "execution_count": 5,
     "metadata": {},
     "output_type": "execute_result"
    }
   ],
   "source": [
    "df.tail()"
   ]
  },
  {
   "cell_type": "code",
   "execution_count": 6,
   "metadata": {},
   "outputs": [
    {
     "data": {
      "text/plain": [
       "(891, 12)"
      ]
     },
     "execution_count": 6,
     "metadata": {},
     "output_type": "execute_result"
    }
   ],
   "source": [
    "df.shape"
   ]
  },
  {
   "cell_type": "code",
   "execution_count": 7,
   "metadata": {},
   "outputs": [
    {
     "data": {
      "text/html": [
       "<div>\n",
       "<style scoped>\n",
       "    .dataframe tbody tr th:only-of-type {\n",
       "        vertical-align: middle;\n",
       "    }\n",
       "\n",
       "    .dataframe tbody tr th {\n",
       "        vertical-align: top;\n",
       "    }\n",
       "\n",
       "    .dataframe thead th {\n",
       "        text-align: right;\n",
       "    }\n",
       "</style>\n",
       "<table border=\"1\" class=\"dataframe\">\n",
       "  <thead>\n",
       "    <tr style=\"text-align: right;\">\n",
       "      <th></th>\n",
       "      <th>PassengerId</th>\n",
       "      <th>Survived</th>\n",
       "      <th>Pclass</th>\n",
       "      <th>Age</th>\n",
       "      <th>SibSp</th>\n",
       "      <th>Parch</th>\n",
       "      <th>Fare</th>\n",
       "    </tr>\n",
       "  </thead>\n",
       "  <tbody>\n",
       "    <tr>\n",
       "      <th>count</th>\n",
       "      <td>891.000000</td>\n",
       "      <td>891.000000</td>\n",
       "      <td>891.000000</td>\n",
       "      <td>714.000000</td>\n",
       "      <td>891.000000</td>\n",
       "      <td>891.000000</td>\n",
       "      <td>891.000000</td>\n",
       "    </tr>\n",
       "    <tr>\n",
       "      <th>mean</th>\n",
       "      <td>446.000000</td>\n",
       "      <td>0.383838</td>\n",
       "      <td>2.308642</td>\n",
       "      <td>29.699118</td>\n",
       "      <td>0.523008</td>\n",
       "      <td>0.381594</td>\n",
       "      <td>32.204208</td>\n",
       "    </tr>\n",
       "    <tr>\n",
       "      <th>std</th>\n",
       "      <td>257.353842</td>\n",
       "      <td>0.486592</td>\n",
       "      <td>0.836071</td>\n",
       "      <td>14.526497</td>\n",
       "      <td>1.102743</td>\n",
       "      <td>0.806057</td>\n",
       "      <td>49.693429</td>\n",
       "    </tr>\n",
       "    <tr>\n",
       "      <th>min</th>\n",
       "      <td>1.000000</td>\n",
       "      <td>0.000000</td>\n",
       "      <td>1.000000</td>\n",
       "      <td>0.420000</td>\n",
       "      <td>0.000000</td>\n",
       "      <td>0.000000</td>\n",
       "      <td>0.000000</td>\n",
       "    </tr>\n",
       "    <tr>\n",
       "      <th>25%</th>\n",
       "      <td>223.500000</td>\n",
       "      <td>0.000000</td>\n",
       "      <td>2.000000</td>\n",
       "      <td>20.125000</td>\n",
       "      <td>0.000000</td>\n",
       "      <td>0.000000</td>\n",
       "      <td>7.910400</td>\n",
       "    </tr>\n",
       "    <tr>\n",
       "      <th>50%</th>\n",
       "      <td>446.000000</td>\n",
       "      <td>0.000000</td>\n",
       "      <td>3.000000</td>\n",
       "      <td>28.000000</td>\n",
       "      <td>0.000000</td>\n",
       "      <td>0.000000</td>\n",
       "      <td>14.454200</td>\n",
       "    </tr>\n",
       "    <tr>\n",
       "      <th>75%</th>\n",
       "      <td>668.500000</td>\n",
       "      <td>1.000000</td>\n",
       "      <td>3.000000</td>\n",
       "      <td>38.000000</td>\n",
       "      <td>1.000000</td>\n",
       "      <td>0.000000</td>\n",
       "      <td>31.000000</td>\n",
       "    </tr>\n",
       "    <tr>\n",
       "      <th>max</th>\n",
       "      <td>891.000000</td>\n",
       "      <td>1.000000</td>\n",
       "      <td>3.000000</td>\n",
       "      <td>80.000000</td>\n",
       "      <td>8.000000</td>\n",
       "      <td>6.000000</td>\n",
       "      <td>512.329200</td>\n",
       "    </tr>\n",
       "  </tbody>\n",
       "</table>\n",
       "</div>"
      ],
      "text/plain": [
       "       PassengerId    Survived      Pclass         Age       SibSp  \\\n",
       "count   891.000000  891.000000  891.000000  714.000000  891.000000   \n",
       "mean    446.000000    0.383838    2.308642   29.699118    0.523008   \n",
       "std     257.353842    0.486592    0.836071   14.526497    1.102743   \n",
       "min       1.000000    0.000000    1.000000    0.420000    0.000000   \n",
       "25%     223.500000    0.000000    2.000000   20.125000    0.000000   \n",
       "50%     446.000000    0.000000    3.000000   28.000000    0.000000   \n",
       "75%     668.500000    1.000000    3.000000   38.000000    1.000000   \n",
       "max     891.000000    1.000000    3.000000   80.000000    8.000000   \n",
       "\n",
       "            Parch        Fare  \n",
       "count  891.000000  891.000000  \n",
       "mean     0.381594   32.204208  \n",
       "std      0.806057   49.693429  \n",
       "min      0.000000    0.000000  \n",
       "25%      0.000000    7.910400  \n",
       "50%      0.000000   14.454200  \n",
       "75%      0.000000   31.000000  \n",
       "max      6.000000  512.329200  "
      ]
     },
     "execution_count": 7,
     "metadata": {},
     "output_type": "execute_result"
    }
   ],
   "source": [
    "df.describe()"
   ]
  },
  {
   "cell_type": "code",
   "execution_count": 8,
   "metadata": {},
   "outputs": [
    {
     "name": "stdout",
     "output_type": "stream",
     "text": [
      "<class 'pandas.core.frame.DataFrame'>\n",
      "RangeIndex: 891 entries, 0 to 890\n",
      "Data columns (total 12 columns):\n",
      "PassengerId    891 non-null int64\n",
      "Survived       891 non-null int64\n",
      "Pclass         891 non-null int64\n",
      "Name           891 non-null object\n",
      "Sex            891 non-null object\n",
      "Age            714 non-null float64\n",
      "SibSp          891 non-null int64\n",
      "Parch          891 non-null int64\n",
      "Ticket         891 non-null object\n",
      "Fare           891 non-null float64\n",
      "Cabin          204 non-null object\n",
      "Embarked       889 non-null object\n",
      "dtypes: float64(2), int64(5), object(5)\n",
      "memory usage: 83.6+ KB\n"
     ]
    }
   ],
   "source": [
    "df.info()"
   ]
  },
  {
   "cell_type": "code",
   "execution_count": 153,
   "metadata": {},
   "outputs": [
    {
     "data": {
      "text/plain": [
       "Index(['survived', 'pclass', 'name', 'gender', 'age', 'sibsp', 'parch', 'fare',\n",
       "       'cabin', 'embarked', 'age_group'],\n",
       "      dtype='object')"
      ]
     },
     "execution_count": 153,
     "metadata": {},
     "output_type": "execute_result"
    }
   ],
   "source": [
    "df.columns  "
   ]
  },
  {
   "cell_type": "code",
   "execution_count": 10,
   "metadata": {},
   "outputs": [
    {
     "data": {
      "text/html": [
       "<div>\n",
       "<style scoped>\n",
       "    .dataframe tbody tr th:only-of-type {\n",
       "        vertical-align: middle;\n",
       "    }\n",
       "\n",
       "    .dataframe tbody tr th {\n",
       "        vertical-align: top;\n",
       "    }\n",
       "\n",
       "    .dataframe thead th {\n",
       "        text-align: right;\n",
       "    }\n",
       "</style>\n",
       "<table border=\"1\" class=\"dataframe\">\n",
       "  <thead>\n",
       "    <tr style=\"text-align: right;\">\n",
       "      <th></th>\n",
       "      <th>Survived</th>\n",
       "      <th>Pclass</th>\n",
       "      <th>Name</th>\n",
       "      <th>Sex</th>\n",
       "      <th>Age</th>\n",
       "      <th>SibSp</th>\n",
       "      <th>Parch</th>\n",
       "      <th>Fare</th>\n",
       "      <th>Cabin</th>\n",
       "      <th>Embarked</th>\n",
       "    </tr>\n",
       "  </thead>\n",
       "  <tbody>\n",
       "    <tr>\n",
       "      <th>0</th>\n",
       "      <td>0</td>\n",
       "      <td>3</td>\n",
       "      <td>Braund, Mr. Owen Harris</td>\n",
       "      <td>male</td>\n",
       "      <td>22.0</td>\n",
       "      <td>1</td>\n",
       "      <td>0</td>\n",
       "      <td>7.2500</td>\n",
       "      <td>NaN</td>\n",
       "      <td>S</td>\n",
       "    </tr>\n",
       "    <tr>\n",
       "      <th>1</th>\n",
       "      <td>1</td>\n",
       "      <td>1</td>\n",
       "      <td>Cumings, Mrs. John Bradley (Florence Briggs Th...</td>\n",
       "      <td>female</td>\n",
       "      <td>38.0</td>\n",
       "      <td>1</td>\n",
       "      <td>0</td>\n",
       "      <td>71.2833</td>\n",
       "      <td>C85</td>\n",
       "      <td>C</td>\n",
       "    </tr>\n",
       "    <tr>\n",
       "      <th>2</th>\n",
       "      <td>1</td>\n",
       "      <td>3</td>\n",
       "      <td>Heikkinen, Miss. Laina</td>\n",
       "      <td>female</td>\n",
       "      <td>26.0</td>\n",
       "      <td>0</td>\n",
       "      <td>0</td>\n",
       "      <td>7.9250</td>\n",
       "      <td>NaN</td>\n",
       "      <td>S</td>\n",
       "    </tr>\n",
       "    <tr>\n",
       "      <th>3</th>\n",
       "      <td>1</td>\n",
       "      <td>1</td>\n",
       "      <td>Futrelle, Mrs. Jacques Heath (Lily May Peel)</td>\n",
       "      <td>female</td>\n",
       "      <td>35.0</td>\n",
       "      <td>1</td>\n",
       "      <td>0</td>\n",
       "      <td>53.1000</td>\n",
       "      <td>C123</td>\n",
       "      <td>S</td>\n",
       "    </tr>\n",
       "    <tr>\n",
       "      <th>4</th>\n",
       "      <td>0</td>\n",
       "      <td>3</td>\n",
       "      <td>Allen, Mr. William Henry</td>\n",
       "      <td>male</td>\n",
       "      <td>35.0</td>\n",
       "      <td>0</td>\n",
       "      <td>0</td>\n",
       "      <td>8.0500</td>\n",
       "      <td>NaN</td>\n",
       "      <td>S</td>\n",
       "    </tr>\n",
       "  </tbody>\n",
       "</table>\n",
       "</div>"
      ],
      "text/plain": [
       "   Survived  Pclass                                               Name  \\\n",
       "0         0       3                            Braund, Mr. Owen Harris   \n",
       "1         1       1  Cumings, Mrs. John Bradley (Florence Briggs Th...   \n",
       "2         1       3                             Heikkinen, Miss. Laina   \n",
       "3         1       1       Futrelle, Mrs. Jacques Heath (Lily May Peel)   \n",
       "4         0       3                           Allen, Mr. William Henry   \n",
       "\n",
       "      Sex   Age  SibSp  Parch     Fare Cabin Embarked  \n",
       "0    male  22.0      1      0   7.2500   NaN        S  \n",
       "1  female  38.0      1      0  71.2833   C85        C  \n",
       "2  female  26.0      0      0   7.9250   NaN        S  \n",
       "3  female  35.0      1      0  53.1000  C123        S  \n",
       "4    male  35.0      0      0   8.0500   NaN        S  "
      ]
     },
     "execution_count": 10,
     "metadata": {},
     "output_type": "execute_result"
    }
   ],
   "source": [
    "df.drop(['PassengerId'],axis=1,inplace=True)\n",
    "df.drop(['Ticket'],axis=1,inplace=True)\n",
    "df.head()"
   ]
  },
  {
   "cell_type": "code",
   "execution_count": 11,
   "metadata": {},
   "outputs": [],
   "source": [
    "df.columns=[\"survived\",\"pclass\",\"name\",\"gender\",\"age\",\"sibsp\",\"parch\",\"fare\",\"cabin\",\"embarked\"]"
   ]
  },
  {
   "cell_type": "code",
   "execution_count": 102,
   "metadata": {},
   "outputs": [
    {
     "data": {
      "text/html": [
       "<div>\n",
       "<style scoped>\n",
       "    .dataframe tbody tr th:only-of-type {\n",
       "        vertical-align: middle;\n",
       "    }\n",
       "\n",
       "    .dataframe tbody tr th {\n",
       "        vertical-align: top;\n",
       "    }\n",
       "\n",
       "    .dataframe thead th {\n",
       "        text-align: right;\n",
       "    }\n",
       "</style>\n",
       "<table border=\"1\" class=\"dataframe\">\n",
       "  <thead>\n",
       "    <tr style=\"text-align: right;\">\n",
       "      <th></th>\n",
       "      <th>survived</th>\n",
       "      <th>pclass</th>\n",
       "      <th>name</th>\n",
       "      <th>gender</th>\n",
       "      <th>age</th>\n",
       "      <th>sibsp</th>\n",
       "      <th>parch</th>\n",
       "      <th>fare</th>\n",
       "      <th>cabin</th>\n",
       "      <th>embarked</th>\n",
       "      <th>age_group</th>\n",
       "    </tr>\n",
       "  </thead>\n",
       "  <tbody>\n",
       "    <tr>\n",
       "      <th>0</th>\n",
       "      <td>False</td>\n",
       "      <td>False</td>\n",
       "      <td>False</td>\n",
       "      <td>False</td>\n",
       "      <td>False</td>\n",
       "      <td>False</td>\n",
       "      <td>False</td>\n",
       "      <td>False</td>\n",
       "      <td>True</td>\n",
       "      <td>False</td>\n",
       "      <td>False</td>\n",
       "    </tr>\n",
       "    <tr>\n",
       "      <th>1</th>\n",
       "      <td>False</td>\n",
       "      <td>False</td>\n",
       "      <td>False</td>\n",
       "      <td>False</td>\n",
       "      <td>False</td>\n",
       "      <td>False</td>\n",
       "      <td>False</td>\n",
       "      <td>False</td>\n",
       "      <td>False</td>\n",
       "      <td>False</td>\n",
       "      <td>False</td>\n",
       "    </tr>\n",
       "    <tr>\n",
       "      <th>2</th>\n",
       "      <td>False</td>\n",
       "      <td>False</td>\n",
       "      <td>False</td>\n",
       "      <td>False</td>\n",
       "      <td>False</td>\n",
       "      <td>False</td>\n",
       "      <td>False</td>\n",
       "      <td>False</td>\n",
       "      <td>True</td>\n",
       "      <td>False</td>\n",
       "      <td>False</td>\n",
       "    </tr>\n",
       "    <tr>\n",
       "      <th>3</th>\n",
       "      <td>False</td>\n",
       "      <td>False</td>\n",
       "      <td>False</td>\n",
       "      <td>False</td>\n",
       "      <td>False</td>\n",
       "      <td>False</td>\n",
       "      <td>False</td>\n",
       "      <td>False</td>\n",
       "      <td>False</td>\n",
       "      <td>False</td>\n",
       "      <td>False</td>\n",
       "    </tr>\n",
       "    <tr>\n",
       "      <th>4</th>\n",
       "      <td>False</td>\n",
       "      <td>False</td>\n",
       "      <td>False</td>\n",
       "      <td>False</td>\n",
       "      <td>False</td>\n",
       "      <td>False</td>\n",
       "      <td>False</td>\n",
       "      <td>False</td>\n",
       "      <td>True</td>\n",
       "      <td>False</td>\n",
       "      <td>False</td>\n",
       "    </tr>\n",
       "    <tr>\n",
       "      <th>5</th>\n",
       "      <td>False</td>\n",
       "      <td>False</td>\n",
       "      <td>False</td>\n",
       "      <td>False</td>\n",
       "      <td>True</td>\n",
       "      <td>False</td>\n",
       "      <td>False</td>\n",
       "      <td>False</td>\n",
       "      <td>True</td>\n",
       "      <td>False</td>\n",
       "      <td>True</td>\n",
       "    </tr>\n",
       "    <tr>\n",
       "      <th>6</th>\n",
       "      <td>False</td>\n",
       "      <td>False</td>\n",
       "      <td>False</td>\n",
       "      <td>False</td>\n",
       "      <td>False</td>\n",
       "      <td>False</td>\n",
       "      <td>False</td>\n",
       "      <td>False</td>\n",
       "      <td>False</td>\n",
       "      <td>False</td>\n",
       "      <td>False</td>\n",
       "    </tr>\n",
       "    <tr>\n",
       "      <th>7</th>\n",
       "      <td>False</td>\n",
       "      <td>False</td>\n",
       "      <td>False</td>\n",
       "      <td>False</td>\n",
       "      <td>False</td>\n",
       "      <td>False</td>\n",
       "      <td>False</td>\n",
       "      <td>False</td>\n",
       "      <td>True</td>\n",
       "      <td>False</td>\n",
       "      <td>False</td>\n",
       "    </tr>\n",
       "    <tr>\n",
       "      <th>8</th>\n",
       "      <td>False</td>\n",
       "      <td>False</td>\n",
       "      <td>False</td>\n",
       "      <td>False</td>\n",
       "      <td>False</td>\n",
       "      <td>False</td>\n",
       "      <td>False</td>\n",
       "      <td>False</td>\n",
       "      <td>True</td>\n",
       "      <td>False</td>\n",
       "      <td>False</td>\n",
       "    </tr>\n",
       "    <tr>\n",
       "      <th>9</th>\n",
       "      <td>False</td>\n",
       "      <td>False</td>\n",
       "      <td>False</td>\n",
       "      <td>False</td>\n",
       "      <td>False</td>\n",
       "      <td>False</td>\n",
       "      <td>False</td>\n",
       "      <td>False</td>\n",
       "      <td>True</td>\n",
       "      <td>False</td>\n",
       "      <td>False</td>\n",
       "    </tr>\n",
       "    <tr>\n",
       "      <th>10</th>\n",
       "      <td>False</td>\n",
       "      <td>False</td>\n",
       "      <td>False</td>\n",
       "      <td>False</td>\n",
       "      <td>False</td>\n",
       "      <td>False</td>\n",
       "      <td>False</td>\n",
       "      <td>False</td>\n",
       "      <td>False</td>\n",
       "      <td>False</td>\n",
       "      <td>False</td>\n",
       "    </tr>\n",
       "    <tr>\n",
       "      <th>11</th>\n",
       "      <td>False</td>\n",
       "      <td>False</td>\n",
       "      <td>False</td>\n",
       "      <td>False</td>\n",
       "      <td>False</td>\n",
       "      <td>False</td>\n",
       "      <td>False</td>\n",
       "      <td>False</td>\n",
       "      <td>False</td>\n",
       "      <td>False</td>\n",
       "      <td>False</td>\n",
       "    </tr>\n",
       "    <tr>\n",
       "      <th>12</th>\n",
       "      <td>False</td>\n",
       "      <td>False</td>\n",
       "      <td>False</td>\n",
       "      <td>False</td>\n",
       "      <td>False</td>\n",
       "      <td>False</td>\n",
       "      <td>False</td>\n",
       "      <td>False</td>\n",
       "      <td>True</td>\n",
       "      <td>False</td>\n",
       "      <td>False</td>\n",
       "    </tr>\n",
       "    <tr>\n",
       "      <th>13</th>\n",
       "      <td>False</td>\n",
       "      <td>False</td>\n",
       "      <td>False</td>\n",
       "      <td>False</td>\n",
       "      <td>False</td>\n",
       "      <td>False</td>\n",
       "      <td>False</td>\n",
       "      <td>False</td>\n",
       "      <td>True</td>\n",
       "      <td>False</td>\n",
       "      <td>False</td>\n",
       "    </tr>\n",
       "    <tr>\n",
       "      <th>14</th>\n",
       "      <td>False</td>\n",
       "      <td>False</td>\n",
       "      <td>False</td>\n",
       "      <td>False</td>\n",
       "      <td>False</td>\n",
       "      <td>False</td>\n",
       "      <td>False</td>\n",
       "      <td>False</td>\n",
       "      <td>True</td>\n",
       "      <td>False</td>\n",
       "      <td>False</td>\n",
       "    </tr>\n",
       "    <tr>\n",
       "      <th>15</th>\n",
       "      <td>False</td>\n",
       "      <td>False</td>\n",
       "      <td>False</td>\n",
       "      <td>False</td>\n",
       "      <td>False</td>\n",
       "      <td>False</td>\n",
       "      <td>False</td>\n",
       "      <td>False</td>\n",
       "      <td>True</td>\n",
       "      <td>False</td>\n",
       "      <td>False</td>\n",
       "    </tr>\n",
       "    <tr>\n",
       "      <th>16</th>\n",
       "      <td>False</td>\n",
       "      <td>False</td>\n",
       "      <td>False</td>\n",
       "      <td>False</td>\n",
       "      <td>False</td>\n",
       "      <td>False</td>\n",
       "      <td>False</td>\n",
       "      <td>False</td>\n",
       "      <td>True</td>\n",
       "      <td>False</td>\n",
       "      <td>False</td>\n",
       "    </tr>\n",
       "    <tr>\n",
       "      <th>17</th>\n",
       "      <td>False</td>\n",
       "      <td>False</td>\n",
       "      <td>False</td>\n",
       "      <td>False</td>\n",
       "      <td>True</td>\n",
       "      <td>False</td>\n",
       "      <td>False</td>\n",
       "      <td>False</td>\n",
       "      <td>True</td>\n",
       "      <td>False</td>\n",
       "      <td>True</td>\n",
       "    </tr>\n",
       "    <tr>\n",
       "      <th>18</th>\n",
       "      <td>False</td>\n",
       "      <td>False</td>\n",
       "      <td>False</td>\n",
       "      <td>False</td>\n",
       "      <td>False</td>\n",
       "      <td>False</td>\n",
       "      <td>False</td>\n",
       "      <td>False</td>\n",
       "      <td>True</td>\n",
       "      <td>False</td>\n",
       "      <td>False</td>\n",
       "    </tr>\n",
       "    <tr>\n",
       "      <th>19</th>\n",
       "      <td>False</td>\n",
       "      <td>False</td>\n",
       "      <td>False</td>\n",
       "      <td>False</td>\n",
       "      <td>True</td>\n",
       "      <td>False</td>\n",
       "      <td>False</td>\n",
       "      <td>False</td>\n",
       "      <td>True</td>\n",
       "      <td>False</td>\n",
       "      <td>True</td>\n",
       "    </tr>\n",
       "    <tr>\n",
       "      <th>20</th>\n",
       "      <td>False</td>\n",
       "      <td>False</td>\n",
       "      <td>False</td>\n",
       "      <td>False</td>\n",
       "      <td>False</td>\n",
       "      <td>False</td>\n",
       "      <td>False</td>\n",
       "      <td>False</td>\n",
       "      <td>True</td>\n",
       "      <td>False</td>\n",
       "      <td>False</td>\n",
       "    </tr>\n",
       "    <tr>\n",
       "      <th>21</th>\n",
       "      <td>False</td>\n",
       "      <td>False</td>\n",
       "      <td>False</td>\n",
       "      <td>False</td>\n",
       "      <td>False</td>\n",
       "      <td>False</td>\n",
       "      <td>False</td>\n",
       "      <td>False</td>\n",
       "      <td>False</td>\n",
       "      <td>False</td>\n",
       "      <td>False</td>\n",
       "    </tr>\n",
       "    <tr>\n",
       "      <th>22</th>\n",
       "      <td>False</td>\n",
       "      <td>False</td>\n",
       "      <td>False</td>\n",
       "      <td>False</td>\n",
       "      <td>False</td>\n",
       "      <td>False</td>\n",
       "      <td>False</td>\n",
       "      <td>False</td>\n",
       "      <td>True</td>\n",
       "      <td>False</td>\n",
       "      <td>False</td>\n",
       "    </tr>\n",
       "    <tr>\n",
       "      <th>23</th>\n",
       "      <td>False</td>\n",
       "      <td>False</td>\n",
       "      <td>False</td>\n",
       "      <td>False</td>\n",
       "      <td>False</td>\n",
       "      <td>False</td>\n",
       "      <td>False</td>\n",
       "      <td>False</td>\n",
       "      <td>False</td>\n",
       "      <td>False</td>\n",
       "      <td>False</td>\n",
       "    </tr>\n",
       "    <tr>\n",
       "      <th>24</th>\n",
       "      <td>False</td>\n",
       "      <td>False</td>\n",
       "      <td>False</td>\n",
       "      <td>False</td>\n",
       "      <td>False</td>\n",
       "      <td>False</td>\n",
       "      <td>False</td>\n",
       "      <td>False</td>\n",
       "      <td>True</td>\n",
       "      <td>False</td>\n",
       "      <td>False</td>\n",
       "    </tr>\n",
       "    <tr>\n",
       "      <th>25</th>\n",
       "      <td>False</td>\n",
       "      <td>False</td>\n",
       "      <td>False</td>\n",
       "      <td>False</td>\n",
       "      <td>False</td>\n",
       "      <td>False</td>\n",
       "      <td>False</td>\n",
       "      <td>False</td>\n",
       "      <td>True</td>\n",
       "      <td>False</td>\n",
       "      <td>False</td>\n",
       "    </tr>\n",
       "    <tr>\n",
       "      <th>26</th>\n",
       "      <td>False</td>\n",
       "      <td>False</td>\n",
       "      <td>False</td>\n",
       "      <td>False</td>\n",
       "      <td>True</td>\n",
       "      <td>False</td>\n",
       "      <td>False</td>\n",
       "      <td>False</td>\n",
       "      <td>True</td>\n",
       "      <td>False</td>\n",
       "      <td>True</td>\n",
       "    </tr>\n",
       "    <tr>\n",
       "      <th>27</th>\n",
       "      <td>False</td>\n",
       "      <td>False</td>\n",
       "      <td>False</td>\n",
       "      <td>False</td>\n",
       "      <td>False</td>\n",
       "      <td>False</td>\n",
       "      <td>False</td>\n",
       "      <td>False</td>\n",
       "      <td>False</td>\n",
       "      <td>False</td>\n",
       "      <td>False</td>\n",
       "    </tr>\n",
       "    <tr>\n",
       "      <th>28</th>\n",
       "      <td>False</td>\n",
       "      <td>False</td>\n",
       "      <td>False</td>\n",
       "      <td>False</td>\n",
       "      <td>True</td>\n",
       "      <td>False</td>\n",
       "      <td>False</td>\n",
       "      <td>False</td>\n",
       "      <td>True</td>\n",
       "      <td>False</td>\n",
       "      <td>True</td>\n",
       "    </tr>\n",
       "    <tr>\n",
       "      <th>29</th>\n",
       "      <td>False</td>\n",
       "      <td>False</td>\n",
       "      <td>False</td>\n",
       "      <td>False</td>\n",
       "      <td>True</td>\n",
       "      <td>False</td>\n",
       "      <td>False</td>\n",
       "      <td>False</td>\n",
       "      <td>True</td>\n",
       "      <td>False</td>\n",
       "      <td>True</td>\n",
       "    </tr>\n",
       "    <tr>\n",
       "      <th>...</th>\n",
       "      <td>...</td>\n",
       "      <td>...</td>\n",
       "      <td>...</td>\n",
       "      <td>...</td>\n",
       "      <td>...</td>\n",
       "      <td>...</td>\n",
       "      <td>...</td>\n",
       "      <td>...</td>\n",
       "      <td>...</td>\n",
       "      <td>...</td>\n",
       "      <td>...</td>\n",
       "    </tr>\n",
       "    <tr>\n",
       "      <th>861</th>\n",
       "      <td>False</td>\n",
       "      <td>False</td>\n",
       "      <td>False</td>\n",
       "      <td>False</td>\n",
       "      <td>False</td>\n",
       "      <td>False</td>\n",
       "      <td>False</td>\n",
       "      <td>False</td>\n",
       "      <td>True</td>\n",
       "      <td>False</td>\n",
       "      <td>False</td>\n",
       "    </tr>\n",
       "    <tr>\n",
       "      <th>862</th>\n",
       "      <td>False</td>\n",
       "      <td>False</td>\n",
       "      <td>False</td>\n",
       "      <td>False</td>\n",
       "      <td>False</td>\n",
       "      <td>False</td>\n",
       "      <td>False</td>\n",
       "      <td>False</td>\n",
       "      <td>False</td>\n",
       "      <td>False</td>\n",
       "      <td>False</td>\n",
       "    </tr>\n",
       "    <tr>\n",
       "      <th>863</th>\n",
       "      <td>False</td>\n",
       "      <td>False</td>\n",
       "      <td>False</td>\n",
       "      <td>False</td>\n",
       "      <td>True</td>\n",
       "      <td>False</td>\n",
       "      <td>False</td>\n",
       "      <td>False</td>\n",
       "      <td>True</td>\n",
       "      <td>False</td>\n",
       "      <td>True</td>\n",
       "    </tr>\n",
       "    <tr>\n",
       "      <th>864</th>\n",
       "      <td>False</td>\n",
       "      <td>False</td>\n",
       "      <td>False</td>\n",
       "      <td>False</td>\n",
       "      <td>False</td>\n",
       "      <td>False</td>\n",
       "      <td>False</td>\n",
       "      <td>False</td>\n",
       "      <td>True</td>\n",
       "      <td>False</td>\n",
       "      <td>False</td>\n",
       "    </tr>\n",
       "    <tr>\n",
       "      <th>865</th>\n",
       "      <td>False</td>\n",
       "      <td>False</td>\n",
       "      <td>False</td>\n",
       "      <td>False</td>\n",
       "      <td>False</td>\n",
       "      <td>False</td>\n",
       "      <td>False</td>\n",
       "      <td>False</td>\n",
       "      <td>True</td>\n",
       "      <td>False</td>\n",
       "      <td>False</td>\n",
       "    </tr>\n",
       "    <tr>\n",
       "      <th>866</th>\n",
       "      <td>False</td>\n",
       "      <td>False</td>\n",
       "      <td>False</td>\n",
       "      <td>False</td>\n",
       "      <td>False</td>\n",
       "      <td>False</td>\n",
       "      <td>False</td>\n",
       "      <td>False</td>\n",
       "      <td>True</td>\n",
       "      <td>False</td>\n",
       "      <td>False</td>\n",
       "    </tr>\n",
       "    <tr>\n",
       "      <th>867</th>\n",
       "      <td>False</td>\n",
       "      <td>False</td>\n",
       "      <td>False</td>\n",
       "      <td>False</td>\n",
       "      <td>False</td>\n",
       "      <td>False</td>\n",
       "      <td>False</td>\n",
       "      <td>False</td>\n",
       "      <td>False</td>\n",
       "      <td>False</td>\n",
       "      <td>False</td>\n",
       "    </tr>\n",
       "    <tr>\n",
       "      <th>868</th>\n",
       "      <td>False</td>\n",
       "      <td>False</td>\n",
       "      <td>False</td>\n",
       "      <td>False</td>\n",
       "      <td>True</td>\n",
       "      <td>False</td>\n",
       "      <td>False</td>\n",
       "      <td>False</td>\n",
       "      <td>True</td>\n",
       "      <td>False</td>\n",
       "      <td>True</td>\n",
       "    </tr>\n",
       "    <tr>\n",
       "      <th>869</th>\n",
       "      <td>False</td>\n",
       "      <td>False</td>\n",
       "      <td>False</td>\n",
       "      <td>False</td>\n",
       "      <td>False</td>\n",
       "      <td>False</td>\n",
       "      <td>False</td>\n",
       "      <td>False</td>\n",
       "      <td>True</td>\n",
       "      <td>False</td>\n",
       "      <td>False</td>\n",
       "    </tr>\n",
       "    <tr>\n",
       "      <th>870</th>\n",
       "      <td>False</td>\n",
       "      <td>False</td>\n",
       "      <td>False</td>\n",
       "      <td>False</td>\n",
       "      <td>False</td>\n",
       "      <td>False</td>\n",
       "      <td>False</td>\n",
       "      <td>False</td>\n",
       "      <td>True</td>\n",
       "      <td>False</td>\n",
       "      <td>False</td>\n",
       "    </tr>\n",
       "    <tr>\n",
       "      <th>871</th>\n",
       "      <td>False</td>\n",
       "      <td>False</td>\n",
       "      <td>False</td>\n",
       "      <td>False</td>\n",
       "      <td>False</td>\n",
       "      <td>False</td>\n",
       "      <td>False</td>\n",
       "      <td>False</td>\n",
       "      <td>False</td>\n",
       "      <td>False</td>\n",
       "      <td>False</td>\n",
       "    </tr>\n",
       "    <tr>\n",
       "      <th>872</th>\n",
       "      <td>False</td>\n",
       "      <td>False</td>\n",
       "      <td>False</td>\n",
       "      <td>False</td>\n",
       "      <td>False</td>\n",
       "      <td>False</td>\n",
       "      <td>False</td>\n",
       "      <td>False</td>\n",
       "      <td>False</td>\n",
       "      <td>False</td>\n",
       "      <td>False</td>\n",
       "    </tr>\n",
       "    <tr>\n",
       "      <th>873</th>\n",
       "      <td>False</td>\n",
       "      <td>False</td>\n",
       "      <td>False</td>\n",
       "      <td>False</td>\n",
       "      <td>False</td>\n",
       "      <td>False</td>\n",
       "      <td>False</td>\n",
       "      <td>False</td>\n",
       "      <td>True</td>\n",
       "      <td>False</td>\n",
       "      <td>False</td>\n",
       "    </tr>\n",
       "    <tr>\n",
       "      <th>874</th>\n",
       "      <td>False</td>\n",
       "      <td>False</td>\n",
       "      <td>False</td>\n",
       "      <td>False</td>\n",
       "      <td>False</td>\n",
       "      <td>False</td>\n",
       "      <td>False</td>\n",
       "      <td>False</td>\n",
       "      <td>True</td>\n",
       "      <td>False</td>\n",
       "      <td>False</td>\n",
       "    </tr>\n",
       "    <tr>\n",
       "      <th>875</th>\n",
       "      <td>False</td>\n",
       "      <td>False</td>\n",
       "      <td>False</td>\n",
       "      <td>False</td>\n",
       "      <td>False</td>\n",
       "      <td>False</td>\n",
       "      <td>False</td>\n",
       "      <td>False</td>\n",
       "      <td>True</td>\n",
       "      <td>False</td>\n",
       "      <td>False</td>\n",
       "    </tr>\n",
       "    <tr>\n",
       "      <th>876</th>\n",
       "      <td>False</td>\n",
       "      <td>False</td>\n",
       "      <td>False</td>\n",
       "      <td>False</td>\n",
       "      <td>False</td>\n",
       "      <td>False</td>\n",
       "      <td>False</td>\n",
       "      <td>False</td>\n",
       "      <td>True</td>\n",
       "      <td>False</td>\n",
       "      <td>False</td>\n",
       "    </tr>\n",
       "    <tr>\n",
       "      <th>877</th>\n",
       "      <td>False</td>\n",
       "      <td>False</td>\n",
       "      <td>False</td>\n",
       "      <td>False</td>\n",
       "      <td>False</td>\n",
       "      <td>False</td>\n",
       "      <td>False</td>\n",
       "      <td>False</td>\n",
       "      <td>True</td>\n",
       "      <td>False</td>\n",
       "      <td>False</td>\n",
       "    </tr>\n",
       "    <tr>\n",
       "      <th>878</th>\n",
       "      <td>False</td>\n",
       "      <td>False</td>\n",
       "      <td>False</td>\n",
       "      <td>False</td>\n",
       "      <td>True</td>\n",
       "      <td>False</td>\n",
       "      <td>False</td>\n",
       "      <td>False</td>\n",
       "      <td>True</td>\n",
       "      <td>False</td>\n",
       "      <td>True</td>\n",
       "    </tr>\n",
       "    <tr>\n",
       "      <th>879</th>\n",
       "      <td>False</td>\n",
       "      <td>False</td>\n",
       "      <td>False</td>\n",
       "      <td>False</td>\n",
       "      <td>False</td>\n",
       "      <td>False</td>\n",
       "      <td>False</td>\n",
       "      <td>False</td>\n",
       "      <td>False</td>\n",
       "      <td>False</td>\n",
       "      <td>False</td>\n",
       "    </tr>\n",
       "    <tr>\n",
       "      <th>880</th>\n",
       "      <td>False</td>\n",
       "      <td>False</td>\n",
       "      <td>False</td>\n",
       "      <td>False</td>\n",
       "      <td>False</td>\n",
       "      <td>False</td>\n",
       "      <td>False</td>\n",
       "      <td>False</td>\n",
       "      <td>True</td>\n",
       "      <td>False</td>\n",
       "      <td>False</td>\n",
       "    </tr>\n",
       "    <tr>\n",
       "      <th>881</th>\n",
       "      <td>False</td>\n",
       "      <td>False</td>\n",
       "      <td>False</td>\n",
       "      <td>False</td>\n",
       "      <td>False</td>\n",
       "      <td>False</td>\n",
       "      <td>False</td>\n",
       "      <td>False</td>\n",
       "      <td>True</td>\n",
       "      <td>False</td>\n",
       "      <td>False</td>\n",
       "    </tr>\n",
       "    <tr>\n",
       "      <th>882</th>\n",
       "      <td>False</td>\n",
       "      <td>False</td>\n",
       "      <td>False</td>\n",
       "      <td>False</td>\n",
       "      <td>False</td>\n",
       "      <td>False</td>\n",
       "      <td>False</td>\n",
       "      <td>False</td>\n",
       "      <td>True</td>\n",
       "      <td>False</td>\n",
       "      <td>False</td>\n",
       "    </tr>\n",
       "    <tr>\n",
       "      <th>883</th>\n",
       "      <td>False</td>\n",
       "      <td>False</td>\n",
       "      <td>False</td>\n",
       "      <td>False</td>\n",
       "      <td>False</td>\n",
       "      <td>False</td>\n",
       "      <td>False</td>\n",
       "      <td>False</td>\n",
       "      <td>True</td>\n",
       "      <td>False</td>\n",
       "      <td>False</td>\n",
       "    </tr>\n",
       "    <tr>\n",
       "      <th>884</th>\n",
       "      <td>False</td>\n",
       "      <td>False</td>\n",
       "      <td>False</td>\n",
       "      <td>False</td>\n",
       "      <td>False</td>\n",
       "      <td>False</td>\n",
       "      <td>False</td>\n",
       "      <td>False</td>\n",
       "      <td>True</td>\n",
       "      <td>False</td>\n",
       "      <td>False</td>\n",
       "    </tr>\n",
       "    <tr>\n",
       "      <th>885</th>\n",
       "      <td>False</td>\n",
       "      <td>False</td>\n",
       "      <td>False</td>\n",
       "      <td>False</td>\n",
       "      <td>False</td>\n",
       "      <td>False</td>\n",
       "      <td>False</td>\n",
       "      <td>False</td>\n",
       "      <td>True</td>\n",
       "      <td>False</td>\n",
       "      <td>False</td>\n",
       "    </tr>\n",
       "    <tr>\n",
       "      <th>886</th>\n",
       "      <td>False</td>\n",
       "      <td>False</td>\n",
       "      <td>False</td>\n",
       "      <td>False</td>\n",
       "      <td>False</td>\n",
       "      <td>False</td>\n",
       "      <td>False</td>\n",
       "      <td>False</td>\n",
       "      <td>True</td>\n",
       "      <td>False</td>\n",
       "      <td>False</td>\n",
       "    </tr>\n",
       "    <tr>\n",
       "      <th>887</th>\n",
       "      <td>False</td>\n",
       "      <td>False</td>\n",
       "      <td>False</td>\n",
       "      <td>False</td>\n",
       "      <td>False</td>\n",
       "      <td>False</td>\n",
       "      <td>False</td>\n",
       "      <td>False</td>\n",
       "      <td>False</td>\n",
       "      <td>False</td>\n",
       "      <td>False</td>\n",
       "    </tr>\n",
       "    <tr>\n",
       "      <th>888</th>\n",
       "      <td>False</td>\n",
       "      <td>False</td>\n",
       "      <td>False</td>\n",
       "      <td>False</td>\n",
       "      <td>True</td>\n",
       "      <td>False</td>\n",
       "      <td>False</td>\n",
       "      <td>False</td>\n",
       "      <td>True</td>\n",
       "      <td>False</td>\n",
       "      <td>True</td>\n",
       "    </tr>\n",
       "    <tr>\n",
       "      <th>889</th>\n",
       "      <td>False</td>\n",
       "      <td>False</td>\n",
       "      <td>False</td>\n",
       "      <td>False</td>\n",
       "      <td>False</td>\n",
       "      <td>False</td>\n",
       "      <td>False</td>\n",
       "      <td>False</td>\n",
       "      <td>False</td>\n",
       "      <td>False</td>\n",
       "      <td>False</td>\n",
       "    </tr>\n",
       "    <tr>\n",
       "      <th>890</th>\n",
       "      <td>False</td>\n",
       "      <td>False</td>\n",
       "      <td>False</td>\n",
       "      <td>False</td>\n",
       "      <td>False</td>\n",
       "      <td>False</td>\n",
       "      <td>False</td>\n",
       "      <td>False</td>\n",
       "      <td>True</td>\n",
       "      <td>False</td>\n",
       "      <td>False</td>\n",
       "    </tr>\n",
       "  </tbody>\n",
       "</table>\n",
       "<p>891 rows × 11 columns</p>\n",
       "</div>"
      ],
      "text/plain": [
       "     survived  pclass   name  gender    age  sibsp  parch   fare  cabin  \\\n",
       "0       False   False  False   False  False  False  False  False   True   \n",
       "1       False   False  False   False  False  False  False  False  False   \n",
       "2       False   False  False   False  False  False  False  False   True   \n",
       "3       False   False  False   False  False  False  False  False  False   \n",
       "4       False   False  False   False  False  False  False  False   True   \n",
       "5       False   False  False   False   True  False  False  False   True   \n",
       "6       False   False  False   False  False  False  False  False  False   \n",
       "7       False   False  False   False  False  False  False  False   True   \n",
       "8       False   False  False   False  False  False  False  False   True   \n",
       "9       False   False  False   False  False  False  False  False   True   \n",
       "10      False   False  False   False  False  False  False  False  False   \n",
       "11      False   False  False   False  False  False  False  False  False   \n",
       "12      False   False  False   False  False  False  False  False   True   \n",
       "13      False   False  False   False  False  False  False  False   True   \n",
       "14      False   False  False   False  False  False  False  False   True   \n",
       "15      False   False  False   False  False  False  False  False   True   \n",
       "16      False   False  False   False  False  False  False  False   True   \n",
       "17      False   False  False   False   True  False  False  False   True   \n",
       "18      False   False  False   False  False  False  False  False   True   \n",
       "19      False   False  False   False   True  False  False  False   True   \n",
       "20      False   False  False   False  False  False  False  False   True   \n",
       "21      False   False  False   False  False  False  False  False  False   \n",
       "22      False   False  False   False  False  False  False  False   True   \n",
       "23      False   False  False   False  False  False  False  False  False   \n",
       "24      False   False  False   False  False  False  False  False   True   \n",
       "25      False   False  False   False  False  False  False  False   True   \n",
       "26      False   False  False   False   True  False  False  False   True   \n",
       "27      False   False  False   False  False  False  False  False  False   \n",
       "28      False   False  False   False   True  False  False  False   True   \n",
       "29      False   False  False   False   True  False  False  False   True   \n",
       "..        ...     ...    ...     ...    ...    ...    ...    ...    ...   \n",
       "861     False   False  False   False  False  False  False  False   True   \n",
       "862     False   False  False   False  False  False  False  False  False   \n",
       "863     False   False  False   False   True  False  False  False   True   \n",
       "864     False   False  False   False  False  False  False  False   True   \n",
       "865     False   False  False   False  False  False  False  False   True   \n",
       "866     False   False  False   False  False  False  False  False   True   \n",
       "867     False   False  False   False  False  False  False  False  False   \n",
       "868     False   False  False   False   True  False  False  False   True   \n",
       "869     False   False  False   False  False  False  False  False   True   \n",
       "870     False   False  False   False  False  False  False  False   True   \n",
       "871     False   False  False   False  False  False  False  False  False   \n",
       "872     False   False  False   False  False  False  False  False  False   \n",
       "873     False   False  False   False  False  False  False  False   True   \n",
       "874     False   False  False   False  False  False  False  False   True   \n",
       "875     False   False  False   False  False  False  False  False   True   \n",
       "876     False   False  False   False  False  False  False  False   True   \n",
       "877     False   False  False   False  False  False  False  False   True   \n",
       "878     False   False  False   False   True  False  False  False   True   \n",
       "879     False   False  False   False  False  False  False  False  False   \n",
       "880     False   False  False   False  False  False  False  False   True   \n",
       "881     False   False  False   False  False  False  False  False   True   \n",
       "882     False   False  False   False  False  False  False  False   True   \n",
       "883     False   False  False   False  False  False  False  False   True   \n",
       "884     False   False  False   False  False  False  False  False   True   \n",
       "885     False   False  False   False  False  False  False  False   True   \n",
       "886     False   False  False   False  False  False  False  False   True   \n",
       "887     False   False  False   False  False  False  False  False  False   \n",
       "888     False   False  False   False   True  False  False  False   True   \n",
       "889     False   False  False   False  False  False  False  False  False   \n",
       "890     False   False  False   False  False  False  False  False   True   \n",
       "\n",
       "     embarked  age_group  \n",
       "0       False      False  \n",
       "1       False      False  \n",
       "2       False      False  \n",
       "3       False      False  \n",
       "4       False      False  \n",
       "5       False       True  \n",
       "6       False      False  \n",
       "7       False      False  \n",
       "8       False      False  \n",
       "9       False      False  \n",
       "10      False      False  \n",
       "11      False      False  \n",
       "12      False      False  \n",
       "13      False      False  \n",
       "14      False      False  \n",
       "15      False      False  \n",
       "16      False      False  \n",
       "17      False       True  \n",
       "18      False      False  \n",
       "19      False       True  \n",
       "20      False      False  \n",
       "21      False      False  \n",
       "22      False      False  \n",
       "23      False      False  \n",
       "24      False      False  \n",
       "25      False      False  \n",
       "26      False       True  \n",
       "27      False      False  \n",
       "28      False       True  \n",
       "29      False       True  \n",
       "..        ...        ...  \n",
       "861     False      False  \n",
       "862     False      False  \n",
       "863     False       True  \n",
       "864     False      False  \n",
       "865     False      False  \n",
       "866     False      False  \n",
       "867     False      False  \n",
       "868     False       True  \n",
       "869     False      False  \n",
       "870     False      False  \n",
       "871     False      False  \n",
       "872     False      False  \n",
       "873     False      False  \n",
       "874     False      False  \n",
       "875     False      False  \n",
       "876     False      False  \n",
       "877     False      False  \n",
       "878     False       True  \n",
       "879     False      False  \n",
       "880     False      False  \n",
       "881     False      False  \n",
       "882     False      False  \n",
       "883     False      False  \n",
       "884     False      False  \n",
       "885     False      False  \n",
       "886     False      False  \n",
       "887     False      False  \n",
       "888     False       True  \n",
       "889     False      False  \n",
       "890     False      False  \n",
       "\n",
       "[891 rows x 11 columns]"
      ]
     },
     "execution_count": 102,
     "metadata": {},
     "output_type": "execute_result"
    }
   ],
   "source": [
    "df.isnull()"
   ]
  },
  {
   "cell_type": "code",
   "execution_count": 12,
   "metadata": {},
   "outputs": [
    {
     "data": {
      "text/plain": [
       "survived      0\n",
       "pclass        0\n",
       "name          0\n",
       "gender        0\n",
       "age         177\n",
       "sibsp         0\n",
       "parch         0\n",
       "fare          0\n",
       "cabin       687\n",
       "embarked      2\n",
       "dtype: int64"
      ]
     },
     "execution_count": 12,
     "metadata": {},
     "output_type": "execute_result"
    }
   ],
   "source": [
    "df.isnull().sum()"
   ]
  },
  {
   "cell_type": "code",
   "execution_count": 13,
   "metadata": {},
   "outputs": [
    {
     "name": "stderr",
     "output_type": "stream",
     "text": [
      "C:\\ProgramData\\Anaconda3\\lib\\site-packages\\IPython\\core\\interactiveshell.py:3296: UserWarning: To output multiple subplots, the figure containing the passed axes is being cleared\n",
      "  exec(code_obj, self.user_global_ns, self.user_ns)\n"
     ]
    },
    {
     "data": {
      "image/png": "[encoded data removed]",
      "text/plain": [
       "<Figure size 576x576 with 6 Axes>"
      ]
     },
     "metadata": {
      "needs_background": "light"
     },
     "output_type": "display_data"
    }
   ],
   "source": [
    "fig = plt.figure(figsize = (8,8))\n",
    "ax = fig.gca()\n",
    "df.hist(ax=ax)\n",
    "plt.show()"
   ]
  },
  {
   "cell_type": "code",
   "execution_count": 14,
   "metadata": {},
   "outputs": [
    {
     "data": {
      "text/plain": [
       "0.42"
      ]
     },
     "execution_count": 14,
     "metadata": {},
     "output_type": "execute_result"
    }
   ],
   "source": [
    "df.age.min()"
   ]
  },
  {
   "cell_type": "code",
   "execution_count": 15,
   "metadata": {},
   "outputs": [
    {
     "data": {
      "text/plain": [
       "80.0"
      ]
     },
     "execution_count": 15,
     "metadata": {},
     "output_type": "execute_result"
    }
   ],
   "source": [
    "df.age.max()"
   ]
  },
  {
   "cell_type": "code",
   "execution_count": 154,
   "metadata": {},
   "outputs": [
    {
     "data": {
      "text/plain": [
       "28.0"
      ]
     },
     "execution_count": 154,
     "metadata": {},
     "output_type": "execute_result"
    }
   ],
   "source": [
    "df.age.median()"
   ]
  },
  {
   "cell_type": "code",
   "execution_count": 160,
   "metadata": {},
   "outputs": [
    {
     "data": {
      "image/png": "[encoded data removed]",
      "text/plain": [
       "<Figure size 1152x360 with 1 Axes>"
      ]
     },
     "metadata": {},
     "output_type": "display_data"
    }
   ],
   "source": [
    "df['age']=df['age']\n",
    "labels=[\"child\",\"youth\",\"young adult\",\"early adult\",\"adult\",\"senior\"]\n",
    "df['age_group']=pd.cut(df['age'],bins,labels=labels)\n",
    "plt.figure(figsize=(16,5))\n",
    "sns.barplot(x='age_group',y='survived',data=df)\n",
    "plt.show()"
   ]
  },
  {
   "cell_type": "code",
   "execution_count": 18,
   "metadata": {},
   "outputs": [
    {
     "data": {
      "text/plain": [
       "array(['S', 'C', 'Q', nan], dtype=object)"
      ]
     },
     "execution_count": 18,
     "metadata": {},
     "output_type": "execute_result"
    }
   ],
   "source": [
    "df.embarked.unique()"
   ]
  },
  {
   "cell_type": "code",
   "execution_count": 161,
   "metadata": {},
   "outputs": [
    {
     "data": {
      "text/plain": [
       "0    S\n",
       "dtype: object"
      ]
     },
     "execution_count": 161,
     "metadata": {},
     "output_type": "execute_result"
    }
   ],
   "source": [
    "df[\"embarked\"].mode()"
   ]
  },
  {
   "cell_type": "code",
   "execution_count": 20,
   "metadata": {},
   "outputs": [],
   "source": [
    "df[\"embarked\"].fillna(str(df[\"embarked\"].mode().values[0]),inplace=True)"
   ]
  },
  {
   "cell_type": "code",
   "execution_count": 162,
   "metadata": {},
   "outputs": [
    {
     "data": {
      "image/png": "[encoded data removed]",
      "text/plain": [
       "<Figure size 1296x432 with 1 Axes>"
      ]
     },
     "metadata": {},
     "output_type": "display_data"
    }
   ],
   "source": [
    "fig=plt.figure(figsize=(18,6))\n",
    "plt.subplot2grid((2,3),(1,2))\n",
    "df.embarked.value_counts().plot(kind='bar',alpha=1)\n",
    "plt.title(\"Embarked\")\n",
    "plt.show()"
   ]
  },
  {
   "cell_type": "code",
   "execution_count": 22,
   "metadata": {},
   "outputs": [
    {
     "data": {
      "image/png": "[encoded data removed]",
      "text/plain": [
       "<Figure size 432x288 with 1 Axes>"
      ]
     },
     "metadata": {
      "needs_background": "light"
     },
     "output_type": "display_data"
    }
   ],
   "source": [
    "sns.barplot(x='embarked',y='survived',data=df)\n",
    "plt.show()"
   ]
  },
  {
   "cell_type": "code",
   "execution_count": 23,
   "metadata": {},
   "outputs": [
    {
     "data": {
      "image/png": "[encoded data removed]",
      "text/plain": [
       "<Figure size 432x288 with 1 Axes>"
      ]
     },
     "metadata": {},
     "output_type": "display_data"
    }
   ],
   "source": [
    "sns.set(style=\"whitegrid\", palette=\"muted\")\n",
    "sns.lineplot(x=\"pclass\", y=\"age\",\n",
    "             hue=\"gender\", style=\"embarked\",\n",
    "             data=df)\n",
    "plt.show()"
   ]
  },
  {
   "cell_type": "code",
   "execution_count": 163,
   "metadata": {},
   "outputs": [
    {
     "data": {
      "image/png": "[encoded data removed]",
      "text/plain": [
       "<Figure size 842.4x595.44 with 1 Axes>"
      ]
     },
     "metadata": {},
     "output_type": "display_data"
    }
   ],
   "source": [
    "sns.set(style=\"whitegrid\")\n",
    "sns.lineplot(x=\"pclass\", y=\"age\",\n",
    "             hue=\"gender\", style=\"survived\",\n",
    "             data=df)\n",
    "plt.show()"
   ]
  },
  {
   "cell_type": "code",
   "execution_count": null,
   "metadata": {},
   "outputs": [],
   "source": []
  },
  {
   "cell_type": "code",
   "execution_count": 26,
   "metadata": {},
   "outputs": [
    {
     "name": "stdout",
     "output_type": "stream",
     "text": [
      "male      577\n",
      "female    314\n",
      "Name: gender, dtype: int64\n"
     ]
    }
   ],
   "source": [
    "print(df['gender'].value_counts(dropna=False))"
   ]
  },
  {
   "cell_type": "code",
   "execution_count": 27,
   "metadata": {},
   "outputs": [
    {
     "data": {
      "image/png": "[encoded data removed]",
      "text/plain": [
       "<Figure size 1296x432 with 1 Axes>"
      ]
     },
     "metadata": {},
     "output_type": "display_data"
    }
   ],
   "source": [
    "fig=plt.figure(figsize=(18,6))\n",
    "plt.subplot2grid((3,4),(0,0))\n",
    "df.survived.value_counts(normalize=True).plot(kind='bar',alpha=1)\n",
    "plt.title(\"Survived\")\n",
    "plt.show()"
   ]
  },
  {
   "cell_type": "code",
   "execution_count": 28,
   "metadata": {},
   "outputs": [
    {
     "data": {
      "image/png": "[encoded data removed]",
      "text/plain": [
       "<Figure size 432x288 with 1 Axes>"
      ]
     },
     "metadata": {},
     "output_type": "display_data"
    }
   ],
   "source": [
    "sns.barplot(x='gender',y='age',data=df)\n",
    "plt.show()"
   ]
  },
  {
   "cell_type": "code",
   "execution_count": 29,
   "metadata": {},
   "outputs": [
    {
     "data": {
      "image/png": "[encoded data removed]",
      "text/plain": [
       "<Figure size 1296x432 with 1 Axes>"
      ]
     },
     "metadata": {},
     "output_type": "display_data"
    }
   ],
   "source": [
    "fig=plt.figure(figsize=(18,6))\n",
    "plt.subplot2grid((3,4),(0,1))\n",
    "df.survived[df.gender=='male'].value_counts(normalize=True).plot(kind='bar',alpha=1)\n",
    "plt.title(\"Men Survived\")\n",
    "plt.show()"
   ]
  },
  {
   "cell_type": "code",
   "execution_count": 30,
   "metadata": {},
   "outputs": [
    {
     "data": {
      "image/png": "[encoded data removed]",
      "text/plain": [
       "<Figure size 1296x432 with 1 Axes>"
      ]
     },
     "metadata": {},
     "output_type": "display_data"
    }
   ],
   "source": [
    "female_color=\"#FA0000\"\n",
    "fig=plt.figure(figsize=(18,6))\n",
    "plt.subplot2grid((3,4),(0,2))\n",
    "df.survived[df.gender=='female'].value_counts(normalize=True).plot(kind='bar',alpha=1,color=female_color)\n",
    "plt.title(\"Women Survived\")\n",
    "plt.show()"
   ]
  },
  {
   "cell_type": "code",
   "execution_count": 180,
   "metadata": {},
   "outputs": [
    {
     "data": {
      "image/png": "[encoded data removed]",
      "text/plain": [
       "<Figure size 1296x432 with 1 Axes>"
      ]
     },
     "metadata": {},
     "output_type": "display_data"
    }
   ],
   "source": [
    "female_color=\"red\"\n",
    "fig=plt.figure(figsize=(18,6))\n",
    "df.gender[df.survived==1].value_counts(normalize=True).plot(kind='bar',alpha=1,color=[female_color,'b'])\n",
    "plt.title(\"Gender of Survived\")\n",
    "plt.show()"
   ]
  },
  {
   "cell_type": "code",
   "execution_count": 168,
   "metadata": {},
   "outputs": [
    {
     "data": {
      "image/png": "[encoded data removed]",
      "text/plain": [
       "<Figure size 1296x432 with 1 Axes>"
      ]
     },
     "metadata": {},
     "output_type": "display_data"
    }
   ],
   "source": [
    "fig=plt.figure(figsize=(18,6))\n",
    "for x in [1,2,3]:\n",
    "    df.age[df.pclass==x].plot(kind='kde')\n",
    "    \n",
    "plt.title('Class wrt Age')\n",
    "plt.legend(('1st','2nd','3rd'))\n",
    "plt.show()"
   ]
  },
  {
   "cell_type": "code",
   "execution_count": 171,
   "metadata": {},
   "outputs": [
    {
     "data": {
      "image/png": "[encoded data removed]",
      "text/plain": [
       "<Figure size 1296x432 with 4 Axes>"
      ]
     },
     "metadata": {},
     "output_type": "display_data"
    }
   ],
   "source": [
    "fig=plt.figure(figsize=(18,6))\n",
    "\n",
    "#rich man\n",
    "plt.subplot2grid((4,4),(0,0))\n",
    "df.survived[(df.gender=='male') & (df.pclass==1)].value_counts(normalize=True).plot(kind='bar',alpha=1,color='b')\n",
    "plt.title('Rich Man Survived')\n",
    "\n",
    "\n",
    "#poor man\n",
    "plt.subplot2grid((4,4),(0,1))\n",
    "df.survived[(df.gender=='male') & (df.pclass==3)].value_counts(normalize=True).plot(kind='bar',alpha=1,color='r')\n",
    "plt.title('Poor Man Survived')\n",
    "\n",
    "#rich women\n",
    "plt.subplot2grid((4,4),(0,2))\n",
    "df.survived[(df.gender=='female') & (df.pclass==1)].value_counts(normalize=True).plot(kind='bar',alpha=1,color='b')\n",
    "plt.title('Rich Women Survived')\n",
    "\n",
    "#poor  woman\n",
    "plt.subplot2grid((4,4),(0,3))\n",
    "df.survived[(df.gender=='female') & (df.pclass==3)].value_counts(normalize=True).plot(kind='bar',alpha=1,color='g')\n",
    "plt.title('Poor Women Survived')\n",
    "\n",
    "\n",
    "plt.show()\n"
   ]
  },
  {
   "cell_type": "code",
   "execution_count": null,
   "metadata": {},
   "outputs": [],
   "source": []
  },
  {
   "cell_type": "code",
   "execution_count": null,
   "metadata": {},
   "outputs": [],
   "source": []
  },
  {
   "cell_type": "code",
   "execution_count": 34,
   "metadata": {},
   "outputs": [
    {
     "data": {
      "image/png": "[encoded data removed]",
      "text/plain": [
       "<Figure size 1152x360 with 1 Axes>"
      ]
     },
     "metadata": {},
     "output_type": "display_data"
    }
   ],
   "source": [
    "plt.figure(figsize=(16,5))\n",
    "sns.barplot(x='pclass',y='age',data=df)\n",
    "plt.show()"
   ]
  },
  {
   "cell_type": "code",
   "execution_count": 173,
   "metadata": {},
   "outputs": [
    {
     "data": {
      "image/png": "[encoded data removed]",
      "text/plain": [
       "<Figure size 1296x432 with 1 Axes>"
      ]
     },
     "metadata": {},
     "output_type": "display_data"
    }
   ],
   "source": [
    "fig=plt.figure(figsize=(18,6))\n",
    "df.pclass.value_counts(normalize=True).plot(kind='bar',alpha=1)\n",
    "plt.title(\"Class\")\n",
    "plt.show()"
   ]
  },
  {
   "cell_type": "code",
   "execution_count": null,
   "metadata": {},
   "outputs": [],
   "source": []
  },
  {
   "cell_type": "code",
   "execution_count": 36,
   "metadata": {},
   "outputs": [
    {
     "data": {
      "image/png": "[encoded data removed]",
      "text/plain": [
       "<Figure size 1152x360 with 1 Axes>"
      ]
     },
     "metadata": {},
     "output_type": "display_data"
    }
   ],
   "source": [
    "plt.figure(figsize=(16,5))\n",
    "sns.barplot(x='pclass',y='fare',data=df)\n",
    "plt.show()\n"
   ]
  },
  {
   "cell_type": "code",
   "execution_count": 37,
   "metadata": {},
   "outputs": [
    {
     "data": {
      "image/png": "[encoded data removed]",
      "text/plain": [
       "<Figure size 1152x360 with 1 Axes>"
      ]
     },
     "metadata": {},
     "output_type": "display_data"
    }
   ],
   "source": [
    "plt.figure(figsize=(16,5))\n",
    "sns.barplot(x='survived',y='age',data=df)\n",
    "plt.show()"
   ]
  },
  {
   "cell_type": "code",
   "execution_count": 38,
   "metadata": {},
   "outputs": [
    {
     "data": {
      "text/plain": [
       "array([1, 0, 3, 4, 2, 5, 8], dtype=int64)"
      ]
     },
     "execution_count": 38,
     "metadata": {},
     "output_type": "execute_result"
    }
   ],
   "source": [
    "df.sibsp.unique()"
   ]
  },
  {
   "cell_type": "code",
   "execution_count": 39,
   "metadata": {},
   "outputs": [
    {
     "data": {
      "image/png": "[encoded data removed]",
      "text/plain": [
       "<Figure size 432x288 with 1 Axes>"
      ]
     },
     "metadata": {},
     "output_type": "display_data"
    }
   ],
   "source": [
    "sns.barplot(x='sibsp',y='age',data=df)\n",
    "plt.show()"
   ]
  },
  {
   "cell_type": "code",
   "execution_count": 40,
   "metadata": {},
   "outputs": [
    {
     "data": {
      "image/png": "[encoded data removed]",
      "text/plain": [
       "<Figure size 1152x360 with 1 Axes>"
      ]
     },
     "metadata": {},
     "output_type": "display_data"
    }
   ],
   "source": [
    "plt.figure(figsize=(16,5))\n",
    "sns.barplot(x='gender',y='sibsp',data=df)\n",
    "plt.show()"
   ]
  },
  {
   "cell_type": "code",
   "execution_count": 41,
   "metadata": {},
   "outputs": [
    {
     "data": {
      "text/plain": [
       "array([0, 1, 2, 5, 3, 4, 6], dtype=int64)"
      ]
     },
     "execution_count": 41,
     "metadata": {},
     "output_type": "execute_result"
    }
   ],
   "source": [
    "df.parch.unique()"
   ]
  },
  {
   "cell_type": "code",
   "execution_count": 42,
   "metadata": {},
   "outputs": [
    {
     "data": {
      "image/png": "[encoded data removed]",
      "text/plain": [
       "<Figure size 432x288 with 1 Axes>"
      ]
     },
     "metadata": {},
     "output_type": "display_data"
    }
   ],
   "source": [
    "sns.barplot(x='parch',y='age',data=df)\n",
    "plt.show()"
   ]
  },
  {
   "cell_type": "code",
   "execution_count": 43,
   "metadata": {},
   "outputs": [
    {
     "data": {
      "image/png": "[encoded data removed]",
      "text/plain": [
       "<Figure size 432x288 with 1 Axes>"
      ]
     },
     "metadata": {},
     "output_type": "display_data"
    }
   ],
   "source": [
    "sns.barplot(x='parch',y='sibsp',data=df)\n",
    "plt.show()"
   ]
  },
  {
   "cell_type": "code",
   "execution_count": null,
   "metadata": {},
   "outputs": [],
   "source": []
  },
  {
   "cell_type": "code",
   "execution_count": 48,
   "metadata": {},
   "outputs": [
    {
     "data": {
      "image/png": "[encoded data removed]",
      "text/plain": [
       "<Figure size 432x288 with 1 Axes>"
      ]
     },
     "metadata": {},
     "output_type": "display_data"
    }
   ],
   "source": [
    "sns.barplot(x='pclass',y='survived',data=df)\n",
    "plt.show()"
   ]
  },
  {
   "cell_type": "code",
   "execution_count": 47,
   "metadata": {},
   "outputs": [
    {
     "data": {
      "text/html": [
       "<div>\n",
       "<style scoped>\n",
       "    .dataframe tbody tr th:only-of-type {\n",
       "        vertical-align: middle;\n",
       "    }\n",
       "\n",
       "    .dataframe tbody tr th {\n",
       "        vertical-align: top;\n",
       "    }\n",
       "\n",
       "    .dataframe thead th {\n",
       "        text-align: right;\n",
       "    }\n",
       "</style>\n",
       "<table border=\"1\" class=\"dataframe\">\n",
       "  <thead>\n",
       "    <tr style=\"text-align: right;\">\n",
       "      <th></th>\n",
       "      <th>survived</th>\n",
       "      <th>pclass</th>\n",
       "      <th>age</th>\n",
       "      <th>sibsp</th>\n",
       "      <th>parch</th>\n",
       "      <th>fare</th>\n",
       "    </tr>\n",
       "  </thead>\n",
       "  <tbody>\n",
       "    <tr>\n",
       "      <th>survived</th>\n",
       "      <td>1.000000</td>\n",
       "      <td>-0.338481</td>\n",
       "      <td>-0.077221</td>\n",
       "      <td>-0.035322</td>\n",
       "      <td>0.081629</td>\n",
       "      <td>0.257307</td>\n",
       "    </tr>\n",
       "    <tr>\n",
       "      <th>pclass</th>\n",
       "      <td>-0.338481</td>\n",
       "      <td>1.000000</td>\n",
       "      <td>-0.369226</td>\n",
       "      <td>0.083081</td>\n",
       "      <td>0.018443</td>\n",
       "      <td>-0.549500</td>\n",
       "    </tr>\n",
       "    <tr>\n",
       "      <th>age</th>\n",
       "      <td>-0.077221</td>\n",
       "      <td>-0.369226</td>\n",
       "      <td>1.000000</td>\n",
       "      <td>-0.308247</td>\n",
       "      <td>-0.189119</td>\n",
       "      <td>0.096067</td>\n",
       "    </tr>\n",
       "    <tr>\n",
       "      <th>sibsp</th>\n",
       "      <td>-0.035322</td>\n",
       "      <td>0.083081</td>\n",
       "      <td>-0.308247</td>\n",
       "      <td>1.000000</td>\n",
       "      <td>0.414838</td>\n",
       "      <td>0.159651</td>\n",
       "    </tr>\n",
       "    <tr>\n",
       "      <th>parch</th>\n",
       "      <td>0.081629</td>\n",
       "      <td>0.018443</td>\n",
       "      <td>-0.189119</td>\n",
       "      <td>0.414838</td>\n",
       "      <td>1.000000</td>\n",
       "      <td>0.216225</td>\n",
       "    </tr>\n",
       "    <tr>\n",
       "      <th>fare</th>\n",
       "      <td>0.257307</td>\n",
       "      <td>-0.549500</td>\n",
       "      <td>0.096067</td>\n",
       "      <td>0.159651</td>\n",
       "      <td>0.216225</td>\n",
       "      <td>1.000000</td>\n",
       "    </tr>\n",
       "  </tbody>\n",
       "</table>\n",
       "</div>"
      ],
      "text/plain": [
       "          survived    pclass       age     sibsp     parch      fare\n",
       "survived  1.000000 -0.338481 -0.077221 -0.035322  0.081629  0.257307\n",
       "pclass   -0.338481  1.000000 -0.369226  0.083081  0.018443 -0.549500\n",
       "age      -0.077221 -0.369226  1.000000 -0.308247 -0.189119  0.096067\n",
       "sibsp    -0.035322  0.083081 -0.308247  1.000000  0.414838  0.159651\n",
       "parch     0.081629  0.018443 -0.189119  0.414838  1.000000  0.216225\n",
       "fare      0.257307 -0.549500  0.096067  0.159651  0.216225  1.000000"
      ]
     },
     "execution_count": 47,
     "metadata": {},
     "output_type": "execute_result"
    }
   ],
   "source": [
    "df.corr()"
   ]
  },
  {
   "cell_type": "code",
   "execution_count": 176,
   "metadata": {},
   "outputs": [
    {
     "data": {
      "image/png": "[encoded data removed]",
      "text/plain": [
       "<Figure size 1296x1296 with 2 Axes>"
      ]
     },
     "metadata": {},
     "output_type": "display_data"
    }
   ],
   "source": [
    "f,ax=plt.subplots(figsize=(18,18))\n",
    "sns.heatmap(df.corr(),annot=True,linewidths=.5,fmt='.0%',ax=ax)\n",
    "plt.show()"
   ]
  },
  {
   "cell_type": "code",
   "execution_count": 51,
   "metadata": {},
   "outputs": [],
   "source": [
    "#probablity mass function"
   ]
  },
  {
   "cell_type": "code",
   "execution_count": 54,
   "metadata": {},
   "outputs": [],
   "source": [
    "%matplotlib inline\n",
    "\n",
    "import numpy as np\n",
    "import matplotlib.pyplot as plt\n",
    "\n",
    "import thinkstats2\n",
    "import thinkplot\n",
    "from IPython.core import page\n",
    "page.page = print"
   ]
  },
  {
   "cell_type": "code",
   "execution_count": 58,
   "metadata": {},
   "outputs": [],
   "source": [
    "def Cdf(sample, x):\n",
    "    count = 0.0\n",
    "    for value in sample:\n",
    "        if value >= x:\n",
    "            count += 1\n",
    "\n",
    "    prob = count / len(sample)\n",
    "    return prob"
   ]
  },
  {
   "cell_type": "code",
   "execution_count": 63,
   "metadata": {},
   "outputs": [],
   "source": [
    "data=df.head(10)"
   ]
  },
  {
   "cell_type": "code",
   "execution_count": 64,
   "metadata": {},
   "outputs": [
    {
     "data": {
      "text/html": [
       "<div>\n",
       "<style scoped>\n",
       "    .dataframe tbody tr th:only-of-type {\n",
       "        vertical-align: middle;\n",
       "    }\n",
       "\n",
       "    .dataframe tbody tr th {\n",
       "        vertical-align: top;\n",
       "    }\n",
       "\n",
       "    .dataframe thead th {\n",
       "        text-align: right;\n",
       "    }\n",
       "</style>\n",
       "<table border=\"1\" class=\"dataframe\">\n",
       "  <thead>\n",
       "    <tr style=\"text-align: right;\">\n",
       "      <th></th>\n",
       "      <th>survived</th>\n",
       "      <th>pclass</th>\n",
       "      <th>name</th>\n",
       "      <th>gender</th>\n",
       "      <th>age</th>\n",
       "      <th>sibsp</th>\n",
       "      <th>parch</th>\n",
       "      <th>fare</th>\n",
       "      <th>cabin</th>\n",
       "      <th>embarked</th>\n",
       "      <th>age_group</th>\n",
       "    </tr>\n",
       "  </thead>\n",
       "  <tbody>\n",
       "    <tr>\n",
       "      <th>0</th>\n",
       "      <td>0</td>\n",
       "      <td>3</td>\n",
       "      <td>Braund, Mr. Owen Harris</td>\n",
       "      <td>male</td>\n",
       "      <td>22.0</td>\n",
       "      <td>1</td>\n",
       "      <td>0</td>\n",
       "      <td>7.2500</td>\n",
       "      <td>NaN</td>\n",
       "      <td>S</td>\n",
       "      <td>youth</td>\n",
       "    </tr>\n",
       "    <tr>\n",
       "      <th>1</th>\n",
       "      <td>1</td>\n",
       "      <td>1</td>\n",
       "      <td>Cumings, Mrs. John Bradley (Florence Briggs Th...</td>\n",
       "      <td>female</td>\n",
       "      <td>38.0</td>\n",
       "      <td>1</td>\n",
       "      <td>0</td>\n",
       "      <td>71.2833</td>\n",
       "      <td>C85</td>\n",
       "      <td>C</td>\n",
       "      <td>early adult</td>\n",
       "    </tr>\n",
       "    <tr>\n",
       "      <th>2</th>\n",
       "      <td>1</td>\n",
       "      <td>3</td>\n",
       "      <td>Heikkinen, Miss. Laina</td>\n",
       "      <td>female</td>\n",
       "      <td>26.0</td>\n",
       "      <td>0</td>\n",
       "      <td>0</td>\n",
       "      <td>7.9250</td>\n",
       "      <td>NaN</td>\n",
       "      <td>S</td>\n",
       "      <td>young adult</td>\n",
       "    </tr>\n",
       "    <tr>\n",
       "      <th>3</th>\n",
       "      <td>1</td>\n",
       "      <td>1</td>\n",
       "      <td>Futrelle, Mrs. Jacques Heath (Lily May Peel)</td>\n",
       "      <td>female</td>\n",
       "      <td>35.0</td>\n",
       "      <td>1</td>\n",
       "      <td>0</td>\n",
       "      <td>53.1000</td>\n",
       "      <td>C123</td>\n",
       "      <td>S</td>\n",
       "      <td>early adult</td>\n",
       "    </tr>\n",
       "    <tr>\n",
       "      <th>4</th>\n",
       "      <td>0</td>\n",
       "      <td>3</td>\n",
       "      <td>Allen, Mr. William Henry</td>\n",
       "      <td>male</td>\n",
       "      <td>35.0</td>\n",
       "      <td>0</td>\n",
       "      <td>0</td>\n",
       "      <td>8.0500</td>\n",
       "      <td>NaN</td>\n",
       "      <td>S</td>\n",
       "      <td>early adult</td>\n",
       "    </tr>\n",
       "    <tr>\n",
       "      <th>5</th>\n",
       "      <td>0</td>\n",
       "      <td>3</td>\n",
       "      <td>Moran, Mr. James</td>\n",
       "      <td>male</td>\n",
       "      <td>NaN</td>\n",
       "      <td>0</td>\n",
       "      <td>0</td>\n",
       "      <td>8.4583</td>\n",
       "      <td>NaN</td>\n",
       "      <td>Q</td>\n",
       "      <td>NaN</td>\n",
       "    </tr>\n",
       "    <tr>\n",
       "      <th>6</th>\n",
       "      <td>0</td>\n",
       "      <td>1</td>\n",
       "      <td>McCarthy, Mr. Timothy J</td>\n",
       "      <td>male</td>\n",
       "      <td>54.0</td>\n",
       "      <td>0</td>\n",
       "      <td>0</td>\n",
       "      <td>51.8625</td>\n",
       "      <td>E46</td>\n",
       "      <td>S</td>\n",
       "      <td>early adult</td>\n",
       "    </tr>\n",
       "    <tr>\n",
       "      <th>7</th>\n",
       "      <td>0</td>\n",
       "      <td>3</td>\n",
       "      <td>Palsson, Master. Gosta Leonard</td>\n",
       "      <td>male</td>\n",
       "      <td>2.0</td>\n",
       "      <td>3</td>\n",
       "      <td>1</td>\n",
       "      <td>21.0750</td>\n",
       "      <td>NaN</td>\n",
       "      <td>S</td>\n",
       "      <td>child</td>\n",
       "    </tr>\n",
       "    <tr>\n",
       "      <th>8</th>\n",
       "      <td>1</td>\n",
       "      <td>3</td>\n",
       "      <td>Johnson, Mrs. Oscar W (Elisabeth Vilhelmina Berg)</td>\n",
       "      <td>female</td>\n",
       "      <td>27.0</td>\n",
       "      <td>0</td>\n",
       "      <td>2</td>\n",
       "      <td>11.1333</td>\n",
       "      <td>NaN</td>\n",
       "      <td>S</td>\n",
       "      <td>young adult</td>\n",
       "    </tr>\n",
       "    <tr>\n",
       "      <th>9</th>\n",
       "      <td>1</td>\n",
       "      <td>2</td>\n",
       "      <td>Nasser, Mrs. Nicholas (Adele Achem)</td>\n",
       "      <td>female</td>\n",
       "      <td>14.0</td>\n",
       "      <td>1</td>\n",
       "      <td>0</td>\n",
       "      <td>30.0708</td>\n",
       "      <td>NaN</td>\n",
       "      <td>C</td>\n",
       "      <td>child</td>\n",
       "    </tr>\n",
       "  </tbody>\n",
       "</table>\n",
       "</div>"
      ],
      "text/plain": [
       "   survived  pclass                                               name  \\\n",
       "0         0       3                            Braund, Mr. Owen Harris   \n",
       "1         1       1  Cumings, Mrs. John Bradley (Florence Briggs Th...   \n",
       "2         1       3                             Heikkinen, Miss. Laina   \n",
       "3         1       1       Futrelle, Mrs. Jacques Heath (Lily May Peel)   \n",
       "4         0       3                           Allen, Mr. William Henry   \n",
       "5         0       3                                   Moran, Mr. James   \n",
       "6         0       1                            McCarthy, Mr. Timothy J   \n",
       "7         0       3                     Palsson, Master. Gosta Leonard   \n",
       "8         1       3  Johnson, Mrs. Oscar W (Elisabeth Vilhelmina Berg)   \n",
       "9         1       2                Nasser, Mrs. Nicholas (Adele Achem)   \n",
       "\n",
       "   gender   age  sibsp  parch     fare cabin embarked    age_group  \n",
       "0    male  22.0      1      0   7.2500   NaN        S        youth  \n",
       "1  female  38.0      1      0  71.2833   C85        C  early adult  \n",
       "2  female  26.0      0      0   7.9250   NaN        S  young adult  \n",
       "3  female  35.0      1      0  53.1000  C123        S  early adult  \n",
       "4    male  35.0      0      0   8.0500   NaN        S  early adult  \n",
       "5    male   NaN      0      0   8.4583   NaN        Q          NaN  \n",
       "6    male  54.0      0      0  51.8625   E46        S  early adult  \n",
       "7    male   2.0      3      1  21.0750   NaN        S        child  \n",
       "8  female  27.0      0      2  11.1333   NaN        S  young adult  \n",
       "9  female  14.0      1      0  30.0708   NaN        C        child  "
      ]
     },
     "execution_count": 64,
     "metadata": {},
     "output_type": "execute_result"
    }
   ],
   "source": [
    "data"
   ]
  },
  {
   "cell_type": "code",
   "execution_count": 65,
   "metadata": {},
   "outputs": [],
   "source": [
    "data1=data['age']"
   ]
  },
  {
   "cell_type": "code",
   "execution_count": 177,
   "metadata": {},
   "outputs": [
    {
     "data": {
      "image/png": "[encoded data removed]",
      "text/plain": [
       "<Figure size 842.4x595.44 with 1 Axes>"
      ]
     },
     "metadata": {},
     "output_type": "display_data"
    }
   ],
   "source": [
    "cdf = thinkstats2.Cdf(data1, label='CDF x')\n",
    "thinkplot.Cdf(cdf)\n",
    "thinkplot.Config(xlabel='x', ylabel='CDF')"
   ]
  },
  {
   "cell_type": "code",
   "execution_count": 67,
   "metadata": {},
   "outputs": [
    {
     "data": {
      "text/plain": [
       "0.42      1\n",
       "0.67      1\n",
       "0.75      2\n",
       "0.83      2\n",
       "0.92      1\n",
       "1.00      7\n",
       "2.00     10\n",
       "3.00      6\n",
       "4.00     10\n",
       "5.00      4\n",
       "6.00      3\n",
       "7.00      3\n",
       "8.00      4\n",
       "9.00      8\n",
       "10.00     2\n",
       "11.00     4\n",
       "12.00     1\n",
       "13.00     2\n",
       "14.00     6\n",
       "14.50     1\n",
       "15.00     5\n",
       "16.00    17\n",
       "17.00    13\n",
       "18.00    26\n",
       "19.00    25\n",
       "20.00    15\n",
       "20.50     1\n",
       "21.00    24\n",
       "22.00    27\n",
       "23.00    15\n",
       "         ..\n",
       "44.00     9\n",
       "45.00    12\n",
       "45.50     2\n",
       "46.00     3\n",
       "47.00     9\n",
       "48.00     9\n",
       "49.00     6\n",
       "50.00    10\n",
       "51.00     7\n",
       "52.00     6\n",
       "53.00     1\n",
       "54.00     8\n",
       "55.00     2\n",
       "55.50     1\n",
       "56.00     4\n",
       "57.00     2\n",
       "58.00     5\n",
       "59.00     2\n",
       "60.00     4\n",
       "61.00     3\n",
       "62.00     4\n",
       "63.00     2\n",
       "64.00     2\n",
       "65.00     3\n",
       "66.00     1\n",
       "70.00     2\n",
       "70.50     1\n",
       "71.00     2\n",
       "74.00     1\n",
       "80.00     1\n",
       "Name: age, Length: 88, dtype: int64"
      ]
     },
     "execution_count": 67,
     "metadata": {},
     "output_type": "execute_result"
    }
   ],
   "source": [
    " df.age.value_counts().sort_index()"
   ]
  },
  {
   "cell_type": "code",
   "execution_count": 68,
   "metadata": {},
   "outputs": [
    {
     "data": {
      "text/plain": [
       "child           77\n",
       "youth          200\n",
       "young adult    201\n",
       "early adult    194\n",
       "adult           41\n",
       "senior           1\n",
       "Name: age_group, dtype: int64"
      ]
     },
     "execution_count": 68,
     "metadata": {},
     "output_type": "execute_result"
    }
   ],
   "source": [
    " df.age_group.value_counts().sort_index()"
   ]
  },
  {
   "cell_type": "code",
   "execution_count": 69,
   "metadata": {},
   "outputs": [
    {
     "data": {
      "text/plain": [
       "male      577\n",
       "female    314\n",
       "Name: gender, dtype: int64"
      ]
     },
     "execution_count": 69,
     "metadata": {},
     "output_type": "execute_result"
    }
   ],
   "source": [
    "df.gender.value_counts(sort=False)\n"
   ]
  },
  {
   "cell_type": "code",
   "execution_count": null,
   "metadata": {},
   "outputs": [],
   "source": []
  },
  {
   "cell_type": "code",
   "execution_count": null,
   "metadata": {},
   "outputs": [],
   "source": []
  },
  {
   "cell_type": "code",
   "execution_count": 75,
   "metadata": {},
   "outputs": [
    {
     "data": {
      "text/plain": [
       "Hist({'male': 577, 'female': 314})"
      ]
     },
     "execution_count": 75,
     "metadata": {},
     "output_type": "execute_result"
    }
   ],
   "source": [
    "hist1 = thinkstats2.Hist(df.gender)\n",
    "hist1"
   ]
  },
  {
   "cell_type": "code",
   "execution_count": 76,
   "metadata": {},
   "outputs": [
    {
     "data": {
      "image/png": "[encoded data removed]",
      "text/plain": [
       "<Figure size 432x288 with 1 Axes>"
      ]
     },
     "metadata": {
      "needs_background": "light"
     },
     "output_type": "display_data"
    },
    {
     "data": {
      "text/plain": [
       "<Figure size 576x432 with 0 Axes>"
      ]
     },
     "metadata": {},
     "output_type": "display_data"
    }
   ],
   "source": [
    "thinkplot.Hist(hist1)\n",
    "thinkplot.Show(xlabel='Gender', ylabel='No Of Male And Female')"
   ]
  },
  {
   "cell_type": "code",
   "execution_count": 77,
   "metadata": {},
   "outputs": [
    {
     "data": {
      "text/plain": [
       "Hist({24.0: 30, 22.0: 27, 18.0: 26, 19.0: 25, 30.0: 25, 28.0: 25, 21.0: 24, 25.0: 23, 36.0: 22, 29.0: 20, 32.0: 18, 27.0: 18, 35.0: 18, 26.0: 18, 16.0: 17, 31.0: 17, 20.0: 15, 33.0: 15, 23.0: 15, 34.0: 15, 39.0: 14, 17.0: 13, 42.0: 13, 40.0: 13, 45.0: 12, 38.0: 11, 50.0: 10, 2.0: 10, 4.0: 10, 47.0: 9, 44.0: 9, 48.0: 9, 54.0: 8, 9.0: 8, 1.0: 7, 51.0: 7, 52.0: 6, 14.0: 6, 3.0: 6, 49.0: 6, 41.0: 6, 37.0: 6, 15.0: 5, 43.0: 5, 58.0: 5, 11.0: 4, 62.0: 4, 60.0: 4, 8.0: 4, 56.0: 4, 5.0: 4, 46.0: 3, 65.0: 3, 7.0: 3, 6.0: 3, 61.0: 3, 55.0: 2, 28.5: 2, 71.0: 2, 59.0: 2, 63.0: 2, 0.83: 2, 30.5: 2, 70.0: 2, 57.0: 2, 0.75: 2, 13.0: 2, 10.0: 2, 64.0: 2, 40.5: 2, 32.5: 2, 45.5: 2, 20.5: 1, 24.5: 1, 0.67: 1, 14.5: 1, 0.92: 1, 74.0: 1, 34.5: 1, 80.0: 1, 12.0: 1, 36.5: 1, 53.0: 1, 55.5: 1, 70.5: 1, 66.0: 1, 23.5: 1, 0.42: 1})"
      ]
     },
     "execution_count": 77,
     "metadata": {},
     "output_type": "execute_result"
    }
   ],
   "source": [
    "hist2 = thinkstats2.Hist(df.age)\n",
    "hist2"
   ]
  },
  {
   "cell_type": "code",
   "execution_count": 78,
   "metadata": {},
   "outputs": [
    {
     "data": {
      "image/png": "[encoded data removed]",
      "text/plain": [
       "<Figure size 432x288 with 1 Axes>"
      ]
     },
     "metadata": {
      "needs_background": "light"
     },
     "output_type": "display_data"
    },
    {
     "data": {
      "text/plain": [
       "<Figure size 576x432 with 0 Axes>"
      ]
     },
     "metadata": {},
     "output_type": "display_data"
    }
   ],
   "source": [
    "thinkplot.Hist(hist2)\n",
    "thinkplot.Show(xlabel='Age', ylabel='No of persons')"
   ]
  },
  {
   "cell_type": "code",
   "execution_count": 79,
   "metadata": {},
   "outputs": [
    {
     "data": {
      "text/plain": [
       "Hist({3: 491, 1: 216, 2: 184})"
      ]
     },
     "execution_count": 79,
     "metadata": {},
     "output_type": "execute_result"
    }
   ],
   "source": [
    "hist3 = thinkstats2.Hist(df.pclass)\n",
    "hist3"
   ]
  },
  {
   "cell_type": "code",
   "execution_count": 80,
   "metadata": {},
   "outputs": [
    {
     "data": {
      "image/png": "[encoded data removed]",
      "text/plain": [
       "<Figure size 432x288 with 1 Axes>"
      ]
     },
     "metadata": {
      "needs_background": "light"
     },
     "output_type": "display_data"
    },
    {
     "data": {
      "text/plain": [
       "<Figure size 576x432 with 0 Axes>"
      ]
     },
     "metadata": {},
     "output_type": "display_data"
    }
   ],
   "source": [
    "thinkplot.Hist(hist3)\n",
    "thinkplot.Show(xlabel='pclass', ylabel='No of persons')"
   ]
  },
  {
   "cell_type": "code",
   "execution_count": null,
   "metadata": {},
   "outputs": [],
   "source": []
  },
  {
   "cell_type": "code",
   "execution_count": 83,
   "metadata": {},
   "outputs": [
    {
     "data": {
      "text/plain": [
       "Pmf({'male': 0.6475869809203143, 'female': 0.35241301907968575})"
      ]
     },
     "execution_count": 83,
     "metadata": {},
     "output_type": "execute_result"
    }
   ],
   "source": [
    "pmf = thinkstats2.Pmf(df.gender)\n",
    "\n",
    "pmf\n"
   ]
  },
  {
   "cell_type": "code",
   "execution_count": 84,
   "metadata": {},
   "outputs": [
    {
     "data": {
      "text/plain": [
       "0.6475869809203143"
      ]
     },
     "execution_count": 84,
     "metadata": {},
     "output_type": "execute_result"
    }
   ],
   "source": [
    "pmf.Prob('male')"
   ]
  },
  {
   "cell_type": "code",
   "execution_count": 85,
   "metadata": {},
   "outputs": [
    {
     "data": {
      "text/plain": [
       "1.0"
      ]
     },
     "execution_count": 85,
     "metadata": {},
     "output_type": "execute_result"
    }
   ],
   "source": [
    "pmf.Total()\n"
   ]
  },
  {
   "cell_type": "code",
   "execution_count": 86,
   "metadata": {},
   "outputs": [
    {
     "data": {
      "text/plain": [
       "1.0"
      ]
     },
     "execution_count": 86,
     "metadata": {},
     "output_type": "execute_result"
    }
   ],
   "source": [
    "pmf.Normalize()"
   ]
  },
  {
   "cell_type": "code",
   "execution_count": 87,
   "metadata": {},
   "outputs": [
    {
     "data": {
      "text/plain": [
       "Pmf({24.0: 0.04201680672268908, 22.0: 0.037815126050420166, 18.0: 0.036414565826330535, 19.0: 0.0350140056022409, 30.0: 0.0350140056022409, 28.0: 0.0350140056022409, 21.0: 0.03361344537815126, 25.0: 0.03221288515406163, 36.0: 0.03081232492997199, 29.0: 0.028011204481792718, 32.0: 0.025210084033613446, 27.0: 0.025210084033613446, 35.0: 0.025210084033613446, 26.0: 0.025210084033613446, 16.0: 0.023809523809523808, 31.0: 0.023809523809523808, 20.0: 0.02100840336134454, 33.0: 0.02100840336134454, 23.0: 0.02100840336134454, 34.0: 0.02100840336134454, 39.0: 0.0196078431372549, 17.0: 0.018207282913165267, 42.0: 0.018207282913165267, 40.0: 0.018207282913165267, 45.0: 0.01680672268907563, 38.0: 0.015406162464985995, 50.0: 0.014005602240896359, 2.0: 0.014005602240896359, 4.0: 0.014005602240896359, 47.0: 0.012605042016806723, 44.0: 0.012605042016806723, 48.0: 0.012605042016806723, 54.0: 0.011204481792717087, 9.0: 0.011204481792717087, 1.0: 0.00980392156862745, 51.0: 0.00980392156862745, 52.0: 0.008403361344537815, 14.0: 0.008403361344537815, 3.0: 0.008403361344537815, 49.0: 0.008403361344537815, 41.0: 0.008403361344537815, 37.0: 0.008403361344537815, 15.0: 0.0070028011204481795, 43.0: 0.0070028011204481795, 58.0: 0.0070028011204481795, 11.0: 0.0056022408963585435, 62.0: 0.0056022408963585435, 60.0: 0.0056022408963585435, 8.0: 0.0056022408963585435, 56.0: 0.0056022408963585435, 5.0: 0.0056022408963585435, 46.0: 0.004201680672268907, 65.0: 0.004201680672268907, 7.0: 0.004201680672268907, 6.0: 0.004201680672268907, 61.0: 0.004201680672268907, 55.0: 0.0028011204481792717, 28.5: 0.0028011204481792717, 71.0: 0.0028011204481792717, 59.0: 0.0028011204481792717, 63.0: 0.0028011204481792717, 0.83: 0.0028011204481792717, 30.5: 0.0028011204481792717, 70.0: 0.0028011204481792717, 57.0: 0.0028011204481792717, 0.75: 0.0028011204481792717, 13.0: 0.0028011204481792717, 10.0: 0.0028011204481792717, 64.0: 0.0028011204481792717, 40.5: 0.0028011204481792717, 32.5: 0.0028011204481792717, 45.5: 0.0028011204481792717, 20.5: 0.0014005602240896359, 24.5: 0.0014005602240896359, 0.67: 0.0014005602240896359, 14.5: 0.0014005602240896359, 0.92: 0.0014005602240896359, 74.0: 0.0014005602240896359, 34.5: 0.0014005602240896359, 80.0: 0.0014005602240896359, 12.0: 0.0014005602240896359, 36.5: 0.0014005602240896359, 53.0: 0.0014005602240896359, 55.5: 0.0014005602240896359, 70.5: 0.0014005602240896359, 66.0: 0.0014005602240896359, 23.5: 0.0014005602240896359, 0.42: 0.0014005602240896359})"
      ]
     },
     "execution_count": 87,
     "metadata": {},
     "output_type": "execute_result"
    }
   ],
   "source": [
    "pmf = thinkstats2.Pmf(df.age)\n",
    "\n",
    "pmf"
   ]
  },
  {
   "cell_type": "code",
   "execution_count": 91,
   "metadata": {},
   "outputs": [
    {
     "data": {
      "text/plain": [
       "0.9999999999999993"
      ]
     },
     "execution_count": 91,
     "metadata": {},
     "output_type": "execute_result"
    }
   ],
   "source": [
    "pmf.Total()\n"
   ]
  },
  {
   "cell_type": "code",
   "execution_count": 93,
   "metadata": {},
   "outputs": [
    {
     "data": {
      "text/plain": [
       "1.0"
      ]
     },
     "execution_count": 93,
     "metadata": {},
     "output_type": "execute_result"
    }
   ],
   "source": [
    "pmf.Normalize()\n",
    "pmf.Total()"
   ]
  },
  {
   "cell_type": "code",
   "execution_count": 94,
   "metadata": {},
   "outputs": [],
   "source": [
    "data=df['age']"
   ]
  },
  {
   "cell_type": "code",
   "execution_count": 95,
   "metadata": {},
   "outputs": [
    {
     "data": {
      "image/png": "[encoded data removed]",
      "text/plain": [
       "<Figure size 432x288 with 1 Axes>"
      ]
     },
     "metadata": {
      "needs_background": "light"
     },
     "output_type": "display_data"
    }
   ],
   "source": [
    "hist=thinkstats2.Hist(data,label='AGE')\n",
    "thinkplot.Hist(hist)\n",
    "thinkplot.config(xlabel='AGE',ylabel='count')"
   ]
  },
  {
   "cell_type": "code",
   "execution_count": 96,
   "metadata": {},
   "outputs": [],
   "source": [
    "n=hist.Total()\n",
    "pmf=hist.Copy()\n",
    "for x, freq in hist.Items():\n",
    "    pmf[x]=freq / n"
   ]
  },
  {
   "cell_type": "code",
   "execution_count": 97,
   "metadata": {},
   "outputs": [
    {
     "data": {
      "image/png": "[encoded data removed]",
      "text/plain": [
       "<Figure size 432x288 with 1 Axes>"
      ]
     },
     "metadata": {
      "needs_background": "light"
     },
     "output_type": "display_data"
    }
   ],
   "source": [
    "thinkplot.Hist(pmf)\n",
    "thinkplot.Config(xlabel='AGE',ylabel='PMF')"
   ]
  },
  {
   "cell_type": "code",
   "execution_count": 99,
   "metadata": {},
   "outputs": [],
   "source": [
    "pclass=df['pclass']"
   ]
  },
  {
   "cell_type": "code",
   "execution_count": 100,
   "metadata": {},
   "outputs": [
    {
     "data": {
      "image/png": "[encoded data removed]",
      "text/plain": [
       "<Figure size 432x288 with 1 Axes>"
      ]
     },
     "metadata": {
      "needs_background": "light"
     },
     "output_type": "display_data"
    }
   ],
   "source": [
    "hist=thinkstats2.Hist(pclass,label='A proxy for socio-economic status (SES)')\n",
    "thinkplot.Hist(hist)\n",
    "thinkplot.config(xlabel='A proxy for socio-economic status (SES)',ylabel='count')"
   ]
  },
  {
   "cell_type": "code",
   "execution_count": 103,
   "metadata": {},
   "outputs": [
    {
     "data": {
      "text/plain": [
       "Pmf({0: 0.6161616161616162, 1: 0.38383838383838387})"
      ]
     },
     "execution_count": 103,
     "metadata": {},
     "output_type": "execute_result"
    }
   ],
   "source": [
    "pmf = thinkstats2.Pmf(df.survived)\n",
    "\n",
    "pmf"
   ]
  },
  {
   "cell_type": "code",
   "execution_count": 105,
   "metadata": {},
   "outputs": [
    {
     "data": {
      "text/plain": [
       "0.6161616161616162"
      ]
     },
     "execution_count": 105,
     "metadata": {},
     "output_type": "execute_result"
    }
   ],
   "source": [
    "pmf.Prob(0)"
   ]
  },
  {
   "cell_type": "code",
   "execution_count": 106,
   "metadata": {},
   "outputs": [
    {
     "data": {
      "text/plain": [
       "0.38383838383838387"
      ]
     },
     "execution_count": 106,
     "metadata": {},
     "output_type": "execute_result"
    }
   ],
   "source": [
    "pmf.Prob(1)"
   ]
  },
  {
   "cell_type": "code",
   "execution_count": 107,
   "metadata": {},
   "outputs": [],
   "source": [
    "surv=df['survived']"
   ]
  },
  {
   "cell_type": "code",
   "execution_count": 111,
   "metadata": {},
   "outputs": [
    {
     "data": {
      "image/png": "[encoded data removed]",
      "text/plain": [
       "<Figure size 432x288 with 1 Axes>"
      ]
     },
     "metadata": {
      "needs_background": "light"
     },
     "output_type": "display_data"
    }
   ],
   "source": [
    "hist=thinkstats2.Hist(surv,label='probabloty of survival')\n",
    "thinkplot.Hist(hist)\n",
    "thinkplot.config(xlabel='probablity of survival',ylabel='count')"
   ]
  },
  {
   "cell_type": "code",
   "execution_count": 112,
   "metadata": {},
   "outputs": [],
   "source": [
    "df_males = df[df['gender'] == 'male']\n",
    "df_females = df[df['gender'] == 'female']"
   ]
  },
  {
   "cell_type": "code",
   "execution_count": 113,
   "metadata": {},
   "outputs": [
    {
     "name": "stdout",
     "output_type": "stream",
     "text": [
      "     survived  pclass                                     name gender   age  \\\n",
      "0           0       3                  Braund, Mr. Owen Harris   male  22.0   \n",
      "4           0       3                 Allen, Mr. William Henry   male  35.0   \n",
      "5           0       3                         Moran, Mr. James   male   NaN   \n",
      "6           0       1                  McCarthy, Mr. Timothy J   male  54.0   \n",
      "7           0       3           Palsson, Master. Gosta Leonard   male   2.0   \n",
      "12          0       3           Saundercock, Mr. William Henry   male  20.0   \n",
      "13          0       3              Andersson, Mr. Anders Johan   male  39.0   \n",
      "16          0       3                     Rice, Master. Eugene   male   2.0   \n",
      "17          1       2             Williams, Mr. Charles Eugene   male   NaN   \n",
      "20          0       2                     Fynney, Mr. Joseph J   male  35.0   \n",
      "21          1       2                    Beesley, Mr. Lawrence   male  34.0   \n",
      "23          1       1             Sloper, Mr. William Thompson   male  28.0   \n",
      "26          0       3                  Emir, Mr. Farred Chehab   male   NaN   \n",
      "27          0       1           Fortune, Mr. Charles Alexander   male  19.0   \n",
      "29          0       3                      Todoroff, Mr. Lalio   male   NaN   \n",
      "30          0       1                 Uruchurtu, Don. Manuel E   male  40.0   \n",
      "33          0       2                    Wheadon, Mr. Edward H   male  66.0   \n",
      "34          0       1                  Meyer, Mr. Edgar Joseph   male  28.0   \n",
      "35          0       1           Holverson, Mr. Alexander Oskar   male  42.0   \n",
      "36          1       3                         Mamee, Mr. Hanna   male   NaN   \n",
      "37          0       3                 Cann, Mr. Ernest Charles   male  21.0   \n",
      "42          0       3                      Kraeff, Mr. Theodor   male   NaN   \n",
      "45          0       3                 Rogers, Mr. William John   male   NaN   \n",
      "46          0       3                        Lennon, Mr. Denis   male   NaN   \n",
      "48          0       3                      Samaan, Mr. Youssef   male   NaN   \n",
      "50          0       3               Panula, Master. Juha Niilo   male   7.0   \n",
      "51          0       3             Nosworthy, Mr. Richard Cater   male  21.0   \n",
      "54          0       1           Ostby, Mr. Engelhart Cornelius   male  65.0   \n",
      "55          1       1                        Woolner, Mr. Hugh   male   NaN   \n",
      "57          0       3                      Novel, Mr. Mansouer   male  28.5   \n",
      "..        ...     ...                                      ...    ...   ...   \n",
      "840         0       3              Alhomaki, Mr. Ilmari Rudolf   male  20.0   \n",
      "841         0       2                 Mudd, Mr. Thomas Charles   male  16.0   \n",
      "843         0       3               Lemberopolous, Mr. Peter L   male  34.5   \n",
      "844         0       3                      Culumovic, Mr. Jeso   male  17.0   \n",
      "845         0       3                      Abbing, Mr. Anthony   male  42.0   \n",
      "846         0       3                 Sage, Mr. Douglas Bullen   male   NaN   \n",
      "847         0       3                       Markoff, Mr. Marin   male  35.0   \n",
      "848         0       2                        Harper, Rev. John   male  28.0   \n",
      "850         0       3  Andersson, Master. Sigvard Harald Elias   male   4.0   \n",
      "851         0       3                      Svensson, Mr. Johan   male  74.0   \n",
      "857         1       1                   Daly, Mr. Peter Denis    male  51.0   \n",
      "859         0       3                         Razi, Mr. Raihed   male   NaN   \n",
      "860         0       3                  Hansen, Mr. Claus Peter   male  41.0   \n",
      "861         0       2              Giles, Mr. Frederick Edward   male  21.0   \n",
      "864         0       2                   Gill, Mr. John William   male  24.0   \n",
      "867         0       1     Roebling, Mr. Washington Augustus II   male  31.0   \n",
      "868         0       3              van Melkebeke, Mr. Philemon   male   NaN   \n",
      "869         1       3          Johnson, Master. Harold Theodor   male   4.0   \n",
      "870         0       3                        Balkic, Mr. Cerin   male  26.0   \n",
      "872         0       1                 Carlsson, Mr. Frans Olof   male  33.0   \n",
      "873         0       3              Vander Cruyssen, Mr. Victor   male  47.0   \n",
      "876         0       3            Gustafsson, Mr. Alfred Ossian   male  20.0   \n",
      "877         0       3                     Petroff, Mr. Nedelio   male  19.0   \n",
      "878         0       3                       Laleff, Mr. Kristo   male   NaN   \n",
      "881         0       3                       Markun, Mr. Johann   male  33.0   \n",
      "883         0       2            Banfield, Mr. Frederick James   male  28.0   \n",
      "884         0       3                   Sutehall, Mr. Henry Jr   male  25.0   \n",
      "886         0       2                    Montvila, Rev. Juozas   male  27.0   \n",
      "889         1       1                    Behr, Mr. Karl Howell   male  26.0   \n",
      "890         0       3                      Dooley, Mr. Patrick   male  32.0   \n",
      "\n",
      "     sibsp  parch      fare        cabin embarked    age_group  \n",
      "0        1      0    7.2500          NaN        S        youth  \n",
      "4        0      0    8.0500          NaN        S  early adult  \n",
      "5        0      0    8.4583          NaN        Q          NaN  \n",
      "6        0      0   51.8625          E46        S  early adult  \n",
      "7        3      1   21.0750          NaN        S        child  \n",
      "12       0      0    8.0500          NaN        S        youth  \n",
      "13       1      5   31.2750          NaN        S  early adult  \n",
      "16       4      1   29.1250          NaN        Q        child  \n",
      "17       0      0   13.0000          NaN        S          NaN  \n",
      "20       0      0   26.0000          NaN        S  early adult  \n",
      "21       0      0   13.0000          D56        S  young adult  \n",
      "23       0      0   35.5000           A6        S  young adult  \n",
      "26       0      0    7.2250          NaN        C          NaN  \n",
      "27       3      2  263.0000  C23 C25 C27        S        youth  \n",
      "29       0      0    7.8958          NaN        S          NaN  \n",
      "30       0      0   27.7208          NaN        C  early adult  \n",
      "33       0      0   10.5000          NaN        S        adult  \n",
      "34       1      0   82.1708          NaN        C  young adult  \n",
      "35       1      0   52.0000          NaN        S  early adult  \n",
      "36       0      0    7.2292          NaN        C          NaN  \n",
      "37       0      0    8.0500          NaN        S        youth  \n",
      "42       0      0    7.8958          NaN        C          NaN  \n",
      "45       0      0    8.0500          NaN        S          NaN  \n",
      "46       1      0   15.5000          NaN        Q          NaN  \n",
      "48       2      0   21.6792          NaN        C          NaN  \n",
      "50       4      1   39.6875          NaN        S        child  \n",
      "51       0      0    7.8000          NaN        S        youth  \n",
      "54       0      1   61.9792          B30        C        adult  \n",
      "55       0      0   35.5000          C52        S          NaN  \n",
      "57       0      0    7.2292          NaN        C  young adult  \n",
      "..     ...    ...       ...          ...      ...          ...  \n",
      "840      0      0    7.9250          NaN        S        youth  \n",
      "841      0      0   10.5000          NaN        S        youth  \n",
      "843      0      0    6.4375          NaN        C  early adult  \n",
      "844      0      0    8.6625          NaN        S        youth  \n",
      "845      0      0    7.5500          NaN        S  early adult  \n",
      "846      8      2   69.5500          NaN        S          NaN  \n",
      "847      0      0    7.8958          NaN        C  early adult  \n",
      "848      0      1   33.0000          NaN        S  young adult  \n",
      "850      4      2   31.2750          NaN        S        child  \n",
      "851      0      0    7.7750          NaN        S        adult  \n",
      "857      0      0   26.5500          E17        S  early adult  \n",
      "859      0      0    7.2292          NaN        C          NaN  \n",
      "860      2      0   14.1083          NaN        S  early adult  \n",
      "861      1      0   11.5000          NaN        S        youth  \n",
      "864      0      0   13.0000          NaN        S        youth  \n",
      "867      0      0   50.4958          A24        S  young adult  \n",
      "868      0      0    9.5000          NaN        S          NaN  \n",
      "869      1      1   11.1333          NaN        S        child  \n",
      "870      0      0    7.8958          NaN        S  young adult  \n",
      "872      0      0    5.0000  B51 B53 B55        S  young adult  \n",
      "873      0      0    9.0000          NaN        S  early adult  \n",
      "876      0      0    9.8458          NaN        S        youth  \n",
      "877      0      0    7.8958          NaN        S        youth  \n",
      "878      0      0    7.8958          NaN        S          NaN  \n",
      "881      0      0    7.8958          NaN        S  young adult  \n",
      "883      0      0   10.5000          NaN        S  young adult  \n",
      "884      0      0    7.0500          NaN        S  young adult  \n",
      "886      0      0   13.0000          NaN        S  young adult  \n",
      "889      0      0   30.0000         C148        C  young adult  \n",
      "890      0      0    7.7500          NaN        Q  young adult  \n",
      "\n",
      "[577 rows x 11 columns]\n"
     ]
    }
   ],
   "source": [
    "print(df_males)"
   ]
  },
  {
   "cell_type": "code",
   "execution_count": 114,
   "metadata": {},
   "outputs": [
    {
     "name": "stdout",
     "output_type": "stream",
     "text": [
      "     survived  pclass                                               name  \\\n",
      "1           1       1  Cumings, Mrs. John Bradley (Florence Briggs Th...   \n",
      "2           1       3                             Heikkinen, Miss. Laina   \n",
      "3           1       1       Futrelle, Mrs. Jacques Heath (Lily May Peel)   \n",
      "8           1       3  Johnson, Mrs. Oscar W (Elisabeth Vilhelmina Berg)   \n",
      "9           1       2                Nasser, Mrs. Nicholas (Adele Achem)   \n",
      "10          1       3                    Sandstrom, Miss. Marguerite Rut   \n",
      "11          1       1                           Bonnell, Miss. Elizabeth   \n",
      "14          0       3               Vestrom, Miss. Hulda Amanda Adolfina   \n",
      "15          1       2                   Hewlett, Mrs. (Mary D Kingcome)    \n",
      "18          0       3  Vander Planke, Mrs. Julius (Emelia Maria Vande...   \n",
      "19          1       3                            Masselmani, Mrs. Fatima   \n",
      "22          1       3                        McGowan, Miss. Anna \"Annie\"   \n",
      "24          0       3                      Palsson, Miss. Torborg Danira   \n",
      "25          1       3  Asplund, Mrs. Carl Oscar (Selma Augusta Emilia...   \n",
      "28          1       3                      O'Dwyer, Miss. Ellen \"Nellie\"   \n",
      "31          1       1     Spencer, Mrs. William Augustus (Marie Eugenie)   \n",
      "32          1       3                           Glynn, Miss. Mary Agatha   \n",
      "38          0       3                 Vander Planke, Miss. Augusta Maria   \n",
      "39          1       3                        Nicola-Yarred, Miss. Jamila   \n",
      "40          0       3     Ahlin, Mrs. Johan (Johanna Persdotter Larsson)   \n",
      "41          0       2  Turpin, Mrs. William John Robert (Dorothy Ann ...   \n",
      "43          1       2           Laroche, Miss. Simonne Marie Anne Andree   \n",
      "44          1       3                      Devaney, Miss. Margaret Delia   \n",
      "47          1       3                          O'Driscoll, Miss. Bridget   \n",
      "49          0       3      Arnold-Franchi, Mrs. Josef (Josefine Franchi)   \n",
      "52          1       1           Harper, Mrs. Henry Sleeper (Myna Haxtun)   \n",
      "53          1       2  Faunthorpe, Mrs. Lizzie (Elizabeth Anne Wilkin...   \n",
      "56          1       2                                  Rugg, Miss. Emily   \n",
      "58          1       2                       West, Miss. Constance Mirium   \n",
      "61          1       1                                Icard, Miss. Amelie   \n",
      "..        ...     ...                                                ...   \n",
      "807         0       3                    Pettersson, Miss. Ellen Natalia   \n",
      "809         1       1     Chambers, Mrs. Norman Campbell (Bertha Griggs)   \n",
      "813         0       3                 Andersson, Miss. Ebba Iris Alfrida   \n",
      "816         0       3                       Heininen, Miss. Wendla Maria   \n",
      "820         1       1  Hays, Mrs. Charles Melville (Clara Jennings Gr...   \n",
      "823         1       3                                 Moor, Mrs. (Beila)   \n",
      "829         1       1          Stone, Mrs. George Nelson (Martha Evelyn)   \n",
      "830         1       3            Yasbeck, Mrs. Antoni (Selini Alexander)   \n",
      "835         1       1                        Compton, Miss. Sara Rebecca   \n",
      "842         1       1                            Serepeca, Miss. Augusta   \n",
      "849         1       1       Goldenberg, Mrs. Samuel L (Edwiga Grabowska)   \n",
      "852         0       3                            Boulos, Miss. Nourelain   \n",
      "853         1       1                          Lines, Miss. Mary Conover   \n",
      "854         0       2      Carter, Mrs. Ernest Courtenay (Lilian Hughes)   \n",
      "855         1       3                         Aks, Mrs. Sam (Leah Rosen)   \n",
      "856         1       1         Wick, Mrs. George Dennick (Mary Hitchcock)   \n",
      "858         1       3              Baclini, Mrs. Solomon (Latifa Qurban)   \n",
      "862         1       1  Swift, Mrs. Frederick Joel (Margaret Welles Ba...   \n",
      "863         0       3                  Sage, Miss. Dorothy Edith \"Dolly\"   \n",
      "865         1       2                           Bystrom, Mrs. (Karolina)   \n",
      "866         1       2                       Duran y More, Miss. Asuncion   \n",
      "871         1       1   Beckwith, Mrs. Richard Leonard (Sallie Monypeny)   \n",
      "874         1       2              Abelson, Mrs. Samuel (Hannah Wizosky)   \n",
      "875         1       3                   Najib, Miss. Adele Kiamie \"Jane\"   \n",
      "879         1       1      Potter, Mrs. Thomas Jr (Lily Alexenia Wilson)   \n",
      "880         1       2       Shelley, Mrs. William (Imanita Parrish Hall)   \n",
      "882         0       3                       Dahlberg, Miss. Gerda Ulrika   \n",
      "885         0       3               Rice, Mrs. William (Margaret Norton)   \n",
      "887         1       1                       Graham, Miss. Margaret Edith   \n",
      "888         0       3           Johnston, Miss. Catherine Helen \"Carrie\"   \n",
      "\n",
      "     gender   age  sibsp  parch      fare cabin embarked    age_group  \n",
      "1    female  38.0      1      0   71.2833   C85        C  early adult  \n",
      "2    female  26.0      0      0    7.9250   NaN        S  young adult  \n",
      "3    female  35.0      1      0   53.1000  C123        S  early adult  \n",
      "8    female  27.0      0      2   11.1333   NaN        S  young adult  \n",
      "9    female  14.0      1      0   30.0708   NaN        C        child  \n",
      "10   female   4.0      1      1   16.7000    G6        S        child  \n",
      "11   female  58.0      0      0   26.5500  C103        S        adult  \n",
      "14   female  14.0      0      0    7.8542   NaN        S        child  \n",
      "15   female  55.0      0      0   16.0000   NaN        S        adult  \n",
      "18   female  31.0      1      0   18.0000   NaN        S  young adult  \n",
      "19   female   NaN      0      0    7.2250   NaN        C          NaN  \n",
      "22   female  15.0      0      0    8.0292   NaN        Q        youth  \n",
      "24   female   8.0      3      1   21.0750   NaN        S        child  \n",
      "25   female  38.0      1      5   31.3875   NaN        S  early adult  \n",
      "28   female   NaN      0      0    7.8792   NaN        Q          NaN  \n",
      "31   female   NaN      1      0  146.5208   B78        C          NaN  \n",
      "32   female   NaN      0      0    7.7500   NaN        Q          NaN  \n",
      "38   female  18.0      2      0   18.0000   NaN        S        youth  \n",
      "39   female  14.0      1      0   11.2417   NaN        C        child  \n",
      "40   female  40.0      1      0    9.4750   NaN        S  early adult  \n",
      "41   female  27.0      1      0   21.0000   NaN        S  young adult  \n",
      "43   female   3.0      1      2   41.5792   NaN        C        child  \n",
      "44   female  19.0      0      0    7.8792   NaN        Q        youth  \n",
      "47   female   NaN      0      0    7.7500   NaN        Q          NaN  \n",
      "49   female  18.0      1      0   17.8000   NaN        S        youth  \n",
      "52   female  49.0      1      0   76.7292   D33        C  early adult  \n",
      "53   female  29.0      1      0   26.0000   NaN        S  young adult  \n",
      "56   female  21.0      0      0   10.5000   NaN        S        youth  \n",
      "58   female   5.0      1      2   27.7500   NaN        S        child  \n",
      "61   female  38.0      0      0   80.0000   B28        S  early adult  \n",
      "..      ...   ...    ...    ...       ...   ...      ...          ...  \n",
      "807  female  18.0      0      0    7.7750   NaN        S        youth  \n",
      "809  female  33.0      1      0   53.1000    E8        S  young adult  \n",
      "813  female   6.0      4      2   31.2750   NaN        S        child  \n",
      "816  female  23.0      0      0    7.9250   NaN        S        youth  \n",
      "820  female  52.0      1      1   93.5000   B69        S  early adult  \n",
      "823  female  27.0      0      1   12.4750  E121        S  young adult  \n",
      "829  female  62.0      0      0   80.0000   B28        S        adult  \n",
      "830  female  15.0      1      0   14.4542   NaN        C        youth  \n",
      "835  female  39.0      1      1   83.1583   E49        C  early adult  \n",
      "842  female  30.0      0      0   31.0000   NaN        C  young adult  \n",
      "849  female   NaN      1      0   89.1042   C92        C          NaN  \n",
      "852  female   9.0      1      1   15.2458   NaN        C        child  \n",
      "853  female  16.0      0      1   39.4000   D28        S        youth  \n",
      "854  female  44.0      1      0   26.0000   NaN        S  early adult  \n",
      "855  female  18.0      0      1    9.3500   NaN        S        youth  \n",
      "856  female  45.0      1      1  164.8667   NaN        S  early adult  \n",
      "858  female  24.0      0      3   19.2583   NaN        C        youth  \n",
      "862  female  48.0      0      0   25.9292   D17        S  early adult  \n",
      "863  female   NaN      8      2   69.5500   NaN        S          NaN  \n",
      "865  female  42.0      0      0   13.0000   NaN        S  early adult  \n",
      "866  female  27.0      1      0   13.8583   NaN        C  young adult  \n",
      "871  female  47.0      1      1   52.5542   D35        S  early adult  \n",
      "874  female  28.0      1      0   24.0000   NaN        C  young adult  \n",
      "875  female  15.0      0      0    7.2250   NaN        C        youth  \n",
      "879  female  56.0      0      1   83.1583   C50        C        adult  \n",
      "880  female  25.0      0      1   26.0000   NaN        S  young adult  \n",
      "882  female  22.0      0      0   10.5167   NaN        S        youth  \n",
      "885  female  39.0      0      5   29.1250   NaN        Q  early adult  \n",
      "887  female  19.0      0      0   30.0000   B42        S        youth  \n",
      "888  female   NaN      1      2   23.4500   NaN        S          NaN  \n",
      "\n",
      "[314 rows x 11 columns]\n"
     ]
    }
   ],
   "source": [
    "print(df_females)"
   ]
  },
  {
   "cell_type": "code",
   "execution_count": 115,
   "metadata": {},
   "outputs": [
    {
     "name": "stdout",
     "output_type": "stream",
     "text": [
      "     survived  pclass                                               name  \\\n",
      "14          0       3               Vestrom, Miss. Hulda Amanda Adolfina   \n",
      "18          0       3  Vander Planke, Mrs. Julius (Emelia Maria Vande...   \n",
      "24          0       3                      Palsson, Miss. Torborg Danira   \n",
      "38          0       3                 Vander Planke, Miss. Augusta Maria   \n",
      "40          0       3     Ahlin, Mrs. Johan (Johanna Persdotter Larsson)   \n",
      "41          0       2  Turpin, Mrs. William John Robert (Dorothy Ann ...   \n",
      "49          0       3      Arnold-Franchi, Mrs. Josef (Josefine Franchi)   \n",
      "71          0       3                         Goodwin, Miss. Lillian Amy   \n",
      "100         0       3                            Petranec, Miss. Matilda   \n",
      "111         0       3                               Zabour, Miss. Hileni   \n",
      "113         0       3                            Jussila, Miss. Katriina   \n",
      "114         0       3                              Attalah, Miss. Malake   \n",
      "119         0       3                  Andersson, Miss. Ellis Anna Maria   \n",
      "132         0       3     Robins, Mrs. Alexander A (Grace Charity Laury)   \n",
      "140         0       3                      Boulos, Mrs. Joseph (Sultana)   \n",
      "147         0       3                   Ford, Miss. Robina Maggie \"Ruby\"   \n",
      "167         0       3    Skoog, Mrs. William (Anna Bernhardina Karlsson)   \n",
      "177         0       1                         Isham, Miss. Ann Elizabeth   \n",
      "180         0       3                       Sage, Miss. Constance Gladys   \n",
      "199         0       2             Yrois, Miss. Henriette (\"Mrs Harbeck\")   \n",
      "205         0       3                         Strom, Miss. Telma Matilda   \n",
      "229         0       3                            Lefebre, Miss. Mathilde   \n",
      "235         0       3                       Harknett, Miss. Alice Phoebe   \n",
      "240         0       3                              Zabour, Miss. Thamine   \n",
      "246         0       3              Lindahl, Miss. Agda Thorilda Viktoria   \n",
      "251         0       3         Strom, Mrs. Wilhelm (Elna Matilda Persson)   \n",
      "254         0       3           Rosblom, Mrs. Viktor (Helena Wilhelmina)   \n",
      "264         0       3                                 Henry, Miss. Delia   \n",
      "276         0       3                  Lindblom, Miss. Augusta Charlotta   \n",
      "293         0       3                                Haas, Miss. Aloisia   \n",
      "..        ...     ...                                                ...   \n",
      "542         0       3                  Andersson, Miss. Sigrid Elisabeth   \n",
      "564         0       3                     Meanwell, Miss. (Marion Ogden)   \n",
      "567         0       3        Palsson, Mrs. Nils (Alma Cornelia Berglund)   \n",
      "578         0       3                   Caram, Mrs. Joseph (Maria Elias)   \n",
      "593         0       3                                 Bourke, Miss. Mary   \n",
      "610         0       3  Andersson, Mrs. Anders Johan (Alfrida Konstant...   \n",
      "617         0       3    Lobb, Mrs. William Arthur (Cordelia K Stanlick)   \n",
      "634         0       3                                 Skoog, Miss. Mabel   \n",
      "638         0       3             Panula, Mrs. Juha (Maria Emilia Ojala)   \n",
      "642         0       3                      Skoog, Miss. Margit Elizabeth   \n",
      "654         0       3                       Hegarty, Miss. Hanora \"Nora\"   \n",
      "657         0       3                      Bourke, Mrs. John (Catherine)   \n",
      "678         0       3            Goodwin, Mrs. Frederick (Augusta Tyler)   \n",
      "680         0       3                                Peters, Miss. Katie   \n",
      "702         0       3                              Barbara, Miss. Saiide   \n",
      "729         0       3                      Ilmakangas, Miss. Pieta Sofia   \n",
      "736         0       3            Ford, Mrs. Edward (Margaret Ann Watson)   \n",
      "767         0       3                                 Mangan, Miss. Mary   \n",
      "772         0       2                                  Mack, Mrs. (Mary)   \n",
      "792         0       3                            Sage, Miss. Stella Anna   \n",
      "799         0       3  Van Impe, Mrs. Jean Baptiste (Rosalie Paula Go...   \n",
      "807         0       3                    Pettersson, Miss. Ellen Natalia   \n",
      "813         0       3                 Andersson, Miss. Ebba Iris Alfrida   \n",
      "816         0       3                       Heininen, Miss. Wendla Maria   \n",
      "852         0       3                            Boulos, Miss. Nourelain   \n",
      "854         0       2      Carter, Mrs. Ernest Courtenay (Lilian Hughes)   \n",
      "863         0       3                  Sage, Miss. Dorothy Edith \"Dolly\"   \n",
      "882         0       3                       Dahlberg, Miss. Gerda Ulrika   \n",
      "885         0       3               Rice, Mrs. William (Margaret Norton)   \n",
      "888         0       3           Johnston, Miss. Catherine Helen \"Carrie\"   \n",
      "\n",
      "     gender   age  sibsp  parch     fare cabin embarked    age_group  \n",
      "14   female  14.0      0      0   7.8542   NaN        S        child  \n",
      "18   female  31.0      1      0  18.0000   NaN        S  young adult  \n",
      "24   female   8.0      3      1  21.0750   NaN        S        child  \n",
      "38   female  18.0      2      0  18.0000   NaN        S        youth  \n",
      "40   female  40.0      1      0   9.4750   NaN        S  early adult  \n",
      "41   female  27.0      1      0  21.0000   NaN        S  young adult  \n",
      "49   female  18.0      1      0  17.8000   NaN        S        youth  \n",
      "71   female  16.0      5      2  46.9000   NaN        S        youth  \n",
      "100  female  28.0      0      0   7.8958   NaN        S  young adult  \n",
      "111  female  14.5      1      0  14.4542   NaN        C        youth  \n",
      "113  female  20.0      1      0   9.8250   NaN        S        youth  \n",
      "114  female  17.0      0      0  14.4583   NaN        C        youth  \n",
      "119  female   2.0      4      2  31.2750   NaN        S        child  \n",
      "132  female  47.0      1      0  14.5000   NaN        S  early adult  \n",
      "140  female   NaN      0      2  15.2458   NaN        C          NaN  \n",
      "147  female   9.0      2      2  34.3750   NaN        S        child  \n",
      "167  female  45.0      1      4  27.9000   NaN        S  early adult  \n",
      "177  female  50.0      0      0  28.7125   C49        C  early adult  \n",
      "180  female   NaN      8      2  69.5500   NaN        S          NaN  \n",
      "199  female  24.0      0      0  13.0000   NaN        S        youth  \n",
      "205  female   2.0      0      1  10.4625    G6        S        child  \n",
      "229  female   NaN      3      1  25.4667   NaN        S          NaN  \n",
      "235  female   NaN      0      0   7.5500   NaN        S          NaN  \n",
      "240  female   NaN      1      0  14.4542   NaN        C          NaN  \n",
      "246  female  25.0      0      0   7.7750   NaN        S  young adult  \n",
      "251  female  29.0      1      1  10.4625    G6        S  young adult  \n",
      "254  female  41.0      0      2  20.2125   NaN        S  early adult  \n",
      "264  female   NaN      0      0   7.7500   NaN        Q          NaN  \n",
      "276  female  45.0      0      0   7.7500   NaN        S  early adult  \n",
      "293  female  24.0      0      0   8.8500   NaN        S        youth  \n",
      "..      ...   ...    ...    ...      ...   ...      ...          ...  \n",
      "542  female  11.0      4      2  31.2750   NaN        S        child  \n",
      "564  female   NaN      0      0   8.0500   NaN        S          NaN  \n",
      "567  female  29.0      0      4  21.0750   NaN        S  young adult  \n",
      "578  female   NaN      1      0  14.4583   NaN        C          NaN  \n",
      "593  female   NaN      0      2   7.7500   NaN        Q          NaN  \n",
      "610  female  39.0      1      5  31.2750   NaN        S  early adult  \n",
      "617  female  26.0      1      0  16.1000   NaN        S  young adult  \n",
      "634  female   9.0      3      2  27.9000   NaN        S        child  \n",
      "638  female  41.0      0      5  39.6875   NaN        S  early adult  \n",
      "642  female   2.0      3      2  27.9000   NaN        S        child  \n",
      "654  female  18.0      0      0   6.7500   NaN        Q        youth  \n",
      "657  female  32.0      1      1  15.5000   NaN        Q  young adult  \n",
      "678  female  43.0      1      6  46.9000   NaN        S  early adult  \n",
      "680  female   NaN      0      0   8.1375   NaN        Q          NaN  \n",
      "702  female  18.0      0      1  14.4542   NaN        C        youth  \n",
      "729  female  25.0      1      0   7.9250   NaN        S  young adult  \n",
      "736  female  48.0      1      3  34.3750   NaN        S  early adult  \n",
      "767  female  30.5      0      0   7.7500   NaN        Q  young adult  \n",
      "772  female  57.0      0      0  10.5000   E77        S        adult  \n",
      "792  female   NaN      8      2  69.5500   NaN        S          NaN  \n",
      "799  female  30.0      1      1  24.1500   NaN        S  young adult  \n",
      "807  female  18.0      0      0   7.7750   NaN        S        youth  \n",
      "813  female   6.0      4      2  31.2750   NaN        S        child  \n",
      "816  female  23.0      0      0   7.9250   NaN        S        youth  \n",
      "852  female   9.0      1      1  15.2458   NaN        C        child  \n",
      "854  female  44.0      1      0  26.0000   NaN        S  early adult  \n",
      "863  female   NaN      8      2  69.5500   NaN        S          NaN  \n",
      "882  female  22.0      0      0  10.5167   NaN        S        youth  \n",
      "885  female  39.0      0      5  29.1250   NaN        Q  early adult  \n",
      "888  female   NaN      1      2  23.4500   NaN        S          NaN  \n",
      "\n",
      "[81 rows x 11 columns]\n"
     ]
    },
    {
     "name": "stderr",
     "output_type": "stream",
     "text": [
      "C:\\ProgramData\\Anaconda3\\lib\\site-packages\\ipykernel_launcher.py:1: UserWarning: Boolean Series key will be reindexed to match DataFrame index.\n",
      "  \"\"\"Entry point for launching an IPython kernel.\n"
     ]
    }
   ],
   "source": [
    "print(df_females[df['survived']==0])"
   ]
  },
  {
   "cell_type": "code",
   "execution_count": 116,
   "metadata": {},
   "outputs": [
    {
     "name": "stdout",
     "output_type": "stream",
     "text": [
      "     survived  pclass                                               name  \\\n",
      "1           1       1  Cumings, Mrs. John Bradley (Florence Briggs Th...   \n",
      "2           1       3                             Heikkinen, Miss. Laina   \n",
      "3           1       1       Futrelle, Mrs. Jacques Heath (Lily May Peel)   \n",
      "8           1       3  Johnson, Mrs. Oscar W (Elisabeth Vilhelmina Berg)   \n",
      "9           1       2                Nasser, Mrs. Nicholas (Adele Achem)   \n",
      "10          1       3                    Sandstrom, Miss. Marguerite Rut   \n",
      "11          1       1                           Bonnell, Miss. Elizabeth   \n",
      "15          1       2                   Hewlett, Mrs. (Mary D Kingcome)    \n",
      "19          1       3                            Masselmani, Mrs. Fatima   \n",
      "22          1       3                        McGowan, Miss. Anna \"Annie\"   \n",
      "25          1       3  Asplund, Mrs. Carl Oscar (Selma Augusta Emilia...   \n",
      "28          1       3                      O'Dwyer, Miss. Ellen \"Nellie\"   \n",
      "31          1       1     Spencer, Mrs. William Augustus (Marie Eugenie)   \n",
      "32          1       3                           Glynn, Miss. Mary Agatha   \n",
      "39          1       3                        Nicola-Yarred, Miss. Jamila   \n",
      "43          1       2           Laroche, Miss. Simonne Marie Anne Andree   \n",
      "44          1       3                      Devaney, Miss. Margaret Delia   \n",
      "47          1       3                          O'Driscoll, Miss. Bridget   \n",
      "52          1       1           Harper, Mrs. Henry Sleeper (Myna Haxtun)   \n",
      "53          1       2  Faunthorpe, Mrs. Lizzie (Elizabeth Anne Wilkin...   \n",
      "56          1       2                                  Rugg, Miss. Emily   \n",
      "58          1       2                       West, Miss. Constance Mirium   \n",
      "61          1       1                                Icard, Miss. Amelie   \n",
      "66          1       2                       Nye, Mrs. (Elizabeth Ramell)   \n",
      "68          1       3                    Andersson, Miss. Erna Alexandra   \n",
      "79          1       3                           Dowdell, Miss. Elizabeth   \n",
      "82          1       3                     McDermott, Miss. Brigdet Delia   \n",
      "84          1       2                                Ilett, Miss. Bertha   \n",
      "85          1       3  Backstrom, Mrs. Karl Alfred (Maria Mathilda Gu...   \n",
      "88          1       1                         Fortune, Miss. Mabel Helen   \n",
      "..        ...     ...                                                ...   \n",
      "774         1       2              Hocking, Mrs. Elizabeth (Eliza Needs)   \n",
      "777         1       3                      Emanuel, Miss. Virginia Ethel   \n",
      "779         1       1  Robert, Mrs. Edward Scott (Elisabeth Walton Mc...   \n",
      "780         1       3                               Ayoub, Miss. Banoura   \n",
      "781         1       1          Dick, Mrs. Albert Adrian (Vera Gillespie)   \n",
      "786         1       3                          Sjoblom, Miss. Anna Sofia   \n",
      "796         1       1                        Leader, Dr. Alice (Farnham)   \n",
      "797         1       3                                   Osman, Mrs. Mara   \n",
      "801         1       2        Collyer, Mrs. Harvey (Charlotte Annie Tate)   \n",
      "809         1       1     Chambers, Mrs. Norman Campbell (Bertha Griggs)   \n",
      "820         1       1  Hays, Mrs. Charles Melville (Clara Jennings Gr...   \n",
      "823         1       3                                 Moor, Mrs. (Beila)   \n",
      "829         1       1          Stone, Mrs. George Nelson (Martha Evelyn)   \n",
      "830         1       3            Yasbeck, Mrs. Antoni (Selini Alexander)   \n",
      "835         1       1                        Compton, Miss. Sara Rebecca   \n",
      "842         1       1                            Serepeca, Miss. Augusta   \n",
      "849         1       1       Goldenberg, Mrs. Samuel L (Edwiga Grabowska)   \n",
      "853         1       1                          Lines, Miss. Mary Conover   \n",
      "855         1       3                         Aks, Mrs. Sam (Leah Rosen)   \n",
      "856         1       1         Wick, Mrs. George Dennick (Mary Hitchcock)   \n",
      "858         1       3              Baclini, Mrs. Solomon (Latifa Qurban)   \n",
      "862         1       1  Swift, Mrs. Frederick Joel (Margaret Welles Ba...   \n",
      "865         1       2                           Bystrom, Mrs. (Karolina)   \n",
      "866         1       2                       Duran y More, Miss. Asuncion   \n",
      "871         1       1   Beckwith, Mrs. Richard Leonard (Sallie Monypeny)   \n",
      "874         1       2              Abelson, Mrs. Samuel (Hannah Wizosky)   \n",
      "875         1       3                   Najib, Miss. Adele Kiamie \"Jane\"   \n",
      "879         1       1      Potter, Mrs. Thomas Jr (Lily Alexenia Wilson)   \n",
      "880         1       2       Shelley, Mrs. William (Imanita Parrish Hall)   \n",
      "887         1       1                       Graham, Miss. Margaret Edith   \n",
      "\n",
      "     gender   age  sibsp  parch      fare        cabin embarked    age_group  \n",
      "1    female  38.0      1      0   71.2833          C85        C  early adult  \n",
      "2    female  26.0      0      0    7.9250          NaN        S  young adult  \n",
      "3    female  35.0      1      0   53.1000         C123        S  early adult  \n",
      "8    female  27.0      0      2   11.1333          NaN        S  young adult  \n",
      "9    female  14.0      1      0   30.0708          NaN        C        child  \n",
      "10   female   4.0      1      1   16.7000           G6        S        child  \n",
      "11   female  58.0      0      0   26.5500         C103        S        adult  \n",
      "15   female  55.0      0      0   16.0000          NaN        S        adult  \n",
      "19   female   NaN      0      0    7.2250          NaN        C          NaN  \n",
      "22   female  15.0      0      0    8.0292          NaN        Q        youth  \n",
      "25   female  38.0      1      5   31.3875          NaN        S  early adult  \n",
      "28   female   NaN      0      0    7.8792          NaN        Q          NaN  \n",
      "31   female   NaN      1      0  146.5208          B78        C          NaN  \n",
      "32   female   NaN      0      0    7.7500          NaN        Q          NaN  \n",
      "39   female  14.0      1      0   11.2417          NaN        C        child  \n",
      "43   female   3.0      1      2   41.5792          NaN        C        child  \n",
      "44   female  19.0      0      0    7.8792          NaN        Q        youth  \n",
      "47   female   NaN      0      0    7.7500          NaN        Q          NaN  \n",
      "52   female  49.0      1      0   76.7292          D33        C  early adult  \n",
      "53   female  29.0      1      0   26.0000          NaN        S  young adult  \n",
      "56   female  21.0      0      0   10.5000          NaN        S        youth  \n",
      "58   female   5.0      1      2   27.7500          NaN        S        child  \n",
      "61   female  38.0      0      0   80.0000          B28        S  early adult  \n",
      "66   female  29.0      0      0   10.5000          F33        S  young adult  \n",
      "68   female  17.0      4      2    7.9250          NaN        S        youth  \n",
      "79   female  30.0      0      0   12.4750          NaN        S  young adult  \n",
      "82   female   NaN      0      0    7.7875          NaN        Q          NaN  \n",
      "84   female  17.0      0      0   10.5000          NaN        S        youth  \n",
      "85   female  33.0      3      0   15.8500          NaN        S  young adult  \n",
      "88   female  23.0      3      2  263.0000  C23 C25 C27        S        youth  \n",
      "..      ...   ...    ...    ...       ...          ...      ...          ...  \n",
      "774  female  54.0      1      3   23.0000          NaN        S  early adult  \n",
      "777  female   5.0      0      0   12.4750          NaN        S        child  \n",
      "779  female  43.0      0      1  211.3375           B3        S  early adult  \n",
      "780  female  13.0      0      0    7.2292          NaN        C        child  \n",
      "781  female  17.0      1      0   57.0000          B20        S        youth  \n",
      "786  female  18.0      0      0    7.4958          NaN        S        youth  \n",
      "796  female  49.0      0      0   25.9292          D17        S  early adult  \n",
      "797  female  31.0      0      0    8.6833          NaN        S  young adult  \n",
      "801  female  31.0      1      1   26.2500          NaN        S  young adult  \n",
      "809  female  33.0      1      0   53.1000           E8        S  young adult  \n",
      "820  female  52.0      1      1   93.5000          B69        S  early adult  \n",
      "823  female  27.0      0      1   12.4750         E121        S  young adult  \n",
      "829  female  62.0      0      0   80.0000          B28        S        adult  \n",
      "830  female  15.0      1      0   14.4542          NaN        C        youth  \n",
      "835  female  39.0      1      1   83.1583          E49        C  early adult  \n",
      "842  female  30.0      0      0   31.0000          NaN        C  young adult  \n",
      "849  female   NaN      1      0   89.1042          C92        C          NaN  \n",
      "853  female  16.0      0      1   39.4000          D28        S        youth  \n",
      "855  female  18.0      0      1    9.3500          NaN        S        youth  \n",
      "856  female  45.0      1      1  164.8667          NaN        S  early adult  \n",
      "858  female  24.0      0      3   19.2583          NaN        C        youth  \n",
      "862  female  48.0      0      0   25.9292          D17        S  early adult  \n",
      "865  female  42.0      0      0   13.0000          NaN        S  early adult  \n",
      "866  female  27.0      1      0   13.8583          NaN        C  young adult  \n",
      "871  female  47.0      1      1   52.5542          D35        S  early adult  \n",
      "874  female  28.0      1      0   24.0000          NaN        C  young adult  \n",
      "875  female  15.0      0      0    7.2250          NaN        C        youth  \n",
      "879  female  56.0      0      1   83.1583          C50        C        adult  \n",
      "880  female  25.0      0      1   26.0000          NaN        S  young adult  \n",
      "887  female  19.0      0      0   30.0000          B42        S        youth  \n",
      "\n",
      "[233 rows x 11 columns]\n"
     ]
    },
    {
     "name": "stderr",
     "output_type": "stream",
     "text": [
      "C:\\ProgramData\\Anaconda3\\lib\\site-packages\\ipykernel_launcher.py:1: UserWarning: Boolean Series key will be reindexed to match DataFrame index.\n",
      "  \"\"\"Entry point for launching an IPython kernel.\n"
     ]
    }
   ],
   "source": [
    "print(df_females[df['survived']==1])"
   ]
  },
  {
   "cell_type": "code",
   "execution_count": 117,
   "metadata": {},
   "outputs": [
    {
     "name": "stdout",
     "output_type": "stream",
     "text": [
      "     survived  pclass                                     name gender   age  \\\n",
      "0           0       3                  Braund, Mr. Owen Harris   male  22.0   \n",
      "4           0       3                 Allen, Mr. William Henry   male  35.0   \n",
      "5           0       3                         Moran, Mr. James   male   NaN   \n",
      "6           0       1                  McCarthy, Mr. Timothy J   male  54.0   \n",
      "7           0       3           Palsson, Master. Gosta Leonard   male   2.0   \n",
      "12          0       3           Saundercock, Mr. William Henry   male  20.0   \n",
      "13          0       3              Andersson, Mr. Anders Johan   male  39.0   \n",
      "16          0       3                     Rice, Master. Eugene   male   2.0   \n",
      "20          0       2                     Fynney, Mr. Joseph J   male  35.0   \n",
      "26          0       3                  Emir, Mr. Farred Chehab   male   NaN   \n",
      "27          0       1           Fortune, Mr. Charles Alexander   male  19.0   \n",
      "29          0       3                      Todoroff, Mr. Lalio   male   NaN   \n",
      "30          0       1                 Uruchurtu, Don. Manuel E   male  40.0   \n",
      "33          0       2                    Wheadon, Mr. Edward H   male  66.0   \n",
      "34          0       1                  Meyer, Mr. Edgar Joseph   male  28.0   \n",
      "35          0       1           Holverson, Mr. Alexander Oskar   male  42.0   \n",
      "37          0       3                 Cann, Mr. Ernest Charles   male  21.0   \n",
      "42          0       3                      Kraeff, Mr. Theodor   male   NaN   \n",
      "45          0       3                 Rogers, Mr. William John   male   NaN   \n",
      "46          0       3                        Lennon, Mr. Denis   male   NaN   \n",
      "48          0       3                      Samaan, Mr. Youssef   male   NaN   \n",
      "50          0       3               Panula, Master. Juha Niilo   male   7.0   \n",
      "51          0       3             Nosworthy, Mr. Richard Cater   male  21.0   \n",
      "54          0       1           Ostby, Mr. Engelhart Cornelius   male  65.0   \n",
      "57          0       3                      Novel, Mr. Mansouer   male  28.5   \n",
      "59          0       3       Goodwin, Master. William Frederick   male  11.0   \n",
      "60          0       3                    Sirayanian, Mr. Orsen   male  22.0   \n",
      "62          0       1              Harris, Mr. Henry Birkhardt   male  45.0   \n",
      "63          0       3                    Skoog, Master. Harald   male   4.0   \n",
      "64          0       1                    Stewart, Mr. Albert A   male   NaN   \n",
      "..        ...     ...                                      ...    ...   ...   \n",
      "834         0       3                   Allum, Mr. Owen George   male  18.0   \n",
      "836         0       3                         Pasic, Mr. Jakob   male  21.0   \n",
      "837         0       3                      Sirota, Mr. Maurice   male   NaN   \n",
      "840         0       3              Alhomaki, Mr. Ilmari Rudolf   male  20.0   \n",
      "841         0       2                 Mudd, Mr. Thomas Charles   male  16.0   \n",
      "843         0       3               Lemberopolous, Mr. Peter L   male  34.5   \n",
      "844         0       3                      Culumovic, Mr. Jeso   male  17.0   \n",
      "845         0       3                      Abbing, Mr. Anthony   male  42.0   \n",
      "846         0       3                 Sage, Mr. Douglas Bullen   male   NaN   \n",
      "847         0       3                       Markoff, Mr. Marin   male  35.0   \n",
      "848         0       2                        Harper, Rev. John   male  28.0   \n",
      "850         0       3  Andersson, Master. Sigvard Harald Elias   male   4.0   \n",
      "851         0       3                      Svensson, Mr. Johan   male  74.0   \n",
      "859         0       3                         Razi, Mr. Raihed   male   NaN   \n",
      "860         0       3                  Hansen, Mr. Claus Peter   male  41.0   \n",
      "861         0       2              Giles, Mr. Frederick Edward   male  21.0   \n",
      "864         0       2                   Gill, Mr. John William   male  24.0   \n",
      "867         0       1     Roebling, Mr. Washington Augustus II   male  31.0   \n",
      "868         0       3              van Melkebeke, Mr. Philemon   male   NaN   \n",
      "870         0       3                        Balkic, Mr. Cerin   male  26.0   \n",
      "872         0       1                 Carlsson, Mr. Frans Olof   male  33.0   \n",
      "873         0       3              Vander Cruyssen, Mr. Victor   male  47.0   \n",
      "876         0       3            Gustafsson, Mr. Alfred Ossian   male  20.0   \n",
      "877         0       3                     Petroff, Mr. Nedelio   male  19.0   \n",
      "878         0       3                       Laleff, Mr. Kristo   male   NaN   \n",
      "881         0       3                       Markun, Mr. Johann   male  33.0   \n",
      "883         0       2            Banfield, Mr. Frederick James   male  28.0   \n",
      "884         0       3                   Sutehall, Mr. Henry Jr   male  25.0   \n",
      "886         0       2                    Montvila, Rev. Juozas   male  27.0   \n",
      "890         0       3                      Dooley, Mr. Patrick   male  32.0   \n",
      "\n",
      "     sibsp  parch      fare        cabin embarked    age_group  \n",
      "0        1      0    7.2500          NaN        S        youth  \n",
      "4        0      0    8.0500          NaN        S  early adult  \n",
      "5        0      0    8.4583          NaN        Q          NaN  \n",
      "6        0      0   51.8625          E46        S  early adult  \n",
      "7        3      1   21.0750          NaN        S        child  \n",
      "12       0      0    8.0500          NaN        S        youth  \n",
      "13       1      5   31.2750          NaN        S  early adult  \n",
      "16       4      1   29.1250          NaN        Q        child  \n",
      "20       0      0   26.0000          NaN        S  early adult  \n",
      "26       0      0    7.2250          NaN        C          NaN  \n",
      "27       3      2  263.0000  C23 C25 C27        S        youth  \n",
      "29       0      0    7.8958          NaN        S          NaN  \n",
      "30       0      0   27.7208          NaN        C  early adult  \n",
      "33       0      0   10.5000          NaN        S        adult  \n",
      "34       1      0   82.1708          NaN        C  young adult  \n",
      "35       1      0   52.0000          NaN        S  early adult  \n",
      "37       0      0    8.0500          NaN        S        youth  \n",
      "42       0      0    7.8958          NaN        C          NaN  \n",
      "45       0      0    8.0500          NaN        S          NaN  \n",
      "46       1      0   15.5000          NaN        Q          NaN  \n",
      "48       2      0   21.6792          NaN        C          NaN  \n",
      "50       4      1   39.6875          NaN        S        child  \n",
      "51       0      0    7.8000          NaN        S        youth  \n",
      "54       0      1   61.9792          B30        C        adult  \n",
      "57       0      0    7.2292          NaN        C  young adult  \n",
      "59       5      2   46.9000          NaN        S        child  \n",
      "60       0      0    7.2292          NaN        C        youth  \n",
      "62       1      0   83.4750          C83        S  early adult  \n",
      "63       3      2   27.9000          NaN        S        child  \n",
      "64       0      0   27.7208          NaN        C          NaN  \n",
      "..     ...    ...       ...          ...      ...          ...  \n",
      "834      0      0    8.3000          NaN        S        youth  \n",
      "836      0      0    8.6625          NaN        S        youth  \n",
      "837      0      0    8.0500          NaN        S          NaN  \n",
      "840      0      0    7.9250          NaN        S        youth  \n",
      "841      0      0   10.5000          NaN        S        youth  \n",
      "843      0      0    6.4375          NaN        C  early adult  \n",
      "844      0      0    8.6625          NaN        S        youth  \n",
      "845      0      0    7.5500          NaN        S  early adult  \n",
      "846      8      2   69.5500          NaN        S          NaN  \n",
      "847      0      0    7.8958          NaN        C  early adult  \n",
      "848      0      1   33.0000          NaN        S  young adult  \n",
      "850      4      2   31.2750          NaN        S        child  \n",
      "851      0      0    7.7750          NaN        S        adult  \n",
      "859      0      0    7.2292          NaN        C          NaN  \n",
      "860      2      0   14.1083          NaN        S  early adult  \n",
      "861      1      0   11.5000          NaN        S        youth  \n",
      "864      0      0   13.0000          NaN        S        youth  \n",
      "867      0      0   50.4958          A24        S  young adult  \n",
      "868      0      0    9.5000          NaN        S          NaN  \n",
      "870      0      0    7.8958          NaN        S  young adult  \n",
      "872      0      0    5.0000  B51 B53 B55        S  young adult  \n",
      "873      0      0    9.0000          NaN        S  early adult  \n",
      "876      0      0    9.8458          NaN        S        youth  \n",
      "877      0      0    7.8958          NaN        S        youth  \n",
      "878      0      0    7.8958          NaN        S          NaN  \n",
      "881      0      0    7.8958          NaN        S  young adult  \n",
      "883      0      0   10.5000          NaN        S  young adult  \n",
      "884      0      0    7.0500          NaN        S  young adult  \n",
      "886      0      0   13.0000          NaN        S  young adult  \n",
      "890      0      0    7.7500          NaN        Q  young adult  \n",
      "\n",
      "[468 rows x 11 columns]\n"
     ]
    },
    {
     "name": "stderr",
     "output_type": "stream",
     "text": [
      "C:\\ProgramData\\Anaconda3\\lib\\site-packages\\ipykernel_launcher.py:1: UserWarning: Boolean Series key will be reindexed to match DataFrame index.\n",
      "  \"\"\"Entry point for launching an IPython kernel.\n"
     ]
    }
   ],
   "source": [
    "print(df_males[df['survived']==0])"
   ]
  },
  {
   "cell_type": "code",
   "execution_count": 118,
   "metadata": {},
   "outputs": [
    {
     "name": "stdout",
     "output_type": "stream",
     "text": [
      "     survived  pclass                                               name  \\\n",
      "17          1       2                       Williams, Mr. Charles Eugene   \n",
      "21          1       2                              Beesley, Mr. Lawrence   \n",
      "23          1       1                       Sloper, Mr. William Thompson   \n",
      "36          1       3                                   Mamee, Mr. Hanna   \n",
      "55          1       1                                  Woolner, Mr. Hugh   \n",
      "65          1       3                           Moubarek, Master. Gerios   \n",
      "74          1       3                                      Bing, Mr. Lee   \n",
      "78          1       2                      Caldwell, Master. Alden Gates   \n",
      "81          1       3                        Sheerlinck, Mr. Jan Baptist   \n",
      "97          1       1                    Greenfield, Mr. William Bertram   \n",
      "107         1       3                             Moss, Mr. Albert Johan   \n",
      "125         1       3                       Nicola-Yarred, Master. Elias   \n",
      "127         1       3                          Madsen, Mr. Fridtjof Arne   \n",
      "146         1       3       Andersson, Mr. August Edvard (\"Wennerstrom\")   \n",
      "165         1       3    Goldsmith, Master. Frank John William \"Frankie\"   \n",
      "183         1       2                          Becker, Master. Richard F   \n",
      "187         1       1      Romaine, Mr. Charles Hallace (\"Mr C Rolmane\")   \n",
      "193         1       2                         Navratil, Master. Michel M   \n",
      "204         1       3                           Cohen, Mr. Gurshon \"Gus\"   \n",
      "207         1       3                        Albimona, Mr. Nassef Cassem   \n",
      "209         1       1                                   Blank, Mr. Henry   \n",
      "220         1       3                     Sunderland, Mr. Victor Francis   \n",
      "224         1       1                       Hoyt, Mr. Frederick Maxfield   \n",
      "226         1       2                          Mellors, Mr. William John   \n",
      "248         1       1                      Beckwith, Mr. Richard Leonard   \n",
      "261         1       3                  Asplund, Master. Edvin Rojj Felix   \n",
      "267         1       3                           Persson, Mr. Ernst Ulrik   \n",
      "271         1       3                       Tornquist, Mr. William Henry   \n",
      "283         1       3                         Dorking, Mr. Edward Arthur   \n",
      "286         1       3                            de Mulder, Mr. Theodore   \n",
      "..        ...     ...                                                ...   \n",
      "664         1       3                        Lindqvist, Mr. Eino William   \n",
      "673         1       2                              Wilhelms, Mr. Charles   \n",
      "679         1       1                 Cardeza, Mr. Thomas Drake Martinez   \n",
      "681         1       1                                 Hassab, Mr. Hammad   \n",
      "690         1       1                            Dick, Mr. Albert Adrian   \n",
      "692         1       3                                       Lam, Mr. Ali   \n",
      "701         1       1                   Silverthorne, Mr. Spencer Victor   \n",
      "707         1       1                  Calderhead, Mr. Edward Pennington   \n",
      "709         1       3  Moubarek, Master. Halim Gonios (\"William George\")   \n",
      "712         1       1                           Taylor, Mr. Elmer Zebley   \n",
      "724         1       1                      Chambers, Mr. Norman Campbell   \n",
      "737         1       1                             Lesurer, Mr. Gustave J   \n",
      "740         1       1                        Hawksford, Mr. Walter James   \n",
      "744         1       3                                 Stranden, Mr. Juho   \n",
      "751         1       3                                Moor, Master. Meier   \n",
      "755         1       2                          Hamalainen, Master. Viljo   \n",
      "762         1       3                              Barah, Mr. Hanna Assi   \n",
      "788         1       3                         Dean, Master. Bertram Vere   \n",
      "802         1       1                Carter, Master. William Thornton II   \n",
      "803         1       3                    Thomas, Master. Assad Alexander   \n",
      "804         1       3                            Hedman, Mr. Oskar Arvid   \n",
      "821         1       3                                  Lulic, Mr. Nikola   \n",
      "827         1       2                              Mallet, Master. Andre   \n",
      "828         1       3                       McCormack, Mr. Thomas Joseph   \n",
      "831         1       2                    Richards, Master. George Sibley   \n",
      "838         1       3                                    Chip, Mr. Chang   \n",
      "839         1       1                               Marechal, Mr. Pierre   \n",
      "857         1       1                             Daly, Mr. Peter Denis    \n",
      "869         1       3                    Johnson, Master. Harold Theodor   \n",
      "889         1       1                              Behr, Mr. Karl Howell   \n",
      "\n",
      "    gender    age  sibsp  parch      fare        cabin embarked    age_group  \n",
      "17    male    NaN      0      0   13.0000          NaN        S          NaN  \n",
      "21    male  34.00      0      0   13.0000          D56        S  young adult  \n",
      "23    male  28.00      0      0   35.5000           A6        S  young adult  \n",
      "36    male    NaN      0      0    7.2292          NaN        C          NaN  \n",
      "55    male    NaN      0      0   35.5000          C52        S          NaN  \n",
      "65    male    NaN      1      1   15.2458          NaN        C          NaN  \n",
      "74    male  32.00      0      0   56.4958          NaN        S  young adult  \n",
      "78    male   0.83      0      2   29.0000          NaN        S        child  \n",
      "81    male  29.00      0      0    9.5000          NaN        S  young adult  \n",
      "97    male  23.00      0      1   63.3583      D10 D12        C        youth  \n",
      "107   male    NaN      0      0    7.7750          NaN        S          NaN  \n",
      "125   male  12.00      1      0   11.2417          NaN        C        child  \n",
      "127   male  24.00      0      0    7.1417          NaN        S        youth  \n",
      "146   male  27.00      0      0    7.7958          NaN        S  young adult  \n",
      "165   male   9.00      0      2   20.5250          NaN        S        child  \n",
      "183   male   1.00      2      1   39.0000           F4        S        child  \n",
      "187   male  45.00      0      0   26.5500          NaN        S  early adult  \n",
      "193   male   3.00      1      1   26.0000           F2        S        child  \n",
      "204   male  18.00      0      0    8.0500          NaN        S        youth  \n",
      "207   male  26.00      0      0   18.7875          NaN        C  young adult  \n",
      "209   male  40.00      0      0   31.0000          A31        C  early adult  \n",
      "220   male  16.00      0      0    8.0500          NaN        S        youth  \n",
      "224   male  38.00      1      0   90.0000          C93        S  early adult  \n",
      "226   male  19.00      0      0   10.5000          NaN        S        youth  \n",
      "248   male  37.00      1      1   52.5542          D35        S  early adult  \n",
      "261   male   3.00      4      2   31.3875          NaN        S        child  \n",
      "267   male  25.00      1      0    7.7750          NaN        S  young adult  \n",
      "271   male  25.00      0      0    0.0000          NaN        S  young adult  \n",
      "283   male  19.00      0      0    8.0500          NaN        S        youth  \n",
      "286   male  30.00      0      0    9.5000          NaN        S  young adult  \n",
      "..     ...    ...    ...    ...       ...          ...      ...          ...  \n",
      "664   male  20.00      1      0    7.9250          NaN        S        youth  \n",
      "673   male  31.00      0      0   13.0000          NaN        S  young adult  \n",
      "679   male  36.00      0      1  512.3292  B51 B53 B55        C  early adult  \n",
      "681   male  27.00      0      0   76.7292          D49        C  young adult  \n",
      "690   male  31.00      1      0   57.0000          B20        S  young adult  \n",
      "692   male    NaN      0      0   56.4958          NaN        S          NaN  \n",
      "701   male  35.00      0      0   26.2875          E24        S  early adult  \n",
      "707   male  42.00      0      0   26.2875          E24        S  early adult  \n",
      "709   male    NaN      1      1   15.2458          NaN        C          NaN  \n",
      "712   male  48.00      1      0   52.0000         C126        S  early adult  \n",
      "724   male  27.00      1      0   53.1000           E8        S  young adult  \n",
      "737   male  35.00      0      0  512.3292         B101        C  early adult  \n",
      "740   male    NaN      0      0   30.0000          D45        S          NaN  \n",
      "744   male  31.00      0      0    7.9250          NaN        S  young adult  \n",
      "751   male   6.00      0      1   12.4750         E121        S        child  \n",
      "755   male   0.67      1      1   14.5000          NaN        S        child  \n",
      "762   male  20.00      0      0    7.2292          NaN        C        youth  \n",
      "788   male   1.00      1      2   20.5750          NaN        S        child  \n",
      "802   male  11.00      1      2  120.0000      B96 B98        S        child  \n",
      "803   male   0.42      0      1    8.5167          NaN        C        child  \n",
      "804   male  27.00      0      0    6.9750          NaN        S  young adult  \n",
      "821   male  27.00      0      0    8.6625          NaN        S  young adult  \n",
      "827   male   1.00      0      2   37.0042          NaN        C        child  \n",
      "828   male    NaN      0      0    7.7500          NaN        Q          NaN  \n",
      "831   male   0.83      1      1   18.7500          NaN        S        child  \n",
      "838   male  32.00      0      0   56.4958          NaN        S  young adult  \n",
      "839   male    NaN      0      0   29.7000          C47        C          NaN  \n",
      "857   male  51.00      0      0   26.5500          E17        S  early adult  \n",
      "869   male   4.00      1      1   11.1333          NaN        S        child  \n",
      "889   male  26.00      0      0   30.0000         C148        C  young adult  \n",
      "\n",
      "[109 rows x 11 columns]\n"
     ]
    },
    {
     "name": "stderr",
     "output_type": "stream",
     "text": [
      "C:\\ProgramData\\Anaconda3\\lib\\site-packages\\ipykernel_launcher.py:1: UserWarning: Boolean Series key will be reindexed to match DataFrame index.\n",
      "  \"\"\"Entry point for launching an IPython kernel.\n"
     ]
    }
   ],
   "source": [
    "print(df_males[df['survived']==1])"
   ]
  },
  {
   "cell_type": "code",
   "execution_count": 122,
   "metadata": {},
   "outputs": [],
   "source": [
    "df_maless = df[df['gender'] == 'male'].name\n",
    "df_femaless = df[df['gender'] == 'female'].name"
   ]
  },
  {
   "cell_type": "code",
   "execution_count": 123,
   "metadata": {},
   "outputs": [
    {
     "name": "stdout",
     "output_type": "stream",
     "text": [
      "0                      Braund, Mr. Owen Harris\n",
      "4                     Allen, Mr. William Henry\n",
      "5                             Moran, Mr. James\n",
      "6                      McCarthy, Mr. Timothy J\n",
      "7               Palsson, Master. Gosta Leonard\n",
      "12              Saundercock, Mr. William Henry\n",
      "13                 Andersson, Mr. Anders Johan\n",
      "16                        Rice, Master. Eugene\n",
      "17                Williams, Mr. Charles Eugene\n",
      "20                        Fynney, Mr. Joseph J\n",
      "21                       Beesley, Mr. Lawrence\n",
      "23                Sloper, Mr. William Thompson\n",
      "26                     Emir, Mr. Farred Chehab\n",
      "27              Fortune, Mr. Charles Alexander\n",
      "29                         Todoroff, Mr. Lalio\n",
      "30                    Uruchurtu, Don. Manuel E\n",
      "33                       Wheadon, Mr. Edward H\n",
      "34                     Meyer, Mr. Edgar Joseph\n",
      "35              Holverson, Mr. Alexander Oskar\n",
      "36                            Mamee, Mr. Hanna\n",
      "37                    Cann, Mr. Ernest Charles\n",
      "42                         Kraeff, Mr. Theodor\n",
      "45                    Rogers, Mr. William John\n",
      "46                           Lennon, Mr. Denis\n",
      "48                         Samaan, Mr. Youssef\n",
      "50                  Panula, Master. Juha Niilo\n",
      "51                Nosworthy, Mr. Richard Cater\n",
      "54              Ostby, Mr. Engelhart Cornelius\n",
      "55                           Woolner, Mr. Hugh\n",
      "57                         Novel, Mr. Mansouer\n",
      "                        ...                   \n",
      "840                Alhomaki, Mr. Ilmari Rudolf\n",
      "841                   Mudd, Mr. Thomas Charles\n",
      "843                 Lemberopolous, Mr. Peter L\n",
      "844                        Culumovic, Mr. Jeso\n",
      "845                        Abbing, Mr. Anthony\n",
      "846                   Sage, Mr. Douglas Bullen\n",
      "847                         Markoff, Mr. Marin\n",
      "848                          Harper, Rev. John\n",
      "850    Andersson, Master. Sigvard Harald Elias\n",
      "851                        Svensson, Mr. Johan\n",
      "857                     Daly, Mr. Peter Denis \n",
      "859                           Razi, Mr. Raihed\n",
      "860                    Hansen, Mr. Claus Peter\n",
      "861                Giles, Mr. Frederick Edward\n",
      "864                     Gill, Mr. John William\n",
      "867       Roebling, Mr. Washington Augustus II\n",
      "868                van Melkebeke, Mr. Philemon\n",
      "869            Johnson, Master. Harold Theodor\n",
      "870                          Balkic, Mr. Cerin\n",
      "872                   Carlsson, Mr. Frans Olof\n",
      "873                Vander Cruyssen, Mr. Victor\n",
      "876              Gustafsson, Mr. Alfred Ossian\n",
      "877                       Petroff, Mr. Nedelio\n",
      "878                         Laleff, Mr. Kristo\n",
      "881                         Markun, Mr. Johann\n",
      "883              Banfield, Mr. Frederick James\n",
      "884                     Sutehall, Mr. Henry Jr\n",
      "886                      Montvila, Rev. Juozas\n",
      "889                      Behr, Mr. Karl Howell\n",
      "890                        Dooley, Mr. Patrick\n",
      "Name: name, Length: 577, dtype: object\n"
     ]
    }
   ],
   "source": [
    "print(df_maless)"
   ]
  },
  {
   "cell_type": "code",
   "execution_count": 124,
   "metadata": {},
   "outputs": [
    {
     "name": "stdout",
     "output_type": "stream",
     "text": [
      "1      Cumings, Mrs. John Bradley (Florence Briggs Th...\n",
      "2                                 Heikkinen, Miss. Laina\n",
      "3           Futrelle, Mrs. Jacques Heath (Lily May Peel)\n",
      "8      Johnson, Mrs. Oscar W (Elisabeth Vilhelmina Berg)\n",
      "9                    Nasser, Mrs. Nicholas (Adele Achem)\n",
      "10                       Sandstrom, Miss. Marguerite Rut\n",
      "11                              Bonnell, Miss. Elizabeth\n",
      "14                  Vestrom, Miss. Hulda Amanda Adolfina\n",
      "15                      Hewlett, Mrs. (Mary D Kingcome) \n",
      "18     Vander Planke, Mrs. Julius (Emelia Maria Vande...\n",
      "19                               Masselmani, Mrs. Fatima\n",
      "22                           McGowan, Miss. Anna \"Annie\"\n",
      "24                         Palsson, Miss. Torborg Danira\n",
      "25     Asplund, Mrs. Carl Oscar (Selma Augusta Emilia...\n",
      "28                         O'Dwyer, Miss. Ellen \"Nellie\"\n",
      "31        Spencer, Mrs. William Augustus (Marie Eugenie)\n",
      "32                              Glynn, Miss. Mary Agatha\n",
      "38                    Vander Planke, Miss. Augusta Maria\n",
      "39                           Nicola-Yarred, Miss. Jamila\n",
      "40        Ahlin, Mrs. Johan (Johanna Persdotter Larsson)\n",
      "41     Turpin, Mrs. William John Robert (Dorothy Ann ...\n",
      "43              Laroche, Miss. Simonne Marie Anne Andree\n",
      "44                         Devaney, Miss. Margaret Delia\n",
      "47                             O'Driscoll, Miss. Bridget\n",
      "49         Arnold-Franchi, Mrs. Josef (Josefine Franchi)\n",
      "52              Harper, Mrs. Henry Sleeper (Myna Haxtun)\n",
      "53     Faunthorpe, Mrs. Lizzie (Elizabeth Anne Wilkin...\n",
      "56                                     Rugg, Miss. Emily\n",
      "58                          West, Miss. Constance Mirium\n",
      "61                                   Icard, Miss. Amelie\n",
      "                             ...                        \n",
      "807                      Pettersson, Miss. Ellen Natalia\n",
      "809       Chambers, Mrs. Norman Campbell (Bertha Griggs)\n",
      "813                   Andersson, Miss. Ebba Iris Alfrida\n",
      "816                         Heininen, Miss. Wendla Maria\n",
      "820    Hays, Mrs. Charles Melville (Clara Jennings Gr...\n",
      "823                                   Moor, Mrs. (Beila)\n",
      "829            Stone, Mrs. George Nelson (Martha Evelyn)\n",
      "830              Yasbeck, Mrs. Antoni (Selini Alexander)\n",
      "835                          Compton, Miss. Sara Rebecca\n",
      "842                              Serepeca, Miss. Augusta\n",
      "849         Goldenberg, Mrs. Samuel L (Edwiga Grabowska)\n",
      "852                              Boulos, Miss. Nourelain\n",
      "853                            Lines, Miss. Mary Conover\n",
      "854        Carter, Mrs. Ernest Courtenay (Lilian Hughes)\n",
      "855                           Aks, Mrs. Sam (Leah Rosen)\n",
      "856           Wick, Mrs. George Dennick (Mary Hitchcock)\n",
      "858                Baclini, Mrs. Solomon (Latifa Qurban)\n",
      "862    Swift, Mrs. Frederick Joel (Margaret Welles Ba...\n",
      "863                    Sage, Miss. Dorothy Edith \"Dolly\"\n",
      "865                             Bystrom, Mrs. (Karolina)\n",
      "866                         Duran y More, Miss. Asuncion\n",
      "871     Beckwith, Mrs. Richard Leonard (Sallie Monypeny)\n",
      "874                Abelson, Mrs. Samuel (Hannah Wizosky)\n",
      "875                     Najib, Miss. Adele Kiamie \"Jane\"\n",
      "879        Potter, Mrs. Thomas Jr (Lily Alexenia Wilson)\n",
      "880         Shelley, Mrs. William (Imanita Parrish Hall)\n",
      "882                         Dahlberg, Miss. Gerda Ulrika\n",
      "885                 Rice, Mrs. William (Margaret Norton)\n",
      "887                         Graham, Miss. Margaret Edith\n",
      "888             Johnston, Miss. Catherine Helen \"Carrie\"\n",
      "Name: name, Length: 314, dtype: object\n"
     ]
    }
   ],
   "source": [
    "print(df_femaless)"
   ]
  },
  {
   "cell_type": "code",
   "execution_count": 125,
   "metadata": {},
   "outputs": [
    {
     "name": "stdout",
     "output_type": "stream",
     "text": [
      "17                          Williams, Mr. Charles Eugene\n",
      "21                                 Beesley, Mr. Lawrence\n",
      "23                          Sloper, Mr. William Thompson\n",
      "36                                      Mamee, Mr. Hanna\n",
      "55                                     Woolner, Mr. Hugh\n",
      "65                              Moubarek, Master. Gerios\n",
      "74                                         Bing, Mr. Lee\n",
      "78                         Caldwell, Master. Alden Gates\n",
      "81                           Sheerlinck, Mr. Jan Baptist\n",
      "97                       Greenfield, Mr. William Bertram\n",
      "107                               Moss, Mr. Albert Johan\n",
      "125                         Nicola-Yarred, Master. Elias\n",
      "127                            Madsen, Mr. Fridtjof Arne\n",
      "146         Andersson, Mr. August Edvard (\"Wennerstrom\")\n",
      "165      Goldsmith, Master. Frank John William \"Frankie\"\n",
      "183                            Becker, Master. Richard F\n",
      "187        Romaine, Mr. Charles Hallace (\"Mr C Rolmane\")\n",
      "193                           Navratil, Master. Michel M\n",
      "204                             Cohen, Mr. Gurshon \"Gus\"\n",
      "207                          Albimona, Mr. Nassef Cassem\n",
      "209                                     Blank, Mr. Henry\n",
      "220                       Sunderland, Mr. Victor Francis\n",
      "224                         Hoyt, Mr. Frederick Maxfield\n",
      "226                            Mellors, Mr. William John\n",
      "248                        Beckwith, Mr. Richard Leonard\n",
      "261                    Asplund, Master. Edvin Rojj Felix\n",
      "267                             Persson, Mr. Ernst Ulrik\n",
      "271                         Tornquist, Mr. William Henry\n",
      "283                           Dorking, Mr. Edward Arthur\n",
      "286                              de Mulder, Mr. Theodore\n",
      "                             ...                        \n",
      "664                          Lindqvist, Mr. Eino William\n",
      "673                                Wilhelms, Mr. Charles\n",
      "679                   Cardeza, Mr. Thomas Drake Martinez\n",
      "681                                   Hassab, Mr. Hammad\n",
      "690                              Dick, Mr. Albert Adrian\n",
      "692                                         Lam, Mr. Ali\n",
      "701                     Silverthorne, Mr. Spencer Victor\n",
      "707                    Calderhead, Mr. Edward Pennington\n",
      "709    Moubarek, Master. Halim Gonios (\"William George\")\n",
      "712                             Taylor, Mr. Elmer Zebley\n",
      "724                        Chambers, Mr. Norman Campbell\n",
      "737                               Lesurer, Mr. Gustave J\n",
      "740                          Hawksford, Mr. Walter James\n",
      "744                                   Stranden, Mr. Juho\n",
      "751                                  Moor, Master. Meier\n",
      "755                            Hamalainen, Master. Viljo\n",
      "762                                Barah, Mr. Hanna Assi\n",
      "788                           Dean, Master. Bertram Vere\n",
      "802                  Carter, Master. William Thornton II\n",
      "803                      Thomas, Master. Assad Alexander\n",
      "804                              Hedman, Mr. Oskar Arvid\n",
      "821                                    Lulic, Mr. Nikola\n",
      "827                                Mallet, Master. Andre\n",
      "828                         McCormack, Mr. Thomas Joseph\n",
      "831                      Richards, Master. George Sibley\n",
      "838                                      Chip, Mr. Chang\n",
      "839                                 Marechal, Mr. Pierre\n",
      "857                               Daly, Mr. Peter Denis \n",
      "869                      Johnson, Master. Harold Theodor\n",
      "889                                Behr, Mr. Karl Howell\n",
      "Name: name, Length: 109, dtype: object\n"
     ]
    }
   ],
   "source": [
    "print(df_maless[df['survived']==1])"
   ]
  },
  {
   "cell_type": "code",
   "execution_count": 126,
   "metadata": {},
   "outputs": [
    {
     "name": "stdout",
     "output_type": "stream",
     "text": [
      "1      Cumings, Mrs. John Bradley (Florence Briggs Th...\n",
      "2                                 Heikkinen, Miss. Laina\n",
      "3           Futrelle, Mrs. Jacques Heath (Lily May Peel)\n",
      "8      Johnson, Mrs. Oscar W (Elisabeth Vilhelmina Berg)\n",
      "9                    Nasser, Mrs. Nicholas (Adele Achem)\n",
      "10                       Sandstrom, Miss. Marguerite Rut\n",
      "11                              Bonnell, Miss. Elizabeth\n",
      "15                      Hewlett, Mrs. (Mary D Kingcome) \n",
      "19                               Masselmani, Mrs. Fatima\n",
      "22                           McGowan, Miss. Anna \"Annie\"\n",
      "25     Asplund, Mrs. Carl Oscar (Selma Augusta Emilia...\n",
      "28                         O'Dwyer, Miss. Ellen \"Nellie\"\n",
      "31        Spencer, Mrs. William Augustus (Marie Eugenie)\n",
      "32                              Glynn, Miss. Mary Agatha\n",
      "39                           Nicola-Yarred, Miss. Jamila\n",
      "43              Laroche, Miss. Simonne Marie Anne Andree\n",
      "44                         Devaney, Miss. Margaret Delia\n",
      "47                             O'Driscoll, Miss. Bridget\n",
      "52              Harper, Mrs. Henry Sleeper (Myna Haxtun)\n",
      "53     Faunthorpe, Mrs. Lizzie (Elizabeth Anne Wilkin...\n",
      "56                                     Rugg, Miss. Emily\n",
      "58                          West, Miss. Constance Mirium\n",
      "61                                   Icard, Miss. Amelie\n",
      "66                          Nye, Mrs. (Elizabeth Ramell)\n",
      "68                       Andersson, Miss. Erna Alexandra\n",
      "79                              Dowdell, Miss. Elizabeth\n",
      "82                        McDermott, Miss. Brigdet Delia\n",
      "84                                   Ilett, Miss. Bertha\n",
      "85     Backstrom, Mrs. Karl Alfred (Maria Mathilda Gu...\n",
      "88                            Fortune, Miss. Mabel Helen\n",
      "                             ...                        \n",
      "774                Hocking, Mrs. Elizabeth (Eliza Needs)\n",
      "777                        Emanuel, Miss. Virginia Ethel\n",
      "779    Robert, Mrs. Edward Scott (Elisabeth Walton Mc...\n",
      "780                                 Ayoub, Miss. Banoura\n",
      "781            Dick, Mrs. Albert Adrian (Vera Gillespie)\n",
      "786                            Sjoblom, Miss. Anna Sofia\n",
      "796                          Leader, Dr. Alice (Farnham)\n",
      "797                                     Osman, Mrs. Mara\n",
      "801          Collyer, Mrs. Harvey (Charlotte Annie Tate)\n",
      "809       Chambers, Mrs. Norman Campbell (Bertha Griggs)\n",
      "820    Hays, Mrs. Charles Melville (Clara Jennings Gr...\n",
      "823                                   Moor, Mrs. (Beila)\n",
      "829            Stone, Mrs. George Nelson (Martha Evelyn)\n",
      "830              Yasbeck, Mrs. Antoni (Selini Alexander)\n",
      "835                          Compton, Miss. Sara Rebecca\n",
      "842                              Serepeca, Miss. Augusta\n",
      "849         Goldenberg, Mrs. Samuel L (Edwiga Grabowska)\n",
      "853                            Lines, Miss. Mary Conover\n",
      "855                           Aks, Mrs. Sam (Leah Rosen)\n",
      "856           Wick, Mrs. George Dennick (Mary Hitchcock)\n",
      "858                Baclini, Mrs. Solomon (Latifa Qurban)\n",
      "862    Swift, Mrs. Frederick Joel (Margaret Welles Ba...\n",
      "865                             Bystrom, Mrs. (Karolina)\n",
      "866                         Duran y More, Miss. Asuncion\n",
      "871     Beckwith, Mrs. Richard Leonard (Sallie Monypeny)\n",
      "874                Abelson, Mrs. Samuel (Hannah Wizosky)\n",
      "875                     Najib, Miss. Adele Kiamie \"Jane\"\n",
      "879        Potter, Mrs. Thomas Jr (Lily Alexenia Wilson)\n",
      "880         Shelley, Mrs. William (Imanita Parrish Hall)\n",
      "887                         Graham, Miss. Margaret Edith\n",
      "Name: name, Length: 233, dtype: object\n"
     ]
    }
   ],
   "source": [
    "print(df_femaless[df['survived']==1])"
   ]
  },
  {
   "cell_type": "code",
   "execution_count": 127,
   "metadata": {},
   "outputs": [
    {
     "name": "stdout",
     "output_type": "stream",
     "text": [
      "0                      Braund, Mr. Owen Harris\n",
      "4                     Allen, Mr. William Henry\n",
      "5                             Moran, Mr. James\n",
      "6                      McCarthy, Mr. Timothy J\n",
      "7               Palsson, Master. Gosta Leonard\n",
      "12              Saundercock, Mr. William Henry\n",
      "13                 Andersson, Mr. Anders Johan\n",
      "16                        Rice, Master. Eugene\n",
      "20                        Fynney, Mr. Joseph J\n",
      "26                     Emir, Mr. Farred Chehab\n",
      "27              Fortune, Mr. Charles Alexander\n",
      "29                         Todoroff, Mr. Lalio\n",
      "30                    Uruchurtu, Don. Manuel E\n",
      "33                       Wheadon, Mr. Edward H\n",
      "34                     Meyer, Mr. Edgar Joseph\n",
      "35              Holverson, Mr. Alexander Oskar\n",
      "37                    Cann, Mr. Ernest Charles\n",
      "42                         Kraeff, Mr. Theodor\n",
      "45                    Rogers, Mr. William John\n",
      "46                           Lennon, Mr. Denis\n",
      "48                         Samaan, Mr. Youssef\n",
      "50                  Panula, Master. Juha Niilo\n",
      "51                Nosworthy, Mr. Richard Cater\n",
      "54              Ostby, Mr. Engelhart Cornelius\n",
      "57                         Novel, Mr. Mansouer\n",
      "59          Goodwin, Master. William Frederick\n",
      "60                       Sirayanian, Mr. Orsen\n",
      "62                 Harris, Mr. Henry Birkhardt\n",
      "63                       Skoog, Master. Harald\n",
      "64                       Stewart, Mr. Albert A\n",
      "                        ...                   \n",
      "834                     Allum, Mr. Owen George\n",
      "836                           Pasic, Mr. Jakob\n",
      "837                        Sirota, Mr. Maurice\n",
      "840                Alhomaki, Mr. Ilmari Rudolf\n",
      "841                   Mudd, Mr. Thomas Charles\n",
      "843                 Lemberopolous, Mr. Peter L\n",
      "844                        Culumovic, Mr. Jeso\n",
      "845                        Abbing, Mr. Anthony\n",
      "846                   Sage, Mr. Douglas Bullen\n",
      "847                         Markoff, Mr. Marin\n",
      "848                          Harper, Rev. John\n",
      "850    Andersson, Master. Sigvard Harald Elias\n",
      "851                        Svensson, Mr. Johan\n",
      "859                           Razi, Mr. Raihed\n",
      "860                    Hansen, Mr. Claus Peter\n",
      "861                Giles, Mr. Frederick Edward\n",
      "864                     Gill, Mr. John William\n",
      "867       Roebling, Mr. Washington Augustus II\n",
      "868                van Melkebeke, Mr. Philemon\n",
      "870                          Balkic, Mr. Cerin\n",
      "872                   Carlsson, Mr. Frans Olof\n",
      "873                Vander Cruyssen, Mr. Victor\n",
      "876              Gustafsson, Mr. Alfred Ossian\n",
      "877                       Petroff, Mr. Nedelio\n",
      "878                         Laleff, Mr. Kristo\n",
      "881                         Markun, Mr. Johann\n",
      "883              Banfield, Mr. Frederick James\n",
      "884                     Sutehall, Mr. Henry Jr\n",
      "886                      Montvila, Rev. Juozas\n",
      "890                        Dooley, Mr. Patrick\n",
      "Name: name, Length: 468, dtype: object\n"
     ]
    }
   ],
   "source": [
    "print(df_maless[df['survived']==0])"
   ]
  },
  {
   "cell_type": "code",
   "execution_count": 129,
   "metadata": {},
   "outputs": [
    {
     "data": {
      "text/plain": [
       "<matplotlib.axes._subplots.AxesSubplot at 0x1d3cb635668>"
      ]
     },
     "execution_count": 129,
     "metadata": {},
     "output_type": "execute_result"
    },
    {
     "data": {
      "image/png": "[encoded data removed]",
      "text/plain": [
       "<Figure size 432x288 with 1 Axes>"
      ]
     },
     "metadata": {
      "needs_background": "light"
     },
     "output_type": "display_data"
    }
   ],
   "source": [
    "df.boxplot()"
   ]
  },
  {
   "cell_type": "code",
   "execution_count": 138,
   "metadata": {},
   "outputs": [],
   "source": [
    "a=df.head(10)"
   ]
  },
  {
   "cell_type": "code",
   "execution_count": 150,
   "metadata": {},
   "outputs": [
    {
     "data": {
      "text/plain": [
       "Text(0.5, 1.0, 'Name v/s Age')"
      ]
     },
     "execution_count": 150,
     "metadata": {},
     "output_type": "execute_result"
    },
    {
     "data": {
      "image/png": "[encoded data removed]",
      "text/plain": [
       "<Figure size 432x288 with 1 Axes>"
      ]
     },
     "metadata": {
      "needs_background": "light"
     },
     "output_type": "display_data"
    }
   ],
   "source": [
    "a.plot.bar(x='name',y='age')\n",
    "plt.title('Name v/s Age',size=18)"
   ]
  },
  {
   "cell_type": "code",
   "execution_count": 143,
   "metadata": {},
   "outputs": [
    {
     "data": {
      "text/html": [
       "<div>\n",
       "<style scoped>\n",
       "    .dataframe tbody tr th:only-of-type {\n",
       "        vertical-align: middle;\n",
       "    }\n",
       "\n",
       "    .dataframe tbody tr th {\n",
       "        vertical-align: top;\n",
       "    }\n",
       "\n",
       "    .dataframe thead th {\n",
       "        text-align: right;\n",
       "    }\n",
       "</style>\n",
       "<table border=\"1\" class=\"dataframe\">\n",
       "  <thead>\n",
       "    <tr style=\"text-align: right;\">\n",
       "      <th></th>\n",
       "      <th>survived</th>\n",
       "      <th>pclass</th>\n",
       "      <th>name</th>\n",
       "      <th>gender</th>\n",
       "      <th>age</th>\n",
       "      <th>sibsp</th>\n",
       "      <th>parch</th>\n",
       "      <th>fare</th>\n",
       "      <th>cabin</th>\n",
       "      <th>embarked</th>\n",
       "      <th>age_group</th>\n",
       "    </tr>\n",
       "  </thead>\n",
       "  <tbody>\n",
       "    <tr>\n",
       "      <th>0</th>\n",
       "      <td>0</td>\n",
       "      <td>3</td>\n",
       "      <td>Braund, Mr. Owen Harris</td>\n",
       "      <td>male</td>\n",
       "      <td>22.0</td>\n",
       "      <td>1</td>\n",
       "      <td>0</td>\n",
       "      <td>7.2500</td>\n",
       "      <td>NaN</td>\n",
       "      <td>S</td>\n",
       "      <td>youth</td>\n",
       "    </tr>\n",
       "    <tr>\n",
       "      <th>1</th>\n",
       "      <td>1</td>\n",
       "      <td>1</td>\n",
       "      <td>Cumings, Mrs. John Bradley (Florence Briggs Th...</td>\n",
       "      <td>female</td>\n",
       "      <td>38.0</td>\n",
       "      <td>1</td>\n",
       "      <td>0</td>\n",
       "      <td>71.2833</td>\n",
       "      <td>C85</td>\n",
       "      <td>C</td>\n",
       "      <td>early adult</td>\n",
       "    </tr>\n",
       "    <tr>\n",
       "      <th>2</th>\n",
       "      <td>1</td>\n",
       "      <td>3</td>\n",
       "      <td>Heikkinen, Miss. Laina</td>\n",
       "      <td>female</td>\n",
       "      <td>26.0</td>\n",
       "      <td>0</td>\n",
       "      <td>0</td>\n",
       "      <td>7.9250</td>\n",
       "      <td>NaN</td>\n",
       "      <td>S</td>\n",
       "      <td>young adult</td>\n",
       "    </tr>\n",
       "    <tr>\n",
       "      <th>3</th>\n",
       "      <td>1</td>\n",
       "      <td>1</td>\n",
       "      <td>Futrelle, Mrs. Jacques Heath (Lily May Peel)</td>\n",
       "      <td>female</td>\n",
       "      <td>35.0</td>\n",
       "      <td>1</td>\n",
       "      <td>0</td>\n",
       "      <td>53.1000</td>\n",
       "      <td>C123</td>\n",
       "      <td>S</td>\n",
       "      <td>early adult</td>\n",
       "    </tr>\n",
       "    <tr>\n",
       "      <th>4</th>\n",
       "      <td>0</td>\n",
       "      <td>3</td>\n",
       "      <td>Allen, Mr. William Henry</td>\n",
       "      <td>male</td>\n",
       "      <td>35.0</td>\n",
       "      <td>0</td>\n",
       "      <td>0</td>\n",
       "      <td>8.0500</td>\n",
       "      <td>NaN</td>\n",
       "      <td>S</td>\n",
       "      <td>early adult</td>\n",
       "    </tr>\n",
       "    <tr>\n",
       "      <th>5</th>\n",
       "      <td>0</td>\n",
       "      <td>3</td>\n",
       "      <td>Moran, Mr. James</td>\n",
       "      <td>male</td>\n",
       "      <td>NaN</td>\n",
       "      <td>0</td>\n",
       "      <td>0</td>\n",
       "      <td>8.4583</td>\n",
       "      <td>NaN</td>\n",
       "      <td>Q</td>\n",
       "      <td>NaN</td>\n",
       "    </tr>\n",
       "    <tr>\n",
       "      <th>6</th>\n",
       "      <td>0</td>\n",
       "      <td>1</td>\n",
       "      <td>McCarthy, Mr. Timothy J</td>\n",
       "      <td>male</td>\n",
       "      <td>54.0</td>\n",
       "      <td>0</td>\n",
       "      <td>0</td>\n",
       "      <td>51.8625</td>\n",
       "      <td>E46</td>\n",
       "      <td>S</td>\n",
       "      <td>early adult</td>\n",
       "    </tr>\n",
       "    <tr>\n",
       "      <th>7</th>\n",
       "      <td>0</td>\n",
       "      <td>3</td>\n",
       "      <td>Palsson, Master. Gosta Leonard</td>\n",
       "      <td>male</td>\n",
       "      <td>2.0</td>\n",
       "      <td>3</td>\n",
       "      <td>1</td>\n",
       "      <td>21.0750</td>\n",
       "      <td>NaN</td>\n",
       "      <td>S</td>\n",
       "      <td>child</td>\n",
       "    </tr>\n",
       "    <tr>\n",
       "      <th>8</th>\n",
       "      <td>1</td>\n",
       "      <td>3</td>\n",
       "      <td>Johnson, Mrs. Oscar W (Elisabeth Vilhelmina Berg)</td>\n",
       "      <td>female</td>\n",
       "      <td>27.0</td>\n",
       "      <td>0</td>\n",
       "      <td>2</td>\n",
       "      <td>11.1333</td>\n",
       "      <td>NaN</td>\n",
       "      <td>S</td>\n",
       "      <td>young adult</td>\n",
       "    </tr>\n",
       "    <tr>\n",
       "      <th>9</th>\n",
       "      <td>1</td>\n",
       "      <td>2</td>\n",
       "      <td>Nasser, Mrs. Nicholas (Adele Achem)</td>\n",
       "      <td>female</td>\n",
       "      <td>14.0</td>\n",
       "      <td>1</td>\n",
       "      <td>0</td>\n",
       "      <td>30.0708</td>\n",
       "      <td>NaN</td>\n",
       "      <td>C</td>\n",
       "      <td>child</td>\n",
       "    </tr>\n",
       "  </tbody>\n",
       "</table>\n",
       "</div>"
      ],
      "text/plain": [
       "   survived  pclass                                               name  \\\n",
       "0         0       3                            Braund, Mr. Owen Harris   \n",
       "1         1       1  Cumings, Mrs. John Bradley (Florence Briggs Th...   \n",
       "2         1       3                             Heikkinen, Miss. Laina   \n",
       "3         1       1       Futrelle, Mrs. Jacques Heath (Lily May Peel)   \n",
       "4         0       3                           Allen, Mr. William Henry   \n",
       "5         0       3                                   Moran, Mr. James   \n",
       "6         0       1                            McCarthy, Mr. Timothy J   \n",
       "7         0       3                     Palsson, Master. Gosta Leonard   \n",
       "8         1       3  Johnson, Mrs. Oscar W (Elisabeth Vilhelmina Berg)   \n",
       "9         1       2                Nasser, Mrs. Nicholas (Adele Achem)   \n",
       "\n",
       "   gender   age  sibsp  parch     fare cabin embarked    age_group  \n",
       "0    male  22.0      1      0   7.2500   NaN        S        youth  \n",
       "1  female  38.0      1      0  71.2833   C85        C  early adult  \n",
       "2  female  26.0      0      0   7.9250   NaN        S  young adult  \n",
       "3  female  35.0      1      0  53.1000  C123        S  early adult  \n",
       "4    male  35.0      0      0   8.0500   NaN        S  early adult  \n",
       "5    male   NaN      0      0   8.4583   NaN        Q          NaN  \n",
       "6    male  54.0      0      0  51.8625   E46        S  early adult  \n",
       "7    male   2.0      3      1  21.0750   NaN        S        child  \n",
       "8  female  27.0      0      2  11.1333   NaN        S  young adult  \n",
       "9  female  14.0      1      0  30.0708   NaN        C        child  "
      ]
     },
     "execution_count": 143,
     "metadata": {},
     "output_type": "execute_result"
    }
   ],
   "source": [
    "a"
   ]
  },
  {
   "cell_type": "code",
   "execution_count": 149,
   "metadata": {},
   "outputs": [
    {
     "data": {
      "text/plain": [
       "Text(0.5, 1.0, 'Pclass v/s Age')"
      ]
     },
     "execution_count": 149,
     "metadata": {},
     "output_type": "execute_result"
    },
    {
     "data": {
      "image/png": "[encoded data removed]",
      "text/plain": [
       "<Figure size 432x288 with 1 Axes>"
      ]
     },
     "metadata": {
      "needs_background": "light"
     },
     "output_type": "display_data"
    }
   ],
   "source": [
    "a.plot.bar(x='pclass',y='age')\n",
    "plt.title('Pclass v/s Age',size=20)"
   ]
  },
  {
   "cell_type": "code",
   "execution_count": 152,
   "metadata": {
    "scrolled": true
   },
   "outputs": [
    {
     "data": {
      "image/png": "[encoded data removed]",
      "text/plain": [
       "<Figure size 842.4x595.44 with 1 Axes>"
      ]
     },
     "metadata": {},
     "output_type": "display_data"
    }
   ],
   "source": [
    "sns.set(rc={'figure.figsize':(11.7,8.27)})\n",
    "sns.swarmplot(x=\"age_group\", y=\"age\", hue=\"survived\",\n",
    "              palette=[\"r\", \"c\", \"y\"], data=df)\n",
    "plt.show()"
   ]
  },
  {
   "cell_type": "code",
   "execution_count": null,
   "metadata": {},
   "outputs": [],
   "source": []
  },
  {
   "cell_type": "code",
   "execution_count": null,
   "metadata": {},
   "outputs": [],
   "source": []
  },
  {
   "cell_type": "code",
   "execution_count": null,
   "metadata": {},
   "outputs": [],
   "source": []
  }
 ],
 "metadata": {
  "kernelspec": {
   "display_name": "Python 3",
   "language": "python",
   "name": "python3"
  },
  "language_info": {
   "codemirror_mode": {
    "name": "ipython",
    "version": 3
   },
   "file_extension": ".py",
   "mimetype": "text/x-python",
   "name": "python",
   "nbconvert_exporter": "python",
   "pygments_lexer": "ipython3",
   "version": "3.7.3"
  }
 },
 "nbformat": 4,
 "nbformat_minor": 2
}
